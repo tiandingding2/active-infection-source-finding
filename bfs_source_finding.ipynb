{
 "cells": [
  {
   "cell_type": "code",
   "execution_count": 1,
   "metadata": {
    "collapsed": true
   },
   "outputs": [],
   "source": [
    "%matplotlib inline\n",
    "\n",
    "import numpy as np\n",
    "import random\n",
    "from graph_generator import kronecker_random_graph\n",
    "from cascade import generate_cascade"
   ]
  },
  {
   "cell_type": "code",
   "execution_count": 2,
   "metadata": {
    "collapsed": true
   },
   "outputs": [],
   "source": [
    "P_peri = np.array([[0.9, 0.1], [0.1, 0.3]])"
   ]
  },
  {
   "cell_type": "code",
   "execution_count": 3,
   "metadata": {
    "collapsed": false
   },
   "outputs": [],
   "source": [
    "def run_simulation(P, k, n_edges):\n",
    "    g = kronecker_random_graph(k, P, directed=False, n_edges=n_edges)\n",
    "    g = g.subgraph(max(nx.connected_components(g), key=len))\n",
    "\n",
    "    percentage = 0.2\n",
    "\n",
    "    infected_times = None\n",
    "    for _ in range(100):\n",
    "        infected_times = generate_cascade(g)\n",
    "        if len(infected_times) > 10:\n",
    "            break\n",
    "\n",
    "    assert infected_times is not None\n",
    "\n",
    "    source = min(infected_times, key=lambda k: infected_times[k])\n",
    "    infected_minus_source = set(infected_times.keys()) - {source}\n",
    "\n",
    "    observed = {n: infected_times[n]\n",
    "                for n in random.sample(infected_minus_source,\n",
    "                                       int(len(infected_minus_source) * percentage))}\n",
    "    assert source not in observed\n",
    "    \n",
    "    # BFS-style searching\n",
    "    current_node = min(observed, key=lambda k: observed[k])\n",
    "    query_n = 0\n",
    "    while True:\n",
    "        if current_node == source:  # to be fair with pagerank approach\n",
    "            break\n",
    "        # print('current eariliest infected node {} ({})'.format(current_node, observed[current_node]))\n",
    "        queries = [n for n in g.neighbors(current_node)\n",
    "                   if n not in observed]\n",
    "        query_n += len(queries)\n",
    "        newly_found_infections = {q: infected_times.get(q)\n",
    "                                  for q in queries \n",
    "                                  if infected_times.get(q) is not None}\n",
    "        newly_found_earlier_infections = [q\n",
    "                                          for q in newly_found_infections\n",
    "                                          if infected_times[q] < infected_times[current_node]]\n",
    "        if len(newly_found_earlier_infections) == 0:\n",
    "            break\n",
    "        else:\n",
    "            observed.update(newly_found_infections)        \n",
    "            current_node = min(newly_found_earlier_infections, key=lambda k: observed[k])\n",
    "\n",
    "    assert current_node == source, '{}({}) !== {}({})'.format(current_node, infected_times[current_node],\n",
    "                                                              source, infected_times[source])\n",
    "    return g, infected_times, query_n"
   ]
  },
  {
   "cell_type": "code",
   "execution_count": 4,
   "metadata": {
    "collapsed": false
   },
   "outputs": [],
   "source": [
    "from joblib import Parallel, delayed\n",
    "rows = Parallel(n_jobs=8)(delayed(run_simulation)(P_peri, 8, 512) for _ in range(100))\n"
   ]
  },
  {
   "cell_type": "code",
   "execution_count": 5,
   "metadata": {
    "collapsed": false
   },
   "outputs": [],
   "source": [
    "data = map(lambda t: (len(t[1]), t[2]), rows)\n",
    "df = pd.DataFrame(list(data), columns=['csize', 'qsize'])"
   ]
  },
  {
   "cell_type": "code",
   "execution_count": 6,
   "metadata": {
    "collapsed": false
   },
   "outputs": [],
   "source": [
    "cs = df['csize'].describe()\n",
    "qs = df['qsize'].describe()\n",
    "rs = (df['qsize'] / df['csize']).describe()\n",
    "\n",
    "stat = pd.DataFrame([cs.as_matrix(), qs.as_matrix(), rs.as_matrix()],\n",
    "                    columns=rs.index,\n",
    "                    index=['cascade size', 'query size', 'query size / cascade size'])"
   ]
  },
  {
   "cell_type": "code",
   "execution_count": 7,
   "metadata": {
    "collapsed": false
   },
   "outputs": [
    {
     "data": {
      "text/html": [
       "<div>\n",
       "<table border=\"1\" class=\"dataframe\">\n",
       "  <thead>\n",
       "    <tr style=\"text-align: right;\">\n",
       "      <th></th>\n",
       "      <th>count</th>\n",
       "      <th>mean</th>\n",
       "      <th>std</th>\n",
       "      <th>min</th>\n",
       "      <th>25%</th>\n",
       "      <th>50%</th>\n",
       "      <th>75%</th>\n",
       "      <th>max</th>\n",
       "    </tr>\n",
       "  </thead>\n",
       "  <tbody>\n",
       "    <tr>\n",
       "      <th>cascade size</th>\n",
       "      <td>100.0</td>\n",
       "      <td>66.310000</td>\n",
       "      <td>40.758142</td>\n",
       "      <td>11.000000</td>\n",
       "      <td>26.000000</td>\n",
       "      <td>60.000000</td>\n",
       "      <td>107.250000</td>\n",
       "      <td>129.000000</td>\n",
       "    </tr>\n",
       "    <tr>\n",
       "      <th>query size</th>\n",
       "      <td>100.0</td>\n",
       "      <td>11.750000</td>\n",
       "      <td>8.068363</td>\n",
       "      <td>1.000000</td>\n",
       "      <td>6.000000</td>\n",
       "      <td>9.500000</td>\n",
       "      <td>16.250000</td>\n",
       "      <td>33.000000</td>\n",
       "    </tr>\n",
       "    <tr>\n",
       "      <th>query size / cascade size</th>\n",
       "      <td>100.0</td>\n",
       "      <td>0.327399</td>\n",
       "      <td>0.375362</td>\n",
       "      <td>0.008621</td>\n",
       "      <td>0.070244</td>\n",
       "      <td>0.173954</td>\n",
       "      <td>0.440994</td>\n",
       "      <td>1.727273</td>\n",
       "    </tr>\n",
       "  </tbody>\n",
       "</table>\n",
       "</div>"
      ],
      "text/plain": [
       "                           count       mean        std        min        25%  \\\n",
       "cascade size               100.0  66.310000  40.758142  11.000000  26.000000   \n",
       "query size                 100.0  11.750000   8.068363   1.000000   6.000000   \n",
       "query size / cascade size  100.0   0.327399   0.375362   0.008621   0.070244   \n",
       "\n",
       "                                 50%         75%         max  \n",
       "cascade size               60.000000  107.250000  129.000000  \n",
       "query size                  9.500000   16.250000   33.000000  \n",
       "query size / cascade size   0.173954    0.440994    1.727273  "
      ]
     },
     "execution_count": 7,
     "metadata": {},
     "output_type": "execute_result"
    }
   ],
   "source": [
    "stat"
   ]
  }
 ],
 "metadata": {
  "kernelspec": {
   "display_name": "Python 3",
   "language": "python",
   "name": "python3"
  },
  "language_info": {
   "codemirror_mode": {
    "name": "ipython",
    "version": 3
   },
   "file_extension": ".py",
   "mimetype": "text/x-python",
   "name": "python",
   "nbconvert_exporter": "python",
   "pygments_lexer": "ipython3",
   "version": "3.5.2"
  }
 },
 "nbformat": 4,
 "nbformat_minor": 0
}

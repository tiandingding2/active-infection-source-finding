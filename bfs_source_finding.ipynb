{
 "cells": [
  {
   "cell_type": "code",
   "execution_count": 93,
   "metadata": {
    "collapsed": true
   },
   "outputs": [],
   "source": [
    "%matplotlib inline\n",
    "\n",
    "import numpy as np\n",
    "import random\n",
    "from graph_generator import kronecker_random_graph\n",
    "from cascade import generate_cascade"
   ]
  },
  {
   "cell_type": "code",
   "execution_count": 102,
   "metadata": {
    "collapsed": true
   },
   "outputs": [],
   "source": [
    "def generate_cascade(g):\n",
    "    g = g.copy()\n",
    "    source = random.choice(g.nodes())\n",
    "    infected = {source}\n",
    "    infected_times = {source: 0}\n",
    "    iter_n = 0\n",
    "    while True:\n",
    "        iter_n += 1\n",
    "        newly_infected = set()\n",
    "        for u in infected:\n",
    "            can_continue = False\n",
    "            for v in g.neighbors(u):\n",
    "                if v not in infected and not g[u][v].get('attempted', False):\n",
    "                    can_continue = True\n",
    "                    p_uv = 0.5  # proba of getting infected                                                                                                   \n",
    "                    if random.random() < p_uv:\n",
    "                        newly_infected.add(v)\n",
    "                        infected_times[v] = iter_n\n",
    "                    g[u][v]['attempted'] = True\n",
    "        infected |= newly_infected\n",
    "        if not can_continue:\n",
    "            break\n",
    "    return infected_times"
   ]
  },
  {
   "cell_type": "code",
   "execution_count": 156,
   "metadata": {
    "collapsed": true
   },
   "outputs": [],
   "source": [
    "P_peri = np.array([[0.9, 0.1], [0.1, 0.3]])"
   ]
  },
  {
   "cell_type": "code",
   "execution_count": 194,
   "metadata": {
    "collapsed": false
   },
   "outputs": [],
   "source": [
    "def run_simulation(P, k, n_edges):\n",
    "    g = kronecker_random_graph(k, P, directed=False, n_edges=n_edges)\n",
    "    g = g.subgraph(max(nx.connected_components(g), key=len))\n",
    "\n",
    "    percentage = 0.2\n",
    "\n",
    "    infected_times = None\n",
    "    for _ in range(100):\n",
    "        infected_times = generate_cascade(g)\n",
    "        if len(infected_times) > 10:\n",
    "            break\n",
    "\n",
    "    assert infected_times is not None\n",
    "\n",
    "    source = min(infected_times, key=lambda k: infected_times[k])\n",
    "    infected_minus_source = set(infected_times.keys()) - {source}\n",
    "\n",
    "    observed = {n: infected_times[n]\n",
    "                for n in random.sample(infected_minus_source,\n",
    "                                       int(len(infected_minus_source) * percentage))}\n",
    "    assert source not in observed\n",
    "    \n",
    "    # BFS-style searching\n",
    "    current_node = min(observed, key=lambda k: observed[k])\n",
    "    query_n = 0\n",
    "    while True:\n",
    "        # print('current eariliest infected node {} ({})'.format(current_node, observed[current_node]))\n",
    "        queries = [n for n in g.neighbors(current_node)\n",
    "                   if n not in observed]\n",
    "        query_n += len(queries)\n",
    "        newly_found_infections = {q: infected_times.get(q)\n",
    "                                  for q in queries \n",
    "                                  if infected_times.get(q) is not None}\n",
    "        newly_found_earlier_infections = [q\n",
    "                                          for q in newly_found_infections\n",
    "                                          if infected_times[q] < infected_times[current_node]]\n",
    "        if len(newly_found_earlier_infections) == 0:\n",
    "            break\n",
    "        else:\n",
    "            observed.update(newly_found_infections)        \n",
    "            current_node = min(newly_found_earlier_infections, key=lambda k: observed[k])\n",
    "\n",
    "    assert current_node == source, '{}({}) !== {}({})'.format(current_node, infected_times[current_node],\n",
    "                                                              source, infected_times[source])\n",
    "    return g, infected_times, query_n"
   ]
  },
  {
   "cell_type": "code",
   "execution_count": 195,
   "metadata": {
    "collapsed": false
   },
   "outputs": [],
   "source": [
    "from joblib import Parallel, delayed\n",
    "rows = Parallel(n_jobs=8)(delayed(run_simulation)(P_peri, 8, 512) for _ in range(100))\n"
   ]
  },
  {
   "cell_type": "code",
   "execution_count": 198,
   "metadata": {
    "collapsed": false
   },
   "outputs": [],
   "source": [
    "data = map(lambda t: (len(t[1]), t[2]), rows)\n",
    "df = pd.DataFrame(list(data), columns=['csize', 'qsize'])"
   ]
  },
  {
   "cell_type": "code",
   "execution_count": 201,
   "metadata": {
    "collapsed": false
   },
   "outputs": [],
   "source": [
    "cs = df['csize'].describe()\n",
    "qs = df['qsize'].describe()\n",
    "rs = (df['qsize'] / df['csize']).describe()\n",
    "\n",
    "stat = pd.DataFrame([cs.as_matrix(), qs.as_matrix(), rs.as_matrix()],\n",
    "                    columns=rs.index,\n",
    "                    index=['cascade size', 'query size', 'query size / cascade size'])"
   ]
  },
  {
   "cell_type": "code",
   "execution_count": 202,
   "metadata": {
    "collapsed": false
   },
   "outputs": [
    {
     "data": {
      "text/html": [
       "<div>\n",
       "<table border=\"1\" class=\"dataframe\">\n",
       "  <thead>\n",
       "    <tr style=\"text-align: right;\">\n",
       "      <th></th>\n",
       "      <th>count</th>\n",
       "      <th>mean</th>\n",
       "      <th>std</th>\n",
       "      <th>min</th>\n",
       "      <th>25%</th>\n",
       "      <th>50%</th>\n",
       "      <th>75%</th>\n",
       "      <th>max</th>\n",
       "    </tr>\n",
       "  </thead>\n",
       "  <tbody>\n",
       "    <tr>\n",
       "      <th>cascade size</th>\n",
       "      <td>100.0</td>\n",
       "      <td>68.520000</td>\n",
       "      <td>37.230779</td>\n",
       "      <td>11.000000</td>\n",
       "      <td>33.750000</td>\n",
       "      <td>72.500000</td>\n",
       "      <td>101.250000</td>\n",
       "      <td>128.000000</td>\n",
       "    </tr>\n",
       "    <tr>\n",
       "      <th>query size</th>\n",
       "      <td>100.0</td>\n",
       "      <td>18.170000</td>\n",
       "      <td>9.535743</td>\n",
       "      <td>3.000000</td>\n",
       "      <td>9.750000</td>\n",
       "      <td>18.000000</td>\n",
       "      <td>26.000000</td>\n",
       "      <td>40.000000</td>\n",
       "    </tr>\n",
       "    <tr>\n",
       "      <th>query size / cascade size</th>\n",
       "      <td>100.0</td>\n",
       "      <td>0.439443</td>\n",
       "      <td>0.553603</td>\n",
       "      <td>0.025424</td>\n",
       "      <td>0.164474</td>\n",
       "      <td>0.253247</td>\n",
       "      <td>0.416915</td>\n",
       "      <td>3.454545</td>\n",
       "    </tr>\n",
       "  </tbody>\n",
       "</table>\n",
       "</div>"
      ],
      "text/plain": [
       "                           count       mean        std        min        25%  \\\n",
       "cascade size               100.0  68.520000  37.230779  11.000000  33.750000   \n",
       "query size                 100.0  18.170000   9.535743   3.000000   9.750000   \n",
       "query size / cascade size  100.0   0.439443   0.553603   0.025424   0.164474   \n",
       "\n",
       "                                 50%         75%         max  \n",
       "cascade size               72.500000  101.250000  128.000000  \n",
       "query size                 18.000000   26.000000   40.000000  \n",
       "query size / cascade size   0.253247    0.416915    3.454545  "
      ]
     },
     "execution_count": 202,
     "metadata": {},
     "output_type": "execute_result"
    }
   ],
   "source": [
    "stat"
   ]
  }
 ],
 "metadata": {
  "kernelspec": {
   "display_name": "Python 3",
   "language": "python",
   "name": "python3"
  },
  "language_info": {
   "codemirror_mode": {
    "name": "ipython",
    "version": 3
   },
   "file_extension": ".py",
   "mimetype": "text/x-python",
   "name": "python",
   "nbconvert_exporter": "python",
   "pygments_lexer": "ipython3",
   "version": "3.5.2"
  }
 },
 "nbformat": 4,
 "nbformat_minor": 0
}

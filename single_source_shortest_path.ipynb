{
 "cells": [
  {
   "cell_type": "code",
   "execution_count": 4,
   "metadata": {
    "collapsed": true
   },
   "outputs": [],
   "source": [
    "import networkx as nx\n",
    "from synthetic_data import load_data_by_gtype"
   ]
  },
  {
   "cell_type": "code",
   "execution_count": 10,
   "metadata": {
    "collapsed": true
   },
   "outputs": [],
   "source": [
    "g = load_data_by_gtype('grid', '2-6')[0]"
   ]
  },
  {
   "cell_type": "code",
   "execution_count": 1,
   "metadata": {
    "collapsed": true
   },
   "outputs": [],
   "source": [
    "def single_source_shortest_path_length(G,source,cutoff=None):\n",
    "    seen={}                  # level (number of hops) when seen in BFS\n",
    "    level=0                  # the current level\n",
    "    nextlevel={source:1}  # dict of nodes to check at next level\n",
    "    while nextlevel:\n",
    "        thislevel=nextlevel  # advance to next level\n",
    "        nextlevel={}         # and start a new list (fringe)\n",
    "        for v in thislevel:\n",
    "            if v not in seen:\n",
    "                seen[v]=level # set the level of vertex v\n",
    "                nextlevel.update(G[v]) # add neighbors of v\n",
    "        if (cutoff is not None and cutoff <= level):  break\n",
    "        level=level+1\n",
    "    return seen  # return all path lengths as dictionary\n"
   ]
  },
  {
   "cell_type": "code",
   "execution_count": 13,
   "metadata": {
    "collapsed": false
   },
   "outputs": [
    {
     "name": "stdout",
     "output_type": "stream",
     "text": [
      "The slowest run took 6.99 times longer than the fastest. This could mean that an intermediate result is being cached.\n",
      "100 loops, best of 3: 4.58 ms per loop\n"
     ]
    }
   ],
   "source": [
    "%%timeit\n",
    "single_source_shortest_path_length(g, next(g.nodes_iter()))"
   ]
  },
  {
   "cell_type": "code",
   "execution_count": 21,
   "metadata": {
    "collapsed": true
   },
   "outputs": [],
   "source": [
    "def single_source_shortest_path_length_modified(G,source,cutoff=None):\n",
    "    seen={}                  # level (number of hops) when seen in BFS\n",
    "    level=0                  # the current level\n",
    "    nextlevel={source}  # dict of nodes to check at next level\n",
    "    nbrs = {n: set(g[n].keys()) for n in G.nodes_iter()}\n",
    "    while nextlevel:\n",
    "        thislevel=nextlevel  # advance to next level\n",
    "        nextlevel=set()         # and start a new list (fringe)\n",
    "        for v in thislevel:\n",
    "            if v not in seen:\n",
    "                seen[v]=level # set the level of vertex v\n",
    "                nextlevel |= nbrs[v] # add neighbors of v\n",
    "        if (cutoff is not None and cutoff <= level):  break\n",
    "        level=level+1\n",
    "    return seen  # return all path lengths as dictionary\n"
   ]
  },
  {
   "cell_type": "code",
   "execution_count": 22,
   "metadata": {
    "collapsed": false
   },
   "outputs": [
    {
     "name": "stdout",
     "output_type": "stream",
     "text": [
      "The slowest run took 6.76 times longer than the fastest. This could mean that an intermediate result is being cached.\n",
      "100 loops, best of 3: 4.76 ms per loop\n"
     ]
    }
   ],
   "source": [
    "%timeit single_source_shortest_path_length(g, next(g.nodes_iter()))"
   ]
  }
 ],
 "metadata": {
  "kernelspec": {
   "display_name": "Python 3",
   "language": "python",
   "name": "python3"
  },
  "language_info": {
   "codemirror_mode": {
    "name": "ipython",
    "version": 3
   },
   "file_extension": ".py",
   "mimetype": "text/x-python",
   "name": "python",
   "nbconvert_exporter": "python",
   "pygments_lexer": "ipython3",
   "version": "3.5.2"
  }
 },
 "nbformat": 4,
 "nbformat_minor": 2
}

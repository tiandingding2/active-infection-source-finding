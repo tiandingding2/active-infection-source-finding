{
 "cells": [
  {
   "cell_type": "code",
   "execution_count": 1,
   "metadata": {
    "collapsed": false,
    "deletable": true,
    "editable": true
   },
   "outputs": [],
   "source": [
    "%matplotlib notebook\n",
    "# starter code\n",
    "import random\n",
    "import numpy as np\n",
    "from matplotlib import pyplot as plt\n",
    "from tqdm import tqdm\n",
    "import networkx as nx\n",
    "from graph_tool.all import load_graph, shortest_distance, GraphView, pbfs_search, BFSVisitor, Graph, min_spanning_tree\n",
    "from networkx.drawing.nx_agraph import graphviz_layout\n",
    "\n",
    "from cascade import gen_nontrivial_cascade\n",
    "from utils import get_rank_index\n",
    "\n",
    "seed = 123456\n",
    "random.seed(seed)\n",
    "np.random.seed(seed)\n",
    "\n",
    "gtype = 'grid'\n",
    "g = load_graph('data/{}/2-6/graph.gt'.format(gtype))\n",
    "gnx = nx.read_graphml('data/{}/2-6/graph.graphml'.format(gtype))\n",
    "gnx = nx.relabel_nodes(gnx, {i: int(i) for i in gnx.nodes_iter()})\n",
    "N1, N2 = 100, 100\n",
    "p, q = 0.5, 0.1\n",
    "\n",
    "pos = graphviz_layout(gnx, root=0)"
   ]
  },
  {
   "cell_type": "code",
   "execution_count": null,
   "metadata": {
    "collapsed": false
   },
   "outputs": [],
   "source": [
    "from steiner_tree_mst import steiner_tree_mst"
   ]
  },
  {
   "cell_type": "code",
   "execution_count": null,
   "metadata": {
    "collapsed": false
   },
   "outputs": [
    {
     "name": "stderr",
     "output_type": "stream",
     "text": [
      " 26%|██▌       | 26/100 [00:00<00:02, 28.67it/s]"
     ]
    }
   ],
   "source": [
    "from utils import earliest_obs_node\n",
    "from tqdm import tqdm\n",
    "from feasibility import is_order_respected, is_feasible\n",
    "# from steiner_tree_region_mst import steiner_tree_region_mst\n",
    "\n",
    "for i in tqdm(range(100)):\n",
    "    infection_times, source, obs_nodes, true_tree = gen_nontrivial_cascade(g, p, q, model='si', return_tree=True)\n",
    "    root = earliest_obs_node(obs_nodes, infection_times)\n",
    "\n",
    "    tree, gc, mst_tree = steiner_tree_mst(\n",
    "        g, root, infection_times, source, obs_nodes,\n",
    "        strictly_smaller=False,\n",
    "        debug=False,\n",
    "        verbose=False,\n",
    "        return_closure=True\n",
    "    )\n",
    "    assert is_order_respected(tree, root, obs_nodes, infection_times)\n",
    "    assert is_feasible(tree, root, obs_nodes, infection_times)"
   ]
  },
  {
   "cell_type": "code",
   "execution_count": null,
   "metadata": {
    "collapsed": false
   },
   "outputs": [],
   "source": [
    "print(root)\n",
    "print(list(mst_tree.edges()))\n",
    "print(list(gc.edges()))\n",
    "print(list(tree.edges()))\n",
    "list(mst_tree.vertex(59).in_edges())"
   ]
  },
  {
   "cell_type": "code",
   "execution_count": null,
   "metadata": {
    "collapsed": false,
    "deletable": true,
    "editable": true,
    "scrolled": false
   },
   "outputs": [],
   "source": [
    "from plot_utils import plot_snapshot\n",
    "from utils import extract_edges\n",
    "\n",
    "fig, ax = plt.subplots(2, 2, figsize=(10, 10))\n",
    "plot_snapshot(gnx, pos, infection_times, queried_nodes=obs_nodes, source_node=source, with_labels=True,\n",
    "              ax=ax[0, 0],\n",
    "              edges=extract_edges(true_tree))\n",
    "plot_snapshot(gnx, pos, infection_times, queried_nodes=obs_nodes, source_node=source, with_labels=True,\n",
    "             ax=ax[0, 1], arrows=True,\n",
    "             edges=extract_edges(tree))\n",
    "plot_snapshot(gnx, pos, infection_times, queried_nodes=obs_nodes, source_node=source, with_labels=True,\n",
    "              ax=ax[1, 0], arrows=True,\n",
    "              edges=extract_edges(gc))\n",
    "plot_snapshot(gnx, pos, infection_times, queried_nodes=obs_nodes, source_node=source, with_labels=True,\n",
    "              ax=ax[1, 1], arrows=True,\n",
    "              edges=extract_edges(mst_tree))"
   ]
  },
  {
   "cell_type": "code",
   "execution_count": null,
   "metadata": {
    "collapsed": false
   },
   "outputs": [],
   "source": [
    "list(mst_tree.edges())"
   ]
  },
  {
   "cell_type": "code",
   "execution_count": null,
   "metadata": {
    "collapsed": false,
    "deletable": true,
    "editable": true
   },
   "outputs": [],
   "source": [
    "original_tree, gc, mst_tree = steiner_tree_mst(g, source, \n",
    "                                               infection_times, source, \n",
    "                                               list(obs_nodes), return_closure=True, debug=True)"
   ]
  },
  {
   "cell_type": "code",
   "execution_count": null,
   "metadata": {
    "collapsed": false,
    "deletable": true,
    "editable": true
   },
   "outputs": [],
   "source": [
    "fig, ax = plt.subplots(3, 2, figsize=(10, 15))\n",
    "plot_snapshot(gnx, pos, infection_times, queried_nodes=obs_nodes, source_node=source, with_labels=True,\n",
    "              ax=ax[0, 0],\n",
    "              edges=extract_edges(true_tree))\n",
    "ax[0, 0].set_title('cascade tree')\n",
    "plot_snapshot(gnx, pos, infection_times, queried_nodes=obs_nodes, source_node=source, with_labels=True,\n",
    "              ax=ax[0, 1],\n",
    "              arrows=True,\n",
    "              edges=extract_edges(gc))\n",
    "ax[0, 1].set_title('closure graph')\n",
    "plot_snapshot(gnx, pos, infection_times, queried_nodes=obs_nodes, source_node=source, with_labels=True,\n",
    "              ax=ax[1, 0],\n",
    "              arrows=True,\n",
    "              edges=extract_edges(mst_tree))\n",
    "ax[1, 0].set_title('spanning tree on closure graph')\n",
    "plot_snapshot(gnx, pos, infection_times, queried_nodes=obs_nodes, source_node=source, with_labels=True,\n",
    "              ax=ax[1, 1],\n",
    "              arrows=True,              \n",
    "              edges=extract_edges(original_tree))\n",
    "ax[1, 1].set_title('steiner tree on original graph: m={}'.format(original_tree.num_edges()))"
   ]
  },
  {
   "cell_type": "code",
   "execution_count": null,
   "metadata": {
    "collapsed": false,
    "deletable": true,
    "editable": true
   },
   "outputs": [],
   "source": [
    "%%timeit -r1 -n1\n",
    "from steiner_tree_order import tree_sizes_by_roots\n",
    "from utils import get_rank_index\n",
    "sizes = tree_sizes_by_roots(g, obs_nodes, infection_times, source, method='mst')\n",
    "get_rank_index(sizes, source)"
   ]
  }
 ],
 "metadata": {
  "kernelspec": {
   "display_name": "Python 3",
   "language": "python",
   "name": "python3"
  },
  "language_info": {
   "codemirror_mode": {
    "name": "ipython",
    "version": 3
   },
   "file_extension": ".py",
   "mimetype": "text/x-python",
   "name": "python",
   "nbconvert_exporter": "python",
   "pygments_lexer": "ipython3",
   "version": "3.5.2"
  }
 },
 "nbformat": 4,
 "nbformat_minor": 2
}

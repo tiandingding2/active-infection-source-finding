{
 "cells": [
  {
   "cell_type": "code",
   "execution_count": null,
   "metadata": {
    "collapsed": false,
    "deletable": true,
    "editable": true
   },
   "outputs": [],
   "source": [
    "%matplotlib inline\n",
    "import random\n",
    "from synthetic_data import load_data_by_gtype, GRID\n",
    "from utils import infeciton_time2weight\n",
    "from plot_utils import plot_snapshot, add_colorbar\n",
    "from ic import make_partial_cascade\n",
    "from query_strategy import expected_infection_time, maximal_adversarial_query"
   ]
  },
  {
   "cell_type": "code",
   "execution_count": null,
   "metadata": {
    "collapsed": true,
    "deletable": true,
    "editable": true
   },
   "outputs": [],
   "source": [
    "g, probas, node2id = load_data_by_gtype(GRID)\n",
    "id2node = {i: n for n, i in node2id.items()}\n",
    "source, obs_nodes, infection_times, tree = make_partial_cascade(\n",
    "    g, fraction=0.05, sampling_method='late_nodes')"
   ]
  },
  {
   "cell_type": "code",
   "execution_count": null,
   "metadata": {
    "collapsed": false,
    "deletable": true,
    "editable": true
   },
   "outputs": [],
   "source": [
    "mu = np.zeros(g.number_of_nodes())\n",
    "cand_sources = random.sample(list(range(g.number_of_nodes())), 3)\n",
    "for i in cand_sources:\n",
    "    mu[i] = 1 / len(cand_sources)"
   ]
  },
  {
   "cell_type": "code",
   "execution_count": null,
   "metadata": {
    "collapsed": false,
    "deletable": true,
    "editable": true
   },
   "outputs": [],
   "source": [
    "best_query, query2penalty = maximal_adversarial_query(\n",
    "    g, probas, mu, obs_nodes, infection_times, node2id, id2node)"
   ]
  },
  {
   "cell_type": "code",
   "execution_count": null,
   "metadata": {
    "collapsed": false
   },
   "outputs": [],
   "source": [
    "ps = np.array(list(query2penalty.values()))\n",
    "np.sort(ps)[::-1]"
   ]
  },
  {
   "cell_type": "code",
   "execution_count": null,
   "metadata": {
    "collapsed": false,
    "deletable": true,
    "editable": true
   },
   "outputs": [],
   "source": [
    "pos = {n: np.array(n) for n in g.nodes()}\n",
    "plot_snapshot(g, node2weight=query2penalty, pos=pos, queried_nodes=[id2node[i] for i in cand_sources])"
   ]
  }
 ],
 "metadata": {
  "kernelspec": {
   "display_name": "Python 3",
   "language": "python",
   "name": "python3"
  },
  "language_info": {
   "codemirror_mode": {
    "name": "ipython",
    "version": 3
   },
   "file_extension": ".py",
   "mimetype": "text/x-python",
   "name": "python",
   "nbconvert_exporter": "python",
   "pygments_lexer": "ipython3",
   "version": "3.5.2"
  }
 },
 "nbformat": 4,
 "nbformat_minor": 2
}

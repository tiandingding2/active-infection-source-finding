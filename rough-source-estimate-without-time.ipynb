{
 "cells": [
  {
   "cell_type": "code",
   "execution_count": 112,
   "metadata": {
    "collapsed": false
   },
   "outputs": [],
   "source": [
    "%matplotlib notebook\n",
    "# starter code\n",
    "from tqdm import tqdm\n",
    "import networkx as nx\n",
    "from graph_tool.all import load_graph, shortest_distance\n",
    "from ic import simulate_cascade, observe_cascade, get_gvs, get_o2src_time, get_infection_time\n",
    "from utils import get_rank_index\n",
    "from joblib import Parallel, delayed \n",
    "\n",
    "# gtype = 'balanced-tree/2-6'\n",
    "gtype = 'kr-peri/2-6'\n",
    "# gtype = 'p2p-gnutella08'\n",
    "g = load_graph('data/{}/graph.gt'.format(gtype))\n",
    "gnx = nx.read_graphml('data/{}/graph.graphml'.format(gtype))\n",
    "gnx = nx.relabel_nodes(gnx, {i: int(i) for i in gnx.nodes_iter()})\n",
    "N1, N2 = 100, 100\n",
    "p, q = 0.5, 0.2\n",
    "\n",
    "gvs = get_gvs(g, p, N2)\n",
    "\n",
    "def gen_nontrivial_cascade(g, p, q, source=None):\n",
    "    while True:\n",
    "        source, c = simulate_cascade(g, p, source=source)\n",
    "        obs_nodes = observe_cascade(c, source, q, method='uniform')\n",
    "        cascade_size = np.sum(c != -1)\n",
    "\n",
    "        if cascade_size >= 5:  # avoid small cascade\n",
    "            break\n",
    "\n",
    "    return c, source, obs_nodes"
   ]
  },
  {
   "cell_type": "code",
   "execution_count": 113,
   "metadata": {
    "collapsed": false
   },
   "outputs": [],
   "source": [
    "c, source, obs_nodes = gen_nontrivial_cascade(g, p, q)\n",
    "hidden_nodes = np.array(list(set(np.arange(g.num_vertices())) - set(obs_nodes)))"
   ]
  },
  {
   "cell_type": "code",
   "execution_count": 111,
   "metadata": {
    "collapsed": false
   },
   "outputs": [],
   "source": [
    "def sll_based_on_infection_without_time(g, gvs, obs_nodes, hidden_nodes):\n",
    "    \"\"\"for each hidden nodes, \n",
    "    compute its source likelihood based only on the infection status without time\"\"\"\n",
    "    sll = np.zeros(g.num_vertices())\n",
    "    true_bin_vect = np.zeros(g.num_vertices())\n",
    "    true_bin_vect[obs_nodes] = 1\n",
    "    for s in hidden_nodes:\n",
    "        matching_fraction = 0.\n",
    "        for gv in gvs:\n",
    "            t = get_infection_time(gv, s)\n",
    "            t[t != -1] = 1\n",
    "            t[t == -1] = 0\n",
    "            f = np.sum(np.logical_and(t, true_bin_vect)) / len(obs_nodes)\n",
    "            assert f <= 1\n",
    "            matching_fraction += float(f)\n",
    "        sll[s] = matching_fraction\n",
    "    return sll        \n",
    "        "
   ]
  },
  {
   "cell_type": "code",
   "execution_count": 106,
   "metadata": {
    "collapsed": false
   },
   "outputs": [
    {
     "name": "stdout",
     "output_type": "stream",
     "text": [
      "10\n"
     ]
    },
    {
     "data": {
      "text/plain": [
       "(10.5, array([  0. ,   0. ,   0. ,   0. ,   0. ,   0. ,   0. ,   0. ,   0. ,\n",
       "          0. ,   0. ,   0. ,   0. ,   0. ,   0. ,   0. ,   0. ,   0. ,\n",
       "          0. ,   0. ,   0. ,   0. ,   0. ,   0.5,   0.5,   0.5,   0.5,\n",
       "          0.5,   0.5,   1. ,   1. ,   1.5,   1.5,   2. ,   3. ,   3. ,\n",
       "          3.5,   3.5,   3.5,   4. ,   4.5,   5. ,   5. ,   5.5,   6. ,\n",
       "          6. ,   6.5,   7. ,   8. ,   8.5,   9. ,   9. ,  10.5,  12. ,\n",
       "         13. ,  13.5,  14.5,  16.5,  22. ,  27.5,  28.5,  30.5,  44.5]))"
      ]
     },
     "execution_count": 106,
     "metadata": {},
     "output_type": "execute_result"
    }
   ],
   "source": [
    "sll = sll_based_on_infection_without_time(g, gvs, obs_nodes, hidden_nodes)\n",
    "\n",
    "print(get_rank_index(sll, source))\n",
    "sll[source], np.sort(sll)"
   ]
  },
  {
   "cell_type": "code",
   "execution_count": 114,
   "metadata": {
    "collapsed": false
   },
   "outputs": [
    {
     "name": "stderr",
     "output_type": "stream",
     "text": [
      "100%|██████████| 100/100 [00:58<00:00,  1.67it/s]\n"
     ]
    }
   ],
   "source": [
    "def one_run(g, p, q, gvs):\n",
    "    c, source, obs_nodes = gen_nontrivial_cascade(g, p, q)\n",
    "    hidden_nodes = np.array(list(set(np.arange(g.num_vertices())) - set(obs_nodes)))\n",
    "    sll = sll_based_on_infection_without_time(g, gvs, obs_nodes, hidden_nodes)\n",
    "    return get_rank_index(sll, source)\n",
    "\n",
    "ranks = Parallel(n_jobs=-1)(delayed(one_run)(g, p, q, gvs) for i in tqdm(range(N1)))"
   ]
  },
  {
   "cell_type": "code",
   "execution_count": 115,
   "metadata": {
    "collapsed": false
   },
   "outputs": [
    {
     "data": {
      "text/plain": [
       "(22.420000000000002, 23.0)"
      ]
     },
     "execution_count": 115,
     "metadata": {},
     "output_type": "execute_result"
    }
   ],
   "source": [
    "np.mean(ranks), np.median(ranks)"
   ]
  }
 ],
 "metadata": {
  "kernelspec": {
   "display_name": "Python 3",
   "language": "python",
   "name": "python3"
  },
  "language_info": {
   "codemirror_mode": {
    "name": "ipython",
    "version": 3
   },
   "file_extension": ".py",
   "mimetype": "text/x-python",
   "name": "python",
   "nbconvert_exporter": "python",
   "pygments_lexer": "ipython3",
   "version": "3.5.2"
  }
 },
 "nbformat": 4,
 "nbformat_minor": 2
}

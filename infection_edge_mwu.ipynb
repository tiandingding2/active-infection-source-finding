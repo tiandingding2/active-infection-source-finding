{
 "cells": [
  {
   "cell_type": "code",
   "execution_count": 1,
   "metadata": {
    "collapsed": false,
    "deletable": true,
    "editable": true
   },
   "outputs": [],
   "source": [
    "# %matplotlib inline\n",
    "import matplotlib as plt\n",
    "plt.use('pdf')\n",
    "import networkx as nx\n",
    "from tqdm import tqdm\n",
    "from matplotlib import pyplot as plt\n",
    "\n",
    "from graph_generator import grid_2d, add_p_and_delta\n",
    "from utils import infeciton_time2weight\n",
    "from plot_utils import plot_snapshot\n",
    "from ic import make_partial_cascade, sample_graph_from_infection\n",
    "from collections import defaultdict\n",
    "from core import normalize_mu\n",
    "from synthetic_data import load_data_by_gtype\n",
    "from build_edge_reward_table import build_reward_table\n",
    "from edge_mwu import reward_by_infection_direction, reward_by_uninfected_node"
   ]
  },
  {
   "cell_type": "code",
   "execution_count": 2,
   "metadata": {
    "collapsed": false,
    "deletable": true,
    "editable": true
   },
   "outputs": [],
   "source": [
    "if True:\n",
    "    p = 0.7\n",
    "    g = grid_2d(10)\n",
    "    g = add_p_and_delta(g, p, 1)\n",
    "    pos = {n: np.array(n) for n in g.nodes()}\n",
    "else:\n",
    "    g = load_data_by_gtype('kr-hier', '10-10')[0]"
   ]
  },
  {
   "cell_type": "code",
   "execution_count": 3,
   "metadata": {
    "collapsed": false,
    "deletable": true,
    "editable": true
   },
   "outputs": [
    {
     "name": "stderr",
     "output_type": "stream",
     "text": [
      "100%|██████████| 100/100 [00:02<00:00, 35.03it/s]\n"
     ]
    }
   ],
   "source": [
    "tbl1, tbl2 = build_reward_table(g)"
   ]
  },
  {
   "cell_type": "code",
   "execution_count": 4,
   "metadata": {
    "collapsed": false,
    "deletable": true,
    "editable": true
   },
   "outputs": [],
   "source": [
    "fig, ax = plt.subplots(1, 2, figsize=(10, 4))\n",
    "q = (4, 4)\n",
    "u = (4, 5)\n",
    "reward = reward_by_infection_direction(g, q, u)\n",
    "plot_snapshot(g, pos, reward, query_node=q, queried_nodes={u}, ax=ax[0])\n",
    "ax[1].hist(list(reward.values()))\n",
    "ax[0].set_title('reward value each expert/node')\n",
    "ax[1].set_title('reward distribution')\n",
    "ax[1].set_xlabel('reward value')\n",
    "ax[1].set_ylabel('probability')\n",
    "fig.savefig('figs/edge-reward-demo/direction.pdf')"
   ]
  },
  {
   "cell_type": "code",
   "execution_count": 5,
   "metadata": {
    "collapsed": false,
    "deletable": true,
    "editable": true
   },
   "outputs": [],
   "source": [
    "fig, ax = plt.subplots(1, 2, figsize=(10, 4))\n",
    "reward = reward_by_uninfected_node(g, q)\n",
    "plot_snapshot(g, pos, reward, query_node=q, ax=ax[0])\n",
    "ax[1].hist(list(reward.values()))\n",
    "ax[0].set_title('reward value each expert/node')\n",
    "ax[1].set_title('reward distribution')\n",
    "ax[1].set_xlabel('reward value')\n",
    "ax[1].set_ylabel('probability')\n",
    "fig.savefig('figs/edge-reward-demo/uninfected.pdf')"
   ]
  },
  {
   "cell_type": "code",
   "execution_count": null,
   "metadata": {
    "collapsed": true,
    "deletable": true,
    "editable": true
   },
   "outputs": [],
   "source": [
    "def mwu_by_infection_direction(g, obs_nodes, infection_times, source,\n",
    "                               direction_reward_table=None,\n",
    "                               inf_reward_table=None,\n",
    "                               save_logs=False,\n",
    "                               debug=False):\n",
    "    mu = {n: 1 for n in g.nodes_iter()}\n",
    "    sp_len = nx.shortest_path_length(g, weight='d')\n",
    "    centroids = []\n",
    "    queried_nodes = set(obs_nodes)\n",
    "    while True:\n",
    "        if len(queried_nodes) == g.number_of_nodes():\n",
    "            print(\"no more queries to go\")\n",
    "            break\n",
    "        q = median_node(g, mu, sp_len)\n",
    "        queried_nodes.add(q)\n",
    "        \n",
    "        if debug:\n",
    "            print('query node: {}'.format(q))\n",
    "        \n",
    "        if save_logs:\n",
    "            centroids.append(q)\n",
    "        found_source = True\n",
    "        if np.isinf(infection_times[q]):\n",
    "            found_source = False\n",
    "            if inf_reward_table:\n",
    "                reward = {n: inf_reward_table[(n, q)] for n in g.nodes_iter()}\n",
    "            else:\n",
    "                reward = reward_by_uninfected_node(g, q)\n",
    "        else:\n",
    "            for u in g.neighbors(q):\n",
    "                if infection_times[u] < infection_times[q]:\n",
    "                    queried_nodes.add(u)\n",
    "                    if direction_reward_table:\n",
    "                        reward = {n: direction_reward_table[(n, u, q)] for n in g.nodes_iter()}\n",
    "                    else:\n",
    "                        reward = reward_by_infection_direction(g, q, u)                    \n",
    "                    found_source = False\n",
    "                    break\n",
    "        if found_source:\n",
    "            assert source == q\n",
    "            break\n",
    "            \n",
    "        for n in g.nodes_iter():\n",
    "            mu[n] *= reward[n]\n",
    "        mu = normalize_mu(mu)\n",
    "    return len(queried_nodes - obs_nodes)"
   ]
  },
  {
   "cell_type": "code",
   "execution_count": null,
   "metadata": {
    "collapsed": false,
    "deletable": true,
    "editable": true
   },
   "outputs": [],
   "source": [
    "dir_tbl, inf_tbl = build_reward_table(g)"
   ]
  },
  {
   "cell_type": "code",
   "execution_count": null,
   "metadata": {
    "collapsed": false,
    "deletable": true,
    "editable": true,
    "scrolled": true
   },
   "outputs": [],
   "source": [
    "counts = experiment_mwu_multiple_rounds(g, dir_tbl, inf_tbl)"
   ]
  },
  {
   "cell_type": "code",
   "execution_count": null,
   "metadata": {
    "collapsed": false,
    "deletable": true,
    "editable": true
   },
   "outputs": [],
   "source": [
    "g.number_of_nodes()"
   ]
  },
  {
   "cell_type": "code",
   "execution_count": null,
   "metadata": {
    "collapsed": false,
    "deletable": true,
    "editable": true
   },
   "outputs": [],
   "source": [
    "from experiment_utils import counts_to_stat\n",
    "counts_to_stat(counts)"
   ]
  }
 ],
 "metadata": {
  "kernelspec": {
   "display_name": "Python 3",
   "language": "python",
   "name": "python3"
  },
  "language_info": {
   "codemirror_mode": {
    "name": "ipython",
    "version": 3
   },
   "file_extension": ".py",
   "mimetype": "text/x-python",
   "name": "python",
   "nbconvert_exporter": "python",
   "pygments_lexer": "ipython3",
   "version": "3.5.2"
  }
 },
 "nbformat": 4,
 "nbformat_minor": 2
}

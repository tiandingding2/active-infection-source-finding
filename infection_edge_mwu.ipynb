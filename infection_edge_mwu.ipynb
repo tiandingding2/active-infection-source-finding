{
 "cells": [
  {
   "cell_type": "code",
   "execution_count": 1,
   "metadata": {
    "collapsed": true
   },
   "outputs": [],
   "source": [
    "%matplotlib inline\n",
    "\n",
    "import networkx as nx\n",
    "from tqdm import tqdm\n",
    "from matplotlib import pyplot as plt\n",
    "\n",
    "from graph_generator import grid_2d, add_p_and_delta\n",
    "from utils import infeciton_time2weight\n",
    "from plot_utils import plot_snapshot\n",
    "from ic import make_partial_cascade, sample_graph_from_infection\n",
    "from collections import defaultdict\n",
    "from core import normalize_mu\n",
    "from synthetic_data import load_data_by_gtype"
   ]
  },
  {
   "cell_type": "code",
   "execution_count": 2,
   "metadata": {
    "collapsed": false
   },
   "outputs": [],
   "source": [
    "if False:\n",
    "    p = 0.7\n",
    "    g = grid_2d(10)\n",
    "    g = add_p_and_delta(g, p, 1)\n",
    "    pos = {n: np.array(n) for n in g.nodes()}\n",
    "else:\n",
    "    g = load_data_by_gtype('kr-hier', '10-10')[0]"
   ]
  },
  {
   "cell_type": "code",
   "execution_count": 3,
   "metadata": {
    "collapsed": true
   },
   "outputs": [],
   "source": [
    "def build_reward_table(g, n_rounds=100):\n",
    "    \"\"\"\n",
    "    return two tables.\n",
    "    \n",
    "    table 1 maps (s, u, v) to real number\n",
    "    s: source\n",
    "    u: earlier infected node\n",
    "    v: later infected node\n",
    "    \n",
    "    table 2 maps (s, u) to real number, the probability that u is not infected given s\n",
    "    \"\"\"\n",
    "    tbl1 = defaultdict(float)\n",
    "    tbl2 = defaultdict(float)\n",
    "    increase = 1 / n_rounds\n",
    "    for i in tqdm(range(n_rounds)):\n",
    "        sampled_g = sample_graph_from_infection(g)\n",
    "        sp_path = nx.shortest_path(sampled_g)\n",
    "        for s in g.nodes_iter():\n",
    "            for q in g.nodes_iter():\n",
    "                try:\n",
    "                    path = sp_path[s][q]\n",
    "                    if len(path) >= 2:\n",
    "                        tbl1[(s, path[-2], q)] += increase                        \n",
    "                except KeyError:\n",
    "                    tbl2[(s, q)] += increase\n",
    "    return tbl1, tbl2"
   ]
  },
  {
   "cell_type": "code",
   "execution_count": null,
   "metadata": {
    "collapsed": false
   },
   "outputs": [],
   "source": [
    "tbl1, tbl2 = build_reward_table(g)"
   ]
  },
  {
   "cell_type": "code",
   "execution_count": null,
   "metadata": {
    "collapsed": false
   },
   "outputs": [],
   "source": [
    "def reward_by_infection_direction(g, q, u, n_rounds=100):\n",
    "    \"\"\"for each node as source, calculate \n",
    "    the fraction of cascades in which cascade goes from u to q\"\"\"\n",
    "    reward = {n: 0 for n in g.nodes_iter()}\n",
    "\n",
    "    for i in range(n_rounds):\n",
    "        sampled_g = sample_graph_from_infection(g)\n",
    "        for s in g.nodes_iter():\n",
    "            try:\n",
    "                for path in nx.all_shortest_paths(sampled_g, source=s, target=q):\n",
    "                    if u in path:\n",
    "                        reward[s] += 1\n",
    "                        break\n",
    "            except nx.NetworkXNoPath:\n",
    "                pass\n",
    "\n",
    "    for n in g.nodes_iter():\n",
    "        reward[n] /= n_rounds\n",
    "    return reward\n",
    "\n",
    "def reward_by_uninfected_node(g, q, n_rounds=100):\n",
    "    reward = {n: 0 for n in g.nodes_iter()}\n",
    "\n",
    "    for i in range(n_rounds):\n",
    "        sampled_g = sample_graph_from_infection(g)\n",
    "        for s in g.nodes_iter():\n",
    "            try:\n",
    "                nx.shortest_path(sampled_g, source=s, target=q)\n",
    "            except nx.NetworkXNoPath:  # uninfected\n",
    "                reward[s] += 1\n",
    "    for n in g.nodes_iter():\n",
    "        reward[n] /= n_rounds\n",
    "    return reward"
   ]
  },
  {
   "cell_type": "code",
   "execution_count": null,
   "metadata": {
    "collapsed": false
   },
   "outputs": [],
   "source": [
    "fig, ax = plt.subplots(2, 2, figsize=(10, 10))\n",
    "reward = reward_by_infection_direction(g, q, u)\n",
    "plot_snapshot(g, pos, reward, query_node=q, ax=ax[0, 0])\n",
    "ax[1, 0].hist(list(reward.values()))\n",
    "ax[0, 0].set_title('correct')\n",
    "\n",
    "reward = {n: tbl1[(n, u, q)] for n in g.nodes_iter()}\n",
    "plot_snapshot(g, pos, reward, query_node=q, ax=ax[0, 1])\n",
    "ax[1, 1].hist(list(reward.values()))\n",
    "ax[0, 1].set_title('actual')"
   ]
  },
  {
   "cell_type": "code",
   "execution_count": null,
   "metadata": {
    "collapsed": false
   },
   "outputs": [],
   "source": [
    "fig, ax = plt.subplots(2, 2, figsize=(10, 10))\n",
    "reward = reward_by_uninfected_node(g, q)\n",
    "plot_snapshot(g, pos, reward, query_node=q, ax=ax[0, 0])\n",
    "ax[1, 0].hist(list(reward.values()))\n",
    "ax[0, 0].set_title('correct')\n",
    "\n",
    "reward = {n: tbl2[(n, q)] for n in g.nodes_iter()}\n",
    "plot_snapshot(g, pos, reward, query_node=q, ax=ax[0, 1])\n",
    "ax[1, 1].hist(list(reward.values()))\n",
    "ax[0, 1].set_title('actual')"
   ]
  },
  {
   "cell_type": "code",
   "execution_count": 14,
   "metadata": {
    "collapsed": true
   },
   "outputs": [],
   "source": [
    "def median_node(g, mu, sp_len):\n",
    "    def sum_of_weighted_dist(q):\n",
    "        mus = np.array([mu[v] for v in g.nodes_iter()])\n",
    "        lens = np.array([sp_len[q][v] for v in g.nodes_iter()])\n",
    "        return np.sum(mus * lens)\n",
    "\n",
    "    return min(g.nodes_iter(), key=sum_of_weighted_dist)"
   ]
  },
  {
   "cell_type": "code",
   "execution_count": 12,
   "metadata": {
    "collapsed": true
   },
   "outputs": [],
   "source": [
    "def mwu_by_infection_direction(g, obs_nodes, infection_times, source,\n",
    "                               direction_reward_table=None,\n",
    "                               inf_reward_table=None,\n",
    "                               save_logs=False,\n",
    "                               debug=False):\n",
    "    mu = {n: 1 for n in g.nodes_iter()}\n",
    "    sp_len = nx.shortest_path_length(g, weight='d')\n",
    "    centroids = []\n",
    "    queried_nodes = set(obs_nodes)\n",
    "    while True:\n",
    "        if len(queried_nodes) == g.number_of_nodes():\n",
    "            print(\"no more queries to go\")\n",
    "            break\n",
    "        q = median_node(g, mu, sp_len)\n",
    "        queried_nodes.add(q)\n",
    "        \n",
    "        if debug:\n",
    "            print('query node: {}'.format(q))\n",
    "        \n",
    "        if save_logs:\n",
    "            centroids.append(q)\n",
    "        found_source = True\n",
    "        if np.isinf(infection_times[q]):\n",
    "            found_source = False\n",
    "            if inf_reward_table:\n",
    "                reward = {n: inf_reward_table[(n, q)] for n in g.nodes_iter()}\n",
    "            else:\n",
    "                reward = reward_by_uninfected_node(g, q)\n",
    "        else:\n",
    "            for u in g.neighbors(q):\n",
    "                if infection_times[u] < infection_times[q]:\n",
    "                    queried_nodes.add(u)\n",
    "                    if direction_reward_table:\n",
    "                        reward = {n: direction_reward_table[(n, u, q)] for n in g.nodes_iter()}\n",
    "                    else:\n",
    "                        reward = reward_by_infection_direction(g, q, u)                    \n",
    "                    found_source = False\n",
    "                    break\n",
    "        if found_source:\n",
    "            assert source == q\n",
    "            break\n",
    "            \n",
    "        for n in g.nodes_iter():\n",
    "            mu[n] *= reward[n]\n",
    "        mu = normalize_mu(mu)\n",
    "    return len(queried_nodes - obs_nodes)"
   ]
  },
  {
   "cell_type": "code",
   "execution_count": 8,
   "metadata": {
    "collapsed": false
   },
   "outputs": [],
   "source": [
    "def experiment_mwu_multiple_rounds(g,\n",
    "                                   dir_tbl, inf_tbl,\n",
    "                                   fraction=0.05,\n",
    "                                   sampling_method='late_nodes',\n",
    "                                   rounds=100):\n",
    "    counts = []\n",
    "    for i in tqdm(range(rounds)):\n",
    "        source, obs_nodes, infection_times, tree = make_partial_cascade(\n",
    "            g, fraction, sampling_method=sampling_method)\n",
    "        query_count = mwu_by_infection_direction(\n",
    "            g, obs_nodes, infection_times, source,\n",
    "            direction_reward_table=dir_tbl,\n",
    "            inf_reward_table=inf_tbl,\n",
    "            save_logs=False)\n",
    "        counts.append(query_count)\n",
    "    return counts"
   ]
  },
  {
   "cell_type": "code",
   "execution_count": 4,
   "metadata": {
    "collapsed": false
   },
   "outputs": [
    {
     "name": "stderr",
     "output_type": "stream",
     "text": [
      "100%|██████████| 100/100 [07:56<00:00,  5.31s/it]\n"
     ]
    }
   ],
   "source": [
    "dir_tbl, inf_tbl = build_reward_table(g)"
   ]
  },
  {
   "cell_type": "code",
   "execution_count": 15,
   "metadata": {
    "collapsed": false,
    "scrolled": true
   },
   "outputs": [
    {
     "name": "stderr",
     "output_type": "stream",
     "text": [
      "100%|██████████| 100/100 [11:29<00:00,  6.61s/it]\n"
     ]
    }
   ],
   "source": [
    "counts = experiment_mwu_multiple_rounds(g, dir_tbl, inf_tbl)"
   ]
  },
  {
   "cell_type": "code",
   "execution_count": 17,
   "metadata": {
    "collapsed": false
   },
   "outputs": [
    {
     "data": {
      "text/plain": [
       "1011"
      ]
     },
     "execution_count": 17,
     "metadata": {},
     "output_type": "execute_result"
    }
   ],
   "source": [
    "g.number_of_nodes()"
   ]
  },
  {
   "cell_type": "code",
   "execution_count": 16,
   "metadata": {
    "collapsed": false
   },
   "outputs": [
    {
     "data": {
      "text/plain": [
       "{'25%': 6.0,\n",
       " '50%': 7.0,\n",
       " '75%': 9.0,\n",
       " 'count': 100.0,\n",
       " 'max': 28.0,\n",
       " 'mean': 7.9299999999999997,\n",
       " 'min': 3.0,\n",
       " 'std': 3.2760378878187977}"
      ]
     },
     "execution_count": 16,
     "metadata": {},
     "output_type": "execute_result"
    }
   ],
   "source": [
    "from experiment_utils import counts_to_stat\n",
    "counts_to_stat(counts)"
   ]
  }
 ],
 "metadata": {
  "kernelspec": {
   "display_name": "Python 3",
   "language": "python",
   "name": "python3"
  },
  "language_info": {
   "codemirror_mode": {
    "name": "ipython",
    "version": 3
   },
   "file_extension": ".py",
   "mimetype": "text/x-python",
   "name": "python",
   "nbconvert_exporter": "python",
   "pygments_lexer": "ipython3",
   "version": "3.5.2"
  }
 },
 "nbformat": 4,
 "nbformat_minor": 2
}

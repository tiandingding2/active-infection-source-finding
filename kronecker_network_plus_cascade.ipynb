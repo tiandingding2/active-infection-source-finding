{
 "cells": [
  {
   "cell_type": "code",
   "execution_count": 15,
   "metadata": {
    "collapsed": false
   },
   "outputs": [],
   "source": [
    "# %matplotlibinline\n",
    "\n",
    "import matplotlib\n",
    "matplotlib.use('Agg')\n",
    "\n",
    "import numpy as np\n",
    "from scipy.sparse import dok_matrix\n",
    "import networkx as nx\n",
    "from matplotlib import pyplot as plt\n",
    "from itertools import permutations\n",
    "from copy import copy\n",
    "from tqdm import tqdm"
   ]
  },
  {
   "cell_type": "code",
   "execution_count": 16,
   "metadata": {
    "collapsed": true
   },
   "outputs": [],
   "source": [
    "import math\n",
    "import random\n",
    "from networkx.generators.classic import empty_graph\n",
    "\n",
    "def kronecker_random_graph(k, P, seed=None, directed=True, n_edges=None):\n",
    "    dim = len(P)\n",
    "    \n",
    "    errorstring = (\"The initiator matrix must be a nonempty\" +\n",
    "                      (\", symmetric,\" if not directed else \"\") +\n",
    "                      \" square matrix of probabilities.\")\n",
    "\n",
    "    if dim==0: \n",
    "        raise nx.NetworkXError(errorstring)\n",
    "    for i,arr in enumerate(P): \n",
    "        if len(arr)!=dim: \n",
    "            raise nx.NetworkXError(errorstring)\n",
    "        for j,p in enumerate(arr):\n",
    "            if p<0 or p>1:\n",
    "                raise nx.NetworkXError(errorstring)\n",
    "            if not directed and P[i][j] != P[j][i]:\n",
    "                raise nx.NetworkXError(errorstring)\n",
    "\n",
    "    if k<1:\n",
    "        return empty_graph(1)\n",
    "\n",
    "    n = dim**k\n",
    "    G = empty_graph(n)\n",
    "    G=nx.DiGraph(G)\n",
    "\n",
    "    acc = 0.0\n",
    "    partitions = []\n",
    "    for i in range(dim):\n",
    "        for j in range(dim):\n",
    "            if P[i][j] != 0:\n",
    "                acc = acc+P[i][j]\n",
    "                partitions.append([acc,i,j])\n",
    "    psum = acc\n",
    "\n",
    "    G.add_nodes_from(range(n))\n",
    "    G.name=\"kronecker2_random_graph(%s,%s)\"%(n, P)\n",
    "\n",
    "    if not seed is None:\n",
    "        random.seed(seed)\n",
    "    \n",
    "    if n_edges is None:\n",
    "        expected_edges=math.floor(psum**k)\n",
    "    else:\n",
    "        expected_edges = n_edges\n",
    "    num_edges = 0\n",
    "    while num_edges<expected_edges:\n",
    "        multiplier = dim**k\n",
    "        x = y = 0\n",
    "        for i in range(k):\n",
    "            multiplier = multiplier // dim\n",
    "            r = c = -1\n",
    "            p = random.uniform(0,psum)\n",
    "            for n in range(len(partitions)):\n",
    "                if partitions[n][0] >= p:\n",
    "                    r = partitions[n][1]\n",
    "                    c = partitions[n][2]\n",
    "                    break\n",
    "            x = x + r*multiplier\n",
    "            y = y + c*multiplier\n",
    "\n",
    "        if not G.has_edge(x,y):\n",
    "            G.add_edge(x,y)\n",
    "            num_edges = num_edges + 1\n",
    "\n",
    "    if not directed:\n",
    "        G=G.to_undirected()\n",
    "\n",
    "    return G"
   ]
  },
  {
   "cell_type": "code",
   "execution_count": 17,
   "metadata": {
    "collapsed": true
   },
   "outputs": [],
   "source": [
    "def gen_and_draw(P, k=8, n_edges=512):\n",
    "    g = kronecker_random_graph(k, P, n_edges=n_edges, directed=False)\n",
    "    nodes = max(nx.connected_components(g), key=len)\n",
    "    g = g.subgraph(nodes)\n",
    "        \n",
    "    nx.draw(g, node_size=50)\n"
   ]
  },
  {
   "cell_type": "code",
   "execution_count": 18,
   "metadata": {
    "collapsed": false
   },
   "outputs": [],
   "source": [
    "P = np.array([[0.9, 0.1], [0.1, 0.3]])  # core peripheral\n",
    "gen_and_draw(P)"
   ]
  },
  {
   "cell_type": "code",
   "execution_count": 19,
   "metadata": {
    "collapsed": false
   },
   "outputs": [],
   "source": [
    "P = np.array([[0.5, 0.5], [0.5, 0.5]])  # random\n",
    "gen_and_draw(P)"
   ]
  },
  {
   "cell_type": "code",
   "execution_count": 20,
   "metadata": {
    "collapsed": false
   },
   "outputs": [],
   "source": [
    "P = np.array([[0.9, 0.1], [0.1, 0.9]])  # hierarchical\n",
    "gen_and_draw(P)"
   ]
  },
  {
   "cell_type": "code",
   "execution_count": 21,
   "metadata": {
    "collapsed": false
   },
   "outputs": [],
   "source": [
    "def generate_cascade(g):\n",
    "    source = random.choice(g.nodes())\n",
    "    infected = {source}\n",
    "    infected_times = {source: 0}\n",
    "    iter_n = 0\n",
    "    while True:\n",
    "        iter_n += 1    \n",
    "        newly_infected = set()\n",
    "        for u in infected:\n",
    "            can_continue = False\n",
    "            for v in g.neighbors(u):\n",
    "                if v not in infected and not g[u][v].get('attempted', False):\n",
    "                    # print('infected node: {}'.format(v))\n",
    "                    can_continue = True\n",
    "                    p_uv = 0.5  # proba of getting infected\n",
    "                    if random.random() < p_uv:\n",
    "                        newly_infected.add(v)\n",
    "                        infected_times[v] = iter_n\n",
    "                    g[u][v]['attempted'] = True\n",
    "        infected |= newly_infected\n",
    "        if not can_continue:\n",
    "            break\n",
    "    return infected_times"
   ]
  },
  {
   "cell_type": "code",
   "execution_count": 22,
   "metadata": {
    "collapsed": true
   },
   "outputs": [],
   "source": [
    "def build_random_walk_graph(g, infections):\n",
    "    g = g.to_directed()\n",
    "    for u, v in permutations(infections, 2):\n",
    "        if g.has_edge(u, v) and infections[u] < infections[v]:\n",
    "            g.remove_edge(u, v)\n",
    "    return g"
   ]
  },
  {
   "cell_type": "code",
   "execution_count": 23,
   "metadata": {
    "collapsed": true
   },
   "outputs": [],
   "source": [
    "P_peri = np.array([[0.9, 0.1], [0.1, 0.3]])\n",
    "P_heir = np.array([[0.9, 0.1], [0.1, 0.9]])\n",
    "P_rand = np.array([[0.5, 0.5], [0.5, 0.5]])"
   ]
  },
  {
   "cell_type": "code",
   "execution_count": 24,
   "metadata": {
    "collapsed": false
   },
   "outputs": [],
   "source": [
    "def run_simulation(P, k, n_edges):\n",
    "    g = kronecker_random_graph(k, P, directed=False, n_edges=n_edges)\n",
    "    g = g.subgraph(max(nx.connected_components(g), key=len))\n",
    "\n",
    "    infected_times = None\n",
    "    for _ in range(10):\n",
    "        infected_times = generate_cascade(g)\n",
    "        if len(infected_times) > 10:\n",
    "            break\n",
    "\n",
    "    assert infected_times is not None\n",
    "\n",
    "    percentage = 0.2\n",
    "    source = min(infected_times, key=lambda k: infected_times[k])\n",
    "    infected_minus_source = set(infected_times.keys()) - {source}\n",
    "\n",
    "    observed = {n: infected_times[n]\n",
    "                for n in random.sample(infected_minus_source,\n",
    "                                       int(len(infected_minus_source) * percentage))}\n",
    "\n",
    "    observed_original = copy(observed)\n",
    "    # print('sampled {} from {}'.format(len(observed), len(infected_minus_source)))\n",
    "\n",
    "    # actively querying\n",
    "    iter_n = 0\n",
    "    queries = []\n",
    "    query = None\n",
    "    while query != source:\n",
    "        rw_g = build_random_walk_graph(g, observed)\n",
    "\n",
    "        infected_nodes = set(observed.keys())\n",
    "        earliest_node = sorted(observed, key=lambda k: observed[k])[0]\n",
    "        personalization = {n: 0 for n in  rw_g.nodes_iter()}\n",
    "        personalization[earliest_node] = 1\n",
    "        # print('personalization ={}'.format(personalization))\n",
    "        pr = nx.pagerank(rw_g, alpha=0.85,\n",
    "                         personalization=personalization,\n",
    "                         dangling=personalization,\n",
    "                         nstart=personalization)\n",
    "        query = max(filter(lambda n: n not in observed, pr), key=lambda k: pr[k])\n",
    "        queries.append(query)\n",
    "        observed[query] = infected_times.get(query, float('inf'))\n",
    "        iter_n += 1\n",
    "\n",
    "    return g, infected_times, observed_original, queries"
   ]
  },
  {
   "cell_type": "code",
   "execution_count": 25,
   "metadata": {
    "collapsed": false
   },
   "outputs": [
    {
     "name": "stdout",
     "output_type": "stream",
     "text": [
      "took 5 queries to get to the source\n"
     ]
    }
   ],
   "source": [
    "g, infected_times, observed, queries = run_simulation(P_peri, 7, 256)\n",
    "print('took {} queries to get to the source'.format(len(queries)))"
   ]
  },
  {
   "cell_type": "code",
   "execution_count": 26,
   "metadata": {
    "collapsed": false
   },
   "outputs": [],
   "source": [
    "def get_display_kwargs(g, infected_times):\n",
    "    diff = 1\n",
    "    upper_bound = np.max(list(infected_times.values())) + diff\n",
    "    node_colors = [((upper_bound - infected_times[n] + diff) if n in infected_times else 0)\n",
    "                   for n in g.nodes()]\n",
    "    node_sizes = [(400 if n in infected_times else 50)\n",
    "                  for n in g.nodes()]\n",
    "    return {'node_size': node_sizes,\n",
    "            'node_color': node_colors}\n",
    "pos = nx.spring_layout(g)\n",
    "\n"
   ]
  },
  {
   "cell_type": "code",
   "execution_count": 27,
   "metadata": {
    "collapsed": true
   },
   "outputs": [],
   "source": [
    "plt.clf()\n",
    "display_kwargs = get_display_kwargs(g, infected_times)\n",
    "vmin, vmax = np.min(display_kwargs['node_color']), np.max(display_kwargs['node_color'])\n",
    "nx.draw(g, pos=pos, cmap='OrRd', **display_kwargs)\n",
    "plt.savefig('figs/knk_full_obs.pdf')"
   ]
  },
  {
   "cell_type": "code",
   "execution_count": 29,
   "metadata": {
    "collapsed": false
   },
   "outputs": [],
   "source": [
    "plt.clf()\n",
    "\n",
    "diff = 1\n",
    "upper_bound = np.max(list(infected_times.values())) + diff\n",
    "node_colors = [((upper_bound - infected_times[n] + diff) if n in infected_times else 0)\n",
    "               for n in g.nodes()]\n",
    "node_sizes = [(400 if n in observed else 50)\n",
    "              for n in g.nodes()]\n",
    "\n",
    "nx.draw(g, pos=pos, cmap='OrRd', vmin=vmin, vmax=vmax,\n",
    "        node_color=node_colors,\n",
    "        node_size=node_sizes)\n",
    "\n",
    "plt.savefig('figs/knk_partial_obs.pdf')"
   ]
  },
  {
   "cell_type": "code",
   "execution_count": 30,
   "metadata": {
    "collapsed": false
   },
   "outputs": [],
   "source": [
    "plt.clf()\n",
    "node_sizes = [(400 \n",
    "               if n in observed else\n",
    "               (400 if n in queries else 50))\n",
    "              for n in g.nodes()]\n",
    "\n",
    "nx.draw_networkx_labels(g,\n",
    "                        pos,\n",
    "                        {q: i for i, q in enumerate(queries)},\n",
    "                        font_size=20)\n",
    "nx.draw_networkx_nodes(g,\n",
    "                       pos=pos,\n",
    "                       cmap='OrRd',\n",
    "                       node_size=node_sizes,\n",
    "                       node_color=node_colors)\n",
    "nx.draw_networkx_edges(g.to_undirected(), pos)\n",
    "plt.savefig('figs/knk_queries.pdf')"
   ]
  },
  {
   "cell_type": "code",
   "execution_count": null,
   "metadata": {
    "collapsed": false
   },
   "outputs": [],
   "source": [
    "run_n = 100\n",
    "cascade_sizes = []\n",
    "query_sizes = []\n",
    "for _ in tqdm(range(run_n)):\n",
    "    g, infected_times, observed, queries = run_simulation(P_peri, 8, 512)\n",
    "    cascade_sizes.append(len(infected_times))\n",
    "    query_sizes.append(len(queries))\n",
    "    \n"
   ]
  },
  {
   "cell_type": "code",
   "execution_count": null,
   "metadata": {
    "collapsed": true
   },
   "outputs": [],
   "source": [
    "import pandas as pd\n",
    "df = pd.DataFrame.from_dict({'csize': cascade_sizes, 'qsize': query_sizes})"
   ]
  },
  {
   "cell_type": "code",
   "execution_count": null,
   "metadata": {
    "collapsed": false
   },
   "outputs": [],
   "source": [
    "cs = df['csize'].describe()\n",
    "qs = df['qsize'].describe()\n",
    "rs = (df['qsize'] / df['csize']).describe()\n",
    "\n",
    "stat = pd.DataFrame([cs.as_matrix(), qs.as_matrix(), rs.as_matrix()],\n",
    "                    columns=rs.index,\n",
    "                    index=['cascade size', 'query size', 'query size / cascade size'])\n"
   ]
  },
  {
   "cell_type": "code",
   "execution_count": null,
   "metadata": {
    "collapsed": false
   },
   "outputs": [],
   "source": [
    "print(stat.to_latex())"
   ]
  },
  {
   "cell_type": "code",
   "execution_count": null,
   "metadata": {
    "collapsed": false
   },
   "outputs": [],
   "source": [
    "df.plot.scatter(x='csize', y='qsize')"
   ]
  }
 ],
 "metadata": {
  "kernelspec": {
   "display_name": "Python 3",
   "language": "python",
   "name": "python3"
  },
  "language_info": {
   "codemirror_mode": {
    "name": "ipython",
    "version": 3
   },
   "file_extension": ".py",
   "mimetype": "text/x-python",
   "name": "python",
   "nbconvert_exporter": "python",
   "pygments_lexer": "ipython3",
   "version": "3.5.2"
  }
 },
 "nbformat": 4,
 "nbformat_minor": 0
}

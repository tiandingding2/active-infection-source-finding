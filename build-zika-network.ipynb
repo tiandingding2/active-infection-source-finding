{
 "cells": [
  {
   "cell_type": "code",
   "execution_count": 139,
   "metadata": {
    "collapsed": true
   },
   "outputs": [],
   "source": [
    "%matplotlib notebook\n",
    "import pandas as pd\n"
   ]
  },
  {
   "cell_type": "code",
   "execution_count": 140,
   "metadata": {
    "collapsed": false
   },
   "outputs": [
    {
     "name": "stdout",
     "output_type": "stream",
     "text": [
      "n. reported cases 5221\n",
      "n. unique places 416\n",
      "after removing country locations, n. reported cases 4845\n"
     ]
    },
    {
     "name": "stderr",
     "output_type": "stream",
     "text": [
      "/home/cloud-user/code/source_finding/venv/lib/python3.5/site-packages/IPython/core/interactiveshell.py:2717: DtypeWarning: Columns (7) have mixed types. Specify dtype option on import or set low_memory=False.\n",
      "  interactivity=interactivity, compiler=compiler, result=result)\n"
     ]
    }
   ],
   "source": [
    "df = pd.read_csv('data/zika/cdc_zika.csv', sep=',')\n",
    "df = df[df.location.map(lambda s: isinstance(s, str))]\n",
    "\n",
    "target_fields = pd.read_csv('data/zika/target_data_fields.txt')\n",
    "target_fields = set(target_fields.as_matrix().flatten())\n",
    "\n",
    "reports = df[df['data_field'].map(\n",
    "    lambda s: s in target_fields)]\n",
    "print('n. reported cases {}'.format(len(reports)))\n",
    "\n",
    "unique_places = reports.location.unique()\n",
    "print('n. unique places {}'.format(len(unique_places)))\n",
    "\n",
    "country_locations = {p for p in unique_places if len(p.split('-')) == 1}\n",
    "countries = {p.split('-')[0] for p in unique_places if len(p.split('-')) > 1}\n",
    "locations_to_remove = country_locations.intersection(countries)\n",
    "reports = reports[reports.location.map(lambda l: l not in locations_to_remove)]\n",
    "print('after removing country locations, n. reported cases {}'.format(len(reports)))"
   ]
  },
  {
   "cell_type": "code",
   "execution_count": 141,
   "metadata": {
    "collapsed": true
   },
   "outputs": [],
   "source": [
    "names = ['Airport ID', 'Name', 'City', 'Country', 'IATA', 'ICAO', 'Latitude', 'Longitude', 'Altitude', 'Timezone', 'DST', 'Tz', 'Type', 'Source']\n",
    "airports = pd.read_csv('data/zika/airports.dat', sep=',', names=names)"
   ]
  },
  {
   "cell_type": "code",
   "execution_count": 142,
   "metadata": {
    "collapsed": true
   },
   "outputs": [],
   "source": [
    "def map_location_to_airports(location, airports):\n",
    "    segs = location.split('-')\n",
    "    def replace_underscore(s):\n",
    "        return s.replace('_', ' ')\n",
    "    if len(segs) > 1:        \n",
    "        val = replace_underscore(segs[1])\n",
    "        field = 'City'\n",
    "    else:\n",
    "        val = replace_underscore(segs[0])\n",
    "        field = 'Country'\n",
    "    result = airports[airports[field] == val]    \n",
    "    airport_codes = set(result['IATA'].as_matrix())    \n",
    "    return sorted(set(filter(lambda s: s != '\\\\N', airport_codes)))"
   ]
  },
  {
   "cell_type": "code",
   "execution_count": 143,
   "metadata": {
    "collapsed": false
   },
   "outputs": [],
   "source": [
    "unique_locations = reports.location.unique()\n",
    "loc2airports = {}\n",
    "airport2loc = {}\n",
    "for loc in unique_locations:\n",
    "    airport_codes = map_location_to_airports(loc, airports)\n",
    "    loc2airports[loc] = airport_codes    \n",
    "    for code in airport_codes:\n",
    "        airport2loc[code] = loc"
   ]
  },
  {
   "cell_type": "code",
   "execution_count": 144,
   "metadata": {
    "collapsed": false
   },
   "outputs": [],
   "source": [
    "airports_to_merge = [codes for codes in loc2airports.values() if len(codes) > 1]\n",
    "loc2airport = {l: codes[0] for l, codes in loc2airports.items() if len(codes) > 0}\n",
    "# airports_to_merge"
   ]
  },
  {
   "cell_type": "code",
   "execution_count": 145,
   "metadata": {
    "collapsed": false
   },
   "outputs": [
    {
     "data": {
      "text/html": [
       "<div>\n",
       "<table border=\"1\" class=\"dataframe\">\n",
       "  <thead>\n",
       "    <tr style=\"text-align: right;\">\n",
       "      <th></th>\n",
       "      <th>Airline</th>\n",
       "      <th>Airline ID</th>\n",
       "      <th>src</th>\n",
       "      <th>src_id</th>\n",
       "      <th>des</th>\n",
       "      <th>des_id</th>\n",
       "      <th>Codeshare</th>\n",
       "      <th>Stops</th>\n",
       "      <th>Equipment</th>\n",
       "    </tr>\n",
       "  </thead>\n",
       "  <tbody>\n",
       "    <tr>\n",
       "      <th>0</th>\n",
       "      <td>2B</td>\n",
       "      <td>410</td>\n",
       "      <td>AER</td>\n",
       "      <td>2965</td>\n",
       "      <td>KZN</td>\n",
       "      <td>2990</td>\n",
       "      <td>NaN</td>\n",
       "      <td>0</td>\n",
       "      <td>CR2</td>\n",
       "    </tr>\n",
       "    <tr>\n",
       "      <th>1</th>\n",
       "      <td>2B</td>\n",
       "      <td>410</td>\n",
       "      <td>ASF</td>\n",
       "      <td>2966</td>\n",
       "      <td>KZN</td>\n",
       "      <td>2990</td>\n",
       "      <td>NaN</td>\n",
       "      <td>0</td>\n",
       "      <td>CR2</td>\n",
       "    </tr>\n",
       "  </tbody>\n",
       "</table>\n",
       "</div>"
      ],
      "text/plain": [
       "  Airline Airline ID  src src_id  des des_id Codeshare  Stops Equipment\n",
       "0      2B        410  AER   2965  KZN   2990       NaN      0       CR2\n",
       "1      2B        410  ASF   2966  KZN   2990       NaN      0       CR2"
      ]
     },
     "execution_count": 145,
     "metadata": {},
     "output_type": "execute_result"
    }
   ],
   "source": [
    "import networkx as nx\n",
    "# now construct location network\n",
    "names = ['Airline', 'Airline ID',\n",
    "         'src','src_id', 'des', 'des_id', \n",
    "         'Codeshare', 'Stops', 'Equipment']\n",
    "routes = pd.read_csv('data/zika/routes.dat', sep=',', names=names)\n",
    "\n",
    "routes.head(2)"
   ]
  },
  {
   "cell_type": "code",
   "execution_count": 146,
   "metadata": {
    "collapsed": false
   },
   "outputs": [],
   "source": [
    "# merge the names\n",
    "for codes in airports_to_merge:\n",
    "    head = codes[0]\n",
    "    for tail in codes[1:]:\n",
    "        routes.loc[routes['src'] == tail, 'src'] = head  # use loc for inplace change\n",
    "        routes.loc[routes['des'] == tail, 'des'] = head\n",
    "    "
   ]
  },
  {
   "cell_type": "code",
   "execution_count": 159,
   "metadata": {
    "collapsed": false
   },
   "outputs": [
    {
     "name": "stderr",
     "output_type": "stream",
     "text": [
      "67663it [00:10, 6579.10it/s]\n",
      "100%|██████████| 37307/37307 [00:03<00:00, 11714.05it/s]\n"
     ]
    }
   ],
   "source": [
    "from graph_tool import Graph\n",
    "from tqdm import tqdm\n",
    "g = Graph(directed=True)\n",
    "all_airports = sorted(set(routes.src.unique()) | set(routes.des.unique()))\n",
    "for _ in all_airports:\n",
    "    g.add_vertex()\n",
    "code = g.new_vertex_property('string')\n",
    "lonlat = g.new_vertex_property('vector<float>')\n",
    "for i, a in enumerate(all_airports):\n",
    "    code[i] = a\n",
    "    try:\n",
    "        air = airports[airports['IATA'] == a].iloc[0]\n",
    "        lonlat[i] = (air['Longitude'], air['Latitude'])    \n",
    "    except IndexError:\n",
    "        # print('ignore {}'.format(a))\n",
    "        pass\n",
    "code2node = {a: i for i, a in enumerate(all_airports)}\n",
    "g.vertex_properties['code'] = code\n",
    "g.vertex_properties['lonlat'] = lonlat\n",
    "\n",
    "all_edges = set()\n",
    "for i, r in tqdm(routes.iterrows()):\n",
    "    u, v = code2node[r['src']], code2node[r['des']]\n",
    "    all_edges.add((u, v))\n",
    "    \n",
    "for u, v in tqdm(all_edges):\n",
    "    g.add_edge(u, v)\n",
    "g.save('data/zika/graph.gt')"
   ]
  },
  {
   "cell_type": "code",
   "execution_count": 100,
   "metadata": {
    "collapsed": false
   },
   "outputs": [
    {
     "name": "stdout",
     "output_type": "stream",
     "text": [
      "before, #reports 895\n",
      "after, #reports 773\n"
     ]
    }
   ],
   "source": [
    "# filter out city without airport\n",
    "print('before, #reports {}'.format(len(reports)))\n",
    "reports = reports[reports.location.map(lambda l: l in loc2airport and loc2airport[l] in code2node)]\n",
    "print('after, #reports {}'.format(len(reports)))"
   ]
  },
  {
   "cell_type": "code",
   "execution_count": 101,
   "metadata": {
    "collapsed": false
   },
   "outputs": [],
   "source": [
    "report_node_id = [code2node[loc2airport[l]] for l in reports['location']]\n",
    "reports['airport_node'] = report_node_id"
   ]
  },
  {
   "cell_type": "code",
   "execution_count": 119,
   "metadata": {
    "collapsed": false
   },
   "outputs": [],
   "source": [
    "location_by_first_report = reports[['location', 'report_date']].groupby('location').agg({'report_date': np.min})"
   ]
  },
  {
   "cell_type": "code",
   "execution_count": 131,
   "metadata": {
    "collapsed": false
   },
   "outputs": [],
   "source": [
    "loc2first_report = location_by_first_report['report_date'].to_dict()\n",
    "first_reports = []\n",
    "for l, date in loc2first_report.items():\n",
    "    first_reports.append((date, l, code2node[loc2airport[l]]))\n",
    "first_reports = pd.DataFrame(first_reports, columns=['date', 'location', 'node_id'])"
   ]
  },
  {
   "cell_type": "code",
   "execution_count": 133,
   "metadata": {
    "collapsed": false
   },
   "outputs": [],
   "source": [
    "first_reports.to_csv('data/zika/cascades.csv', sep=',')"
   ]
  },
  {
   "cell_type": "code",
   "execution_count": 162,
   "metadata": {
    "collapsed": false
   },
   "outputs": [
    {
     "data": {
      "text/plain": [
       "(56, 3)"
      ]
     },
     "execution_count": 162,
     "metadata": {},
     "output_type": "execute_result"
    }
   ],
   "source": [
    "first_reports.shape"
   ]
  }
 ],
 "metadata": {
  "kernelspec": {
   "display_name": "Python 3",
   "language": "python",
   "name": "python3"
  },
  "language_info": {
   "codemirror_mode": {
    "name": "ipython",
    "version": 3
   },
   "file_extension": ".py",
   "mimetype": "text/x-python",
   "name": "python",
   "nbconvert_exporter": "python",
   "pygments_lexer": "ipython3",
   "version": "3.5.2"
  }
 },
 "nbformat": 4,
 "nbformat_minor": 2
}

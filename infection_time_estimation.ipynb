{
 "cells": [
  {
   "cell_type": "code",
   "execution_count": 1,
   "metadata": {
    "collapsed": false,
    "deletable": true,
    "editable": true
   },
   "outputs": [],
   "source": [
    "%matplotlib inline\n",
    "\n",
    "from graph_generator import grid_2d, add_p_and_delta\n",
    "from utils import infeciton_time2weight\n",
    "from plot_utils import plot_snapshot, add_colorbar\n",
    "from ic import sample_graph_from_infection, make_partial_cascade\n",
    "from joblib import Parallel, delayed\n",
    "from collections import defaultdict\n",
    "from tqdm import tqdm\n",
    "from scipy.stats import hmean"
   ]
  },
  {
   "cell_type": "code",
   "execution_count": null,
   "metadata": {
    "collapsed": true,
    "deletable": true,
    "editable": true
   },
   "outputs": [],
   "source": [
    "g = grid_2d(10)\n",
    "g = add_p_and_delta(g, p=0.7, d=1)"
   ]
  },
  {
   "cell_type": "code",
   "execution_count": null,
   "metadata": {
    "collapsed": true,
    "deletable": true,
    "editable": true
   },
   "outputs": [],
   "source": [
    "pos = {n: np.array(n) for n in g.nodes()}"
   ]
  },
  {
   "cell_type": "code",
   "execution_count": null,
   "metadata": {
    "collapsed": true,
    "deletable": true,
    "editable": true
   },
   "outputs": [],
   "source": [
    "def infection_time_estimation(g, n_rounds, mean_method='harmonic'):\n",
    "    \"\"\"\n",
    "    estimate the harmonic mean of infection times given each node as source\n",
    "\n",
    "    Returns:\n",
    "    dict source to nodes' infection time:\n",
    "    for each node as source, return the estimated infection times of all nodes\n",
    "    \"\"\"\n",
    "    sampled_graphs = [sample_graph_from_infection(g)\n",
    "                      for i in range(n_rounds)]\n",
    "    s2t_len_list = Parallel(n_jobs=-1)(\n",
    "        delayed(nx.shortest_path_length)(g, weight='d')\n",
    "        for g in sampled_graphs)\n",
    "    # 3D array\n",
    "    s2n_times = defaultdict(lambda: defaultdict(list))\n",
    "\n",
    "    for g, s2t_len in tqdm(zip(sampled_graphs, s2t_len_list)):\n",
    "        for s in s2t_len:\n",
    "            for n in g.nodes_iter():\n",
    "                s2n_times[s][n].append(s2t_len[s].get(n, float('inf')))\n",
    "\n",
    "    if mean_method == 'harmonic':\n",
    "        def mean_func(times):\n",
    "            times = np.array(times)\n",
    "            times = times[np.nonzero(times)]\n",
    "            if times.shape[0] >\t0:\n",
    "                return hmean(times)\n",
    "            else:  # all zeros\n",
    "                return 0\n",
    "    elif mean_method == 'arithmetic':\n",
    "        all_times = np.array([times\n",
    "                              for n2times in s2n_times.values()\n",
    "                              for times in n2times.values()])\n",
    "        all_times = np.ravel(all_times)\n",
    "        all_times = all_times[np.invert(np.isinf(all_times))]\n",
    "        inf_value = all_times.max() + 1\n",
    "        print(inf_value)\n",
    "\n",
    "        def mean_func(times):\n",
    "            times = np.array(times)\n",
    "            times[np.isinf(times)] = inf_value\n",
    "            return times.mean()\n",
    "\n",
    "    else:\n",
    "        raise ValueError('{\"harmoic\", \"arithmetic\"} accepted')\n",
    "\n",
    "    est = defaultdict(dict)\n",
    "    for s, n2times in tqdm(s2n_times.items()):\n",
    "        for n, times in n2times.items():\n",
    "            est[s][n] = mean_func(times)\n",
    "    return est, s2n_times"
   ]
  },
  {
   "cell_type": "code",
   "execution_count": null,
   "metadata": {
    "collapsed": false,
    "deletable": true,
    "editable": true
   },
   "outputs": [],
   "source": [
    "est, s2n_times = infection_time_estimation(g, 100, mean_method='arithmetic')\n",
    "print(est[(0, 0)][(0, 1)])\n",
    "weights = infeciton_time2weight(est[(0, 0)])\n",
    "plot_snapshot(g, pos, weights, source_node=(0, 0))\n",
    "add_colorbar(np.array(list(weights.values())))"
   ]
  },
  {
   "cell_type": "code",
   "execution_count": null,
   "metadata": {
    "collapsed": false,
    "deletable": true,
    "editable": true
   },
   "outputs": [],
   "source": [
    "print(est[(0, 0)][(0, 1)], est[(0, 0)][(0, 2)], est[(0, 0)][(1, 1)])"
   ]
  },
  {
   "cell_type": "code",
   "execution_count": null,
   "metadata": {
    "collapsed": false,
    "deletable": true,
    "editable": true
   },
   "outputs": [],
   "source": [
    "est, s2n_times = infection_time_estimation(g, 100, mean_method='harmonic')\n",
    "weights = infeciton_time2weight(est[(0, 0)])\n",
    "plot_snapshot(g, pos, weights, source_node=(0, 0))\n",
    "add_colorbar(np.array(list(weights.values())))"
   ]
  },
  {
   "cell_type": "code",
   "execution_count": null,
   "metadata": {
    "collapsed": false,
    "deletable": true,
    "editable": true
   },
   "outputs": [],
   "source": [
    "print(est[(0, 0)][(0, 1)], est[(0, 0)][(0, 2)], est[(0, 0)][(1, 1)])"
   ]
  },
  {
   "cell_type": "code",
   "execution_count": null,
   "metadata": {
    "collapsed": true,
    "deletable": true,
    "editable": true
   },
   "outputs": [],
   "source": [
    "source, obs_nodes, infection_times, _ = make_partial_cascade(g, 0.05, 'late_nodes')"
   ]
  },
  {
   "cell_type": "code",
   "execution_count": null,
   "metadata": {
    "collapsed": false,
    "deletable": true,
    "editable": true
   },
   "outputs": [],
   "source": [
    "plot_snapshot(g, pos, infeciton_time2weight(infection_times), queried_nodes=obs_nodes)"
   ]
  },
  {
   "cell_type": "code",
   "execution_count": null,
   "metadata": {
    "collapsed": false,
    "deletable": true,
    "editable": true
   },
   "outputs": [],
   "source": [
    "hmean([float('inf'), 100])"
   ]
  },
  {
   "cell_type": "code",
   "execution_count": 35,
   "metadata": {
    "collapsed": true
   },
   "outputs": [],
   "source": [
    "# faster version\n",
    "import itertools\n",
    "from scipy.sparse import csr_matrix"
   ]
  },
  {
   "cell_type": "code",
   "execution_count": 11,
   "metadata": {
    "collapsed": false
   },
   "outputs": [],
   "source": [
    "g = grid_2d(10)\n",
    "g = add_p_and_delta(g, p=0.7, d=1)\n",
    "node2id = {n: i for i, n in enumerate(g.nodes_iter())}"
   ]
  },
  {
   "cell_type": "code",
   "execution_count": 3,
   "metadata": {
    "collapsed": true
   },
   "outputs": [],
   "source": [
    "def run_one_round(sampled_g):\n",
    "    s2t_len = nx.shortest_path_length(sampled_g)\n",
    "    return [(s, (n, s2t_len[s].get(n, -1)))\n",
    "            for s in s2t_len\n",
    "            for n in sampled_g.nodes_iter()]"
   ]
  },
  {
   "cell_type": "code",
   "execution_count": 5,
   "metadata": {
    "collapsed": false
   },
   "outputs": [],
   "source": [
    "s2n_times_counter = defaultdict(lambda: defaultdict(int))\n",
    "snt_list_list = Parallel(n_jobs=-1)(delayed(run_one_round)(sample_graph_from_infection(g))\n",
    "                                    for i in range(100))"
   ]
  },
  {
   "cell_type": "code",
   "execution_count": 12,
   "metadata": {
    "collapsed": false
   },
   "outputs": [],
   "source": [
    "df = pd.DataFrame(list(itertools.chain(*snt_list_list)),\n",
    "                  columns=['source', 'node-time'])\n",
    "df['time'] = [t for _, (_, t) in itertools.chain(*snt_list_list)]"
   ]
  },
  {
   "cell_type": "code",
   "execution_count": 14,
   "metadata": {
    "collapsed": false
   },
   "outputs": [],
   "source": [
    "n_times = df['time'].max() - df['time'].min() + 2"
   ]
  },
  {
   "cell_type": "code",
   "execution_count": 37,
   "metadata": {
    "collapsed": false
   },
   "outputs": [],
   "source": [
    "d = {}\n",
    "\n",
    "for s, sdf in df.groupby('source'):\n",
    "    counts = sdf['node-time'].value_counts()\n",
    "    row, col = zip(*counts.index.tolist())\n",
    "    row = [node2id[v] for v in row]\n",
    "    col = np.array(col)\n",
    "    col[col == -1] = n_times-1\n",
    "    data = counts.as_matrix()\n",
    "    d[node2id[s]] = csr_matrix((data, (row, col)), shape=(g.number_of_nodes(), n_times))"
   ]
  }
 ],
 "metadata": {
  "kernelspec": {
   "display_name": "Python 3",
   "language": "python",
   "name": "python3"
  },
  "language_info": {
   "codemirror_mode": {
    "name": "ipython",
    "version": 3
   },
   "file_extension": ".py",
   "mimetype": "text/x-python",
   "name": "python",
   "nbconvert_exporter": "python",
   "pygments_lexer": "ipython3",
   "version": "3.5.2"
  }
 },
 "nbformat": 4,
 "nbformat_minor": 2
}

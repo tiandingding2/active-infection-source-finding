{
 "cells": [
  {
   "cell_type": "code",
   "execution_count": 1,
   "metadata": {
    "collapsed": false,
    "deletable": true,
    "editable": true
   },
   "outputs": [],
   "source": [
    "%matplotlib inline\n",
    "\n",
    "from graph_generator import grid_2d, add_p_and_delta\n",
    "from utils import infeciton_time2weight\n",
    "from plot_utils import plot_snapshot, add_colorbar\n",
    "from ic import sample_graph_from_infection, make_partial_cascade\n",
    "from joblib import Parallel, delayed\n",
    "from collections import defaultdict\n",
    "from tqdm import tqdm\n",
    "from scipy.stats import hmean"
   ]
  },
  {
   "cell_type": "code",
   "execution_count": null,
   "metadata": {
    "collapsed": true,
    "deletable": true,
    "editable": true
   },
   "outputs": [],
   "source": [
    "g = grid_2d(10)\n",
    "g = add_p_and_delta(g, p=0.7, d=1)"
   ]
  },
  {
   "cell_type": "code",
   "execution_count": null,
   "metadata": {
    "collapsed": true,
    "deletable": true,
    "editable": true
   },
   "outputs": [],
   "source": [
    "pos = {n: np.array(n) for n in g.nodes()}"
   ]
  },
  {
   "cell_type": "code",
   "execution_count": null,
   "metadata": {
    "collapsed": true,
    "deletable": true,
    "editable": true
   },
   "outputs": [],
   "source": [
    "def infection_time_estimation(g, n_rounds, mean_method='harmonic'):\n",
    "    \"\"\"\n",
    "    estimate the harmonic mean of infection times given each node as source\n",
    "\n",
    "    Returns:\n",
    "    dict source to nodes' infection time:\n",
    "    for each node as source, return the estimated infection times of all nodes\n",
    "    \"\"\"\n",
    "    sampled_graphs = [sample_graph_from_infection(g)\n",
    "                      for i in range(n_rounds)]\n",
    "    s2t_len_list = Parallel(n_jobs=-1)(\n",
    "        delayed(nx.shortest_path_length)(g, weight='d')\n",
    "        for g in sampled_graphs)\n",
    "    # 3D array\n",
    "    s2n_times = defaultdict(lambda: defaultdict(list))\n",
    "\n",
    "    for g, s2t_len in tqdm(zip(sampled_graphs, s2t_len_list)):\n",
    "        for s in s2t_len:\n",
    "            for n in g.nodes_iter():\n",
    "                s2n_times[s][n].append(s2t_len[s].get(n, float('inf')))\n",
    "\n",
    "    if mean_method == 'harmonic':\n",
    "        def mean_func(times):\n",
    "            times = np.array(times)\n",
    "            times = times[np.nonzero(times)]\n",
    "            if times.shape[0] >\t0:\n",
    "                return hmean(times)\n",
    "            else:  # all zeros\n",
    "                return 0\n",
    "    elif mean_method == 'arithmetic':\n",
    "        all_times = np.array([times\n",
    "                              for n2times in s2n_times.values()\n",
    "                              for times in n2times.values()])\n",
    "        all_times = np.ravel(all_times)\n",
    "        all_times = all_times[np.invert(np.isinf(all_times))]\n",
    "        inf_value = all_times.max() + 1\n",
    "        print(inf_value)\n",
    "\n",
    "        def mean_func(times):\n",
    "            times = np.array(times)\n",
    "            times[np.isinf(times)] = inf_value\n",
    "            return times.mean()\n",
    "\n",
    "    else:\n",
    "        raise ValueError('{\"harmoic\", \"arithmetic\"} accepted')\n",
    "\n",
    "    est = defaultdict(dict)\n",
    "    for s, n2times in tqdm(s2n_times.items()):\n",
    "        for n, times in n2times.items():\n",
    "            est[s][n] = mean_func(times)\n",
    "    return est, s2n_times"
   ]
  },
  {
   "cell_type": "code",
   "execution_count": null,
   "metadata": {
    "collapsed": false,
    "deletable": true,
    "editable": true
   },
   "outputs": [],
   "source": [
    "est, s2n_times = infection_time_estimation(g, 100, mean_method='arithmetic')\n",
    "print(est[(0, 0)][(0, 1)])\n",
    "weights = infeciton_time2weight(est[(0, 0)])\n",
    "plot_snapshot(g, pos, weights, source_node=(0, 0))\n",
    "add_colorbar(np.array(list(weights.values())))"
   ]
  },
  {
   "cell_type": "code",
   "execution_count": null,
   "metadata": {
    "collapsed": false,
    "deletable": true,
    "editable": true
   },
   "outputs": [],
   "source": [
    "print(est[(0, 0)][(0, 1)], est[(0, 0)][(0, 2)], est[(0, 0)][(1, 1)])"
   ]
  },
  {
   "cell_type": "code",
   "execution_count": null,
   "metadata": {
    "collapsed": false,
    "deletable": true,
    "editable": true
   },
   "outputs": [],
   "source": [
    "est, s2n_times = infection_time_estimation(g, 100, mean_method='harmonic')\n",
    "weights = infeciton_time2weight(est[(0, 0)])\n",
    "plot_snapshot(g, pos, weights, source_node=(0, 0))\n",
    "add_colorbar(np.array(list(weights.values())))"
   ]
  },
  {
   "cell_type": "code",
   "execution_count": null,
   "metadata": {
    "collapsed": false,
    "deletable": true,
    "editable": true
   },
   "outputs": [],
   "source": [
    "print(est[(0, 0)][(0, 1)], est[(0, 0)][(0, 2)], est[(0, 0)][(1, 1)])"
   ]
  },
  {
   "cell_type": "code",
   "execution_count": null,
   "metadata": {
    "collapsed": true,
    "deletable": true,
    "editable": true
   },
   "outputs": [],
   "source": [
    "source, obs_nodes, infection_times, _ = make_partial_cascade(g, 0.05, 'late_nodes')"
   ]
  },
  {
   "cell_type": "code",
   "execution_count": null,
   "metadata": {
    "collapsed": false,
    "deletable": true,
    "editable": true
   },
   "outputs": [],
   "source": [
    "plot_snapshot(g, pos, infeciton_time2weight(infection_times), queried_nodes=obs_nodes)"
   ]
  },
  {
   "cell_type": "code",
   "execution_count": null,
   "metadata": {
    "collapsed": false,
    "deletable": true,
    "editable": true
   },
   "outputs": [],
   "source": [
    "hmean([float('inf'), 100])"
   ]
  },
  {
   "cell_type": "code",
   "execution_count": 6,
   "metadata": {
    "collapsed": true
   },
   "outputs": [],
   "source": [
    "# faster version\n",
    "import itertools\n",
    "from scipy.sparse import csr_matrix"
   ]
  },
  {
   "cell_type": "code",
   "execution_count": 47,
   "metadata": {
    "collapsed": false
   },
   "outputs": [],
   "source": [
    "n_rounds = 100\n",
    "g = grid_2d(10)\n",
    "g = add_p_and_delta(g, p=0.7, d=1)\n",
    "node2id = {n: i for i, n in enumerate(g.nodes_iter())}\n",
    "def run_one_round(sampled_g, node2id):\n",
    "    s2t_len = nx.shortest_path_length(sampled_g)\n",
    "    return np.array([[node2id[s], node2id[n], t]\n",
    "                     for s in s2t_len\n",
    "                     for n, t in s2t_len[s].items()],\n",
    "                    dtype=np.int32)"
   ]
  },
  {
   "cell_type": "code",
   "execution_count": 59,
   "metadata": {
    "collapsed": false
   },
   "outputs": [],
   "source": [
    "snt_list_list = Parallel(n_jobs=-1)(delayed(run_one_round)(sample_graph_from_infection(g), node2id)\n",
    "                                    for i in range(n_rounds))\n",
    "\n",
    "df = pd.DataFrame(list(itertools.chain(*snt_list_list)),\n",
    "                  columns=['source', 'node', 'time'],\n",
    "                  dtype=np.uint16)"
   ]
  },
  {
   "cell_type": "code",
   "execution_count": 60,
   "metadata": {
    "collapsed": false
   },
   "outputs": [
    {
     "name": "stdout",
     "output_type": "stream",
     "text": [
      "<class 'pandas.core.frame.DataFrame'>\n",
      "RangeIndex: 923118 entries, 0 to 923117\n",
      "Data columns (total 3 columns):\n",
      "source    923118 non-null uint16\n",
      "node      923118 non-null uint16\n",
      "time      923118 non-null uint16\n",
      "dtypes: uint16(3)\n",
      "memory usage: 5.3 MB\n"
     ]
    }
   ],
   "source": [
    "df.info(memory_usage='deep')"
   ]
  }
 ],
 "metadata": {
  "kernelspec": {
   "display_name": "Python 3",
   "language": "python",
   "name": "python3"
  },
  "language_info": {
   "codemirror_mode": {
    "name": "ipython",
    "version": 3
   },
   "file_extension": ".py",
   "mimetype": "text/x-python",
   "name": "python",
   "nbconvert_exporter": "python",
   "pygments_lexer": "ipython3",
   "version": "3.5.2"
  }
 },
 "nbformat": 4,
 "nbformat_minor": 2
}

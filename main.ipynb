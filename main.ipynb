{
 "cells": [
  {
   "cell_type": "code",
   "execution_count": 1,
   "metadata": {
    "collapsed": false,
    "deletable": true,
    "editable": true
   },
   "outputs": [],
   "source": [
    "%matplotlib inline\n",
    "import matplotlib as mpl\n",
    "import networkx as nx\n",
    "import numpy as np\n",
    "import random\n",
    "import pandas as pd\n",
    "import math\n",
    "from copy import copy\n",
    "from collections import defaultdict\n",
    "from matplotlib import pyplot as plt\n",
    "from itertools import combinations\n",
    "from tqdm import tqdm\n",
    "from joblib import Parallel, delayed"
   ]
  },
  {
   "cell_type": "code",
   "execution_count": 2,
   "metadata": {
    "collapsed": true,
    "deletable": true,
    "editable": true
   },
   "outputs": [],
   "source": [
    "seed = 123456\n",
    "random.seed(seed)\n",
    "np.random.seed(seed)"
   ]
  },
  {
   "cell_type": "code",
   "execution_count": 3,
   "metadata": {
    "collapsed": true,
    "deletable": true,
    "editable": true
   },
   "outputs": [],
   "source": [
    "def sample_graph_from_infection(g):\n",
    "    g_bone = g.copy()\n",
    "    g = nx.Graph()\n",
    "    g.add_nodes_from(g_bone)\n",
    "    \n",
    "    # sample active edges\n",
    "    rands = np.random.random(g_bone.number_of_edges())\n",
    "    \n",
    "    probas = np.array([g_bone[i][j]['p'] for i, j in g_bone.edges_iter()])\n",
    "    all_edges = g_bone.edges()\n",
    "    active_edges = [all_edges[i] for i in (rands < probas).nonzero()[0]]\n",
    "\n",
    "    g.add_edges_from(active_edges)\n",
    "    \n",
    "    for i, j in g.edges_iter():\n",
    "        g[i][j]['tried'] = False\n",
    "        g[i][j]['d'] = g_bone[i][j]['d']\n",
    "        g[i][j]['p'] = g_bone[i][j]['p']        \n",
    "        \n",
    "    return g"
   ]
  },
  {
   "cell_type": "code",
   "execution_count": 4,
   "metadata": {
    "collapsed": false,
    "deletable": true,
    "editable": true
   },
   "outputs": [],
   "source": [
    "def simulate_IC(g, s=None, debug=False):\n",
    "    \"\"\"return dict of node to infected times\n",
    "    edges in g should contain the follow information:\n",
    "\n",
    "    - d: the transmission delay\n",
    "    - p: infection probability\n",
    "    \"\"\"\n",
    "    infection_time = {n: float('inf') for n in g.nodes_iter()}\n",
    "    bp = {n: None for n in g.nodes_iter()}  # back tracker\n",
    "        \n",
    "    g = sample_graph_from_infection(g)\n",
    "    \n",
    "    if debug:\n",
    "        print(g.edges())\n",
    "    if s is None:\n",
    "        s = random.choice(g.nodes())\n",
    "        \n",
    "    queue = [s]\n",
    "    t = 0\n",
    "    infection_time[s] = t\n",
    "    infection_paths = []\n",
    "    while len(queue) > 0:\n",
    "        outbreak_nodes = [u for u in queue if infection_time[u] <= t]\n",
    "        queue = list(set(queue) - set(outbreak_nodes))\n",
    "        infected_nodes = set()\n",
    "        if debug:\n",
    "            print('outbreak_nodes {}'.format(outbreak_nodes))\n",
    "        for u in outbreak_nodes:\n",
    "            for v in g.neighbors(u):\n",
    "                if not g[u][v]['tried']:\n",
    "                    if debug:\n",
    "                        print('{} infects {}'.format(u, v))                    \n",
    "                    g[u][v]['tried'] = True\n",
    "                    if np.isinf(infection_time[v]):  # not infected yet\n",
    "                        queue.append(v)\n",
    "\n",
    "                    # update infection time\n",
    "                    if (infection_time[u] + g[u][v]['d'] < infection_time[v]):\n",
    "                        infection_time[v] = infection_time[u] + g[u][v]['d']\n",
    "                        infected_nodes.add(v)\n",
    "                        bp[v] = u\n",
    "        if len(infected_nodes) == 0:\n",
    "            break\n",
    "        n = min(infected_nodes, key=lambda n: infection_time[n])\n",
    "        t = infection_time[n]\n",
    "    infection_tree = nx.Graph()\n",
    "    infection_tree.add_nodes_from(g.nodes())\n",
    "    del bp[s]\n",
    "    infection_tree.add_edges_from(bp.items())\n",
    "    return infection_time, infection_tree"
   ]
  },
  {
   "cell_type": "code",
   "execution_count": 5,
   "metadata": {
    "collapsed": false,
    "deletable": true,
    "editable": true
   },
   "outputs": [
    {
     "ename": "AssertionError",
     "evalue": "",
     "output_type": "error",
     "traceback": [
      "\u001b[0;31m---------------------------------------------------------------------------\u001b[0m",
      "\u001b[0;31mAssertionError\u001b[0m                            Traceback (most recent call last)",
      "\u001b[0;32m<ipython-input-5-4173535b8d6d>\u001b[0m in \u001b[0;36m<module>\u001b[0;34m()\u001b[0m\n\u001b[1;32m      7\u001b[0m \u001b[0mt\u001b[0m\u001b[0;34m,\u001b[0m \u001b[0mtree\u001b[0m \u001b[0;34m=\u001b[0m \u001b[0msimulate_IC\u001b[0m\u001b[0;34m(\u001b[0m\u001b[0mg\u001b[0m\u001b[0;34m,\u001b[0m \u001b[0ms\u001b[0m\u001b[0;34m=\u001b[0m\u001b[0ma\u001b[0m\u001b[0;34m)\u001b[0m\u001b[0;34m\u001b[0m\u001b[0m\n\u001b[1;32m      8\u001b[0m \u001b[0;32massert\u001b[0m \u001b[0mt\u001b[0m \u001b[0;34m==\u001b[0m \u001b[0;34m{\u001b[0m\u001b[0;34m'a'\u001b[0m\u001b[0;34m:\u001b[0m \u001b[0;36m0\u001b[0m\u001b[0;34m,\u001b[0m \u001b[0;34m'b'\u001b[0m\u001b[0;34m:\u001b[0m \u001b[0;36m2\u001b[0m\u001b[0;34m,\u001b[0m \u001b[0;34m'c'\u001b[0m\u001b[0;34m:\u001b[0m \u001b[0;36m1\u001b[0m\u001b[0;34m}\u001b[0m\u001b[0;34m\u001b[0m\u001b[0m\n\u001b[0;32m----> 9\u001b[0;31m \u001b[0;32massert\u001b[0m \u001b[0mtree\u001b[0m\u001b[0;34m.\u001b[0m\u001b[0medges\u001b[0m\u001b[0;34m(\u001b[0m\u001b[0;34m)\u001b[0m \u001b[0;34m==\u001b[0m \u001b[0;34m[\u001b[0m\u001b[0;34m(\u001b[0m\u001b[0;34m'a'\u001b[0m\u001b[0;34m,\u001b[0m \u001b[0;34m'c'\u001b[0m\u001b[0;34m)\u001b[0m\u001b[0;34m,\u001b[0m \u001b[0;34m(\u001b[0m\u001b[0;34m'b'\u001b[0m\u001b[0;34m,\u001b[0m \u001b[0;34m'c'\u001b[0m\u001b[0;34m)\u001b[0m\u001b[0;34m]\u001b[0m\u001b[0;34m\u001b[0m\u001b[0m\n\u001b[0m",
      "\u001b[0;31mAssertionError\u001b[0m: "
     ]
    }
   ],
   "source": [
    "g = nx.Graph()\n",
    "a, b, c = 'a', 'b', 'c'\n",
    "g.add_nodes_from([a, b, c])\n",
    "g.add_edge(a, b, {'d': 3, 'p': 1})\n",
    "g.add_edge(a, c, {'d': 1, 'p': 1})\n",
    "g.add_edge(b, c, {'d': 1, 'p': 1})\n",
    "t, tree = simulate_IC(g, s=a)\n",
    "assert t == {'a': 0, 'b': 2, 'c': 1}\n",
    "assert tree.edges() == [('a', 'c'), ('b', 'c')]"
   ]
  },
  {
   "cell_type": "code",
   "execution_count": 6,
   "metadata": {
    "collapsed": false,
    "deletable": true,
    "editable": true
   },
   "outputs": [
    {
     "data": {
      "image/png": "[encoded data removed]",
      "text/plain": [
       "<matplotlib.figure.Figure at 0x7fa4a5ef9be0>"
      ]
     },
     "metadata": {},
     "output_type": "display_data"
    }
   ],
   "source": [
    "n = 10\n",
    "g = nx.grid_2d_graph(n, n)\n",
    "for i, j in g.edges_iter():\n",
    "    g[i][j]['delay'] = 1\n",
    "pos = {n: np.array(n) for n in g.nodes()}    \n",
    "nx.draw_networkx(g, pos=pos, with_labels=False, node_size=150)"
   ]
  },
  {
   "cell_type": "code",
   "execution_count": 7,
   "metadata": {
    "collapsed": false,
    "deletable": true,
    "editable": true
   },
   "outputs": [],
   "source": [
    "def prepare_standard_infection_graph(g, p):\n",
    "    for i, j in g.edges_iter():\n",
    "        g[i][j]['p'] = p\n",
    "        g[i][j]['d'] = 1\n",
    "    return g\n",
    "\n",
    "\n",
    "def get_display_kwargs(g, infected_times, obs_nodes=set(), max_node_size=1000):\n",
    "    diff = 1\n",
    "    times = np.array(list(infected_times.values()))\n",
    "    times = times[np.invert(np.isinf(times))]\n",
    "    upper_bound = times.max() + diff\n",
    "    node_colors = [((upper_bound - infected_times[n] + diff) if not np.isinf(infected_times[n]) else 0)\n",
    "                   for n in g.nodes()]\n",
    "    def node_size(n):\n",
    "        if n in obs_nodes:\n",
    "            return max_node_size\n",
    "        elif not np.isinf(infected_times[n]):\n",
    "            return max_node_size / 4\n",
    "        else:\n",
    "            return max_node_size / 10\n",
    "    node_sizes = list(map(node_size, g.nodes()))\n",
    "    return {'node_size': node_sizes,\n",
    "            'node_color': node_colors,\n",
    "            'cmap': 'OrRd'}"
   ]
  },
  {
   "cell_type": "code",
   "execution_count": 8,
   "metadata": {
    "collapsed": true,
    "deletable": true,
    "editable": true
   },
   "outputs": [],
   "source": [
    "def add_colorbar(cvalues, cmap='OrRd'):\n",
    "    eps = np.maximum(0.0000000001, np.min(cvalues)/1000.)\n",
    "    vmin = np.min(cvalues) - eps\n",
    "    vmax = np.max(cvalues)\n",
    "    norm = mpl.colors.Normalize(vmin=vmin, vmax=vmax)\n",
    "    scm = mpl.cm.ScalarMappable(norm, cmap)\n",
    "    scm.set_array(cvalues)\n",
    "    plt.colorbar(scm)    "
   ]
  },
  {
   "cell_type": "code",
   "execution_count": 9,
   "metadata": {
    "collapsed": false,
    "deletable": true,
    "editable": true,
    "scrolled": true
   },
   "outputs": [
    {
     "data": {
      "image/png": "[encoded data removed]",
      "text/plain": [
       "<matplotlib.figure.Figure at 0x7fa4a5ea4828>"
      ]
     },
     "metadata": {},
     "output_type": "display_data"
    }
   ],
   "source": [
    "infp = 0.53\n",
    "g = prepare_standard_infection_graph(g, infp)\n",
    "\n",
    "infection_times, tree = simulate_IC(g)\n",
    "\n",
    "kwargs =get_display_kwargs(g, infection_times)\n",
    "nx.draw_networkx(g, pos=pos, with_labels=False, **kwargs)\n",
    "add_colorbar(kwargs['node_color'])\n"
   ]
  },
  {
   "cell_type": "code",
   "execution_count": 10,
   "metadata": {
    "collapsed": true,
    "deletable": true,
    "editable": true
   },
   "outputs": [],
   "source": [
    "def make_input(g, infp, fraction, sampling_method='uniform'):\n",
    "    while True:\n",
    "        infection_times, tree = simulate_IC(g)\n",
    "\n",
    "        cascade_size = np.count_nonzero(np.invert(np.isinf(list(infection_times.values()))))\n",
    "\n",
    "        sample_size = int(cascade_size * fraction)\n",
    "        infected_nodes = [n for n in g.nodes_iter() if not np.isinf(infection_times[n])]\n",
    "        \n",
    "        if sample_size > 1 and len(infected_nodes) > sample_size:\n",
    "            break    \n",
    "    if sampling_method == 'uniform':\n",
    "        obs_nodes = set(random.sample(infected_nodes, sample_size))\n",
    "    elif sampling_method == 'late_nodes':\n",
    "        obs_nodes = set(sorted(infected_nodes, key=lambda n: -infection_times[n])[:sample_size])\n",
    "    else:\n",
    "        raise ValueError('unknown sampling methods')\n",
    "\n",
    "    source = min(infection_times, key=lambda n: infection_times[n])\n",
    "    if source in obs_nodes:\n",
    "        obs_nodes.remove(source)\n",
    "    orig_obs_nodes = copy(obs_nodes)    \n",
    "    obs_infection_times = {n: infection_times[n] for n in obs_nodes}\n",
    "    print(\"{}/{} samples\".format(len(obs_nodes), cascade_size))\n",
    "    return orig_obs_nodes, infection_times, tree"
   ]
  },
  {
   "cell_type": "code",
   "execution_count": 11,
   "metadata": {
    "collapsed": false,
    "deletable": true,
    "editable": true
   },
   "outputs": [
    {
     "ename": "NameError",
     "evalue": "name 'obs_nodes' is not defined",
     "output_type": "error",
     "traceback": [
      "\u001b[0;31m---------------------------------------------------------------------------\u001b[0m",
      "\u001b[0;31mNameError\u001b[0m                                 Traceback (most recent call last)",
      "\u001b[0;32m<ipython-input-11-6e5f307c1148>\u001b[0m in \u001b[0;36m<module>\u001b[0;34m()\u001b[0m\n\u001b[0;32m----> 1\u001b[0;31m \u001b[0mkwargs\u001b[0m \u001b[0;34m=\u001b[0m \u001b[0mget_display_kwargs\u001b[0m\u001b[0;34m(\u001b[0m\u001b[0mg\u001b[0m\u001b[0;34m,\u001b[0m \u001b[0minfection_times\u001b[0m\u001b[0;34m,\u001b[0m \u001b[0mobs_nodes\u001b[0m\u001b[0;34m)\u001b[0m\u001b[0;34m\u001b[0m\u001b[0m\n\u001b[0m\u001b[1;32m      2\u001b[0m \u001b[0mfig\u001b[0m \u001b[0;34m=\u001b[0m \u001b[0mplt\u001b[0m\u001b[0;34m.\u001b[0m\u001b[0mfigure\u001b[0m\u001b[0;34m(\u001b[0m\u001b[0mfigsize\u001b[0m\u001b[0;34m=\u001b[0m\u001b[0;34m(\u001b[0m\u001b[0;36m5\u001b[0m\u001b[0;34m,\u001b[0m \u001b[0;36m5\u001b[0m\u001b[0;34m)\u001b[0m\u001b[0;34m)\u001b[0m\u001b[0;34m\u001b[0m\u001b[0m\n\u001b[1;32m      3\u001b[0m \u001b[0mnx\u001b[0m\u001b[0;34m.\u001b[0m\u001b[0mdraw_networkx\u001b[0m\u001b[0;34m(\u001b[0m\u001b[0mg\u001b[0m\u001b[0;34m,\u001b[0m \u001b[0mpos\u001b[0m\u001b[0;34m=\u001b[0m\u001b[0mpos\u001b[0m\u001b[0;34m,\u001b[0m \u001b[0mwith_labels\u001b[0m\u001b[0;34m=\u001b[0m\u001b[0;32mFalse\u001b[0m\u001b[0;34m,\u001b[0m \u001b[0;34m**\u001b[0m\u001b[0mkwargs\u001b[0m\u001b[0;34m)\u001b[0m\u001b[0;34m\u001b[0m\u001b[0m\n",
      "\u001b[0;31mNameError\u001b[0m: name 'obs_nodes' is not defined"
     ]
    }
   ],
   "source": [
    "kwargs = get_display_kwargs(g, infection_times, obs_nodes)\n",
    "fig = plt.figure(figsize=(5, 5))\n",
    "nx.draw_networkx(g, pos=pos, with_labels=False, **kwargs)"
   ]
  },
  {
   "cell_type": "code",
   "execution_count": 12,
   "metadata": {
    "collapsed": false,
    "deletable": true,
    "editable": true
   },
   "outputs": [],
   "source": [
    "\n",
    "def simulate_on_node_as_source(g, s, K, order_constraint_n, obs_nodes, infection_times):\n",
    "    success_cnt = 0\n",
    "    if order_constraint_n:\n",
    "        ordered_pairs = random.sample(list(combinations(obs_nodes, 2)), order_constraint_n)\n",
    "        ground_truth = np.array([infection_times[u] > infection_times[v] for u, v in ordered_pairs])\n",
    "\n",
    "    for i in range(K):\n",
    "        times, _ = simulate_IC(g, s=s)\n",
    "        inf_nodes = filter(lambda n: not np.isinf(times[n]), times)\n",
    "        if obs_nodes.issubset(set(inf_nodes)):\n",
    "            if order_constraint_n:\n",
    "                reality = np.array([times[u] > times[v] for u, v in ordered_pairs])\n",
    "                if (ground_truth == reality).all():\n",
    "                    success_cnt += 1\n",
    "            else:\n",
    "                success_cnt += 1\n",
    "    return s, success_cnt\n",
    "\n",
    "def estimate_source_likelihood(g, K, M, obs_nodes, infection_times):\n",
    "    result = Parallel(n_jobs=-1)(delayed(simulate_on_node_as_source)(g, s, K, M, obs_nodes, infection_times)\n",
    "                                 for s in g.nodes())\n",
    "    df = pd.DataFrame(result, columns=['node', 'cnt'])\n",
    "    df['mu'] = df['cnt'] / K\n",
    "\n",
    "    # stored here\n",
    "    mu = {r['node']: r['mu'] for i, r in df.iterrows()}\n",
    "    return mu"
   ]
  },
  {
   "cell_type": "code",
   "execution_count": 13,
   "metadata": {
    "collapsed": false,
    "deletable": true,
    "editable": true,
    "scrolled": true
   },
   "outputs": [
    {
     "ename": "NameError",
     "evalue": "name 'obs_nodes' is not defined",
     "output_type": "error",
     "traceback": [
      "\u001b[0;31m---------------------------------------------------------------------------\u001b[0m",
      "\u001b[0;31mNameError\u001b[0m                                 Traceback (most recent call last)",
      "\u001b[0;32m<ipython-input-13-73f24fe0f3ea>\u001b[0m in \u001b[0;36m<module>\u001b[0;34m()\u001b[0m\n\u001b[1;32m      8\u001b[0m \u001b[0;34m\u001b[0m\u001b[0m\n\u001b[1;32m      9\u001b[0m \u001b[0;34m\u001b[0m\u001b[0m\n\u001b[0;32m---> 10\u001b[0;31m \u001b[0mkwargs\u001b[0m \u001b[0;34m=\u001b[0m \u001b[0mget_display_kwargs\u001b[0m\u001b[0;34m(\u001b[0m\u001b[0mg\u001b[0m\u001b[0;34m,\u001b[0m \u001b[0minfection_times\u001b[0m\u001b[0;34m,\u001b[0m \u001b[0mobs_nodes\u001b[0m\u001b[0;34m)\u001b[0m\u001b[0;34m\u001b[0m\u001b[0m\n\u001b[0m\u001b[1;32m     11\u001b[0m \u001b[0mnx\u001b[0m\u001b[0;34m.\u001b[0m\u001b[0mdraw_networkx\u001b[0m\u001b[0;34m(\u001b[0m\u001b[0mg\u001b[0m\u001b[0;34m,\u001b[0m \u001b[0mpos\u001b[0m\u001b[0;34m=\u001b[0m\u001b[0mpos\u001b[0m\u001b[0;34m,\u001b[0m \u001b[0mwith_labels\u001b[0m\u001b[0;34m=\u001b[0m\u001b[0;32mFalse\u001b[0m\u001b[0;34m,\u001b[0m \u001b[0max\u001b[0m\u001b[0;34m=\u001b[0m\u001b[0max\u001b[0m\u001b[0;34m[\u001b[0m\u001b[0;36m0\u001b[0m\u001b[0;34m,\u001b[0m \u001b[0;36m0\u001b[0m\u001b[0;34m]\u001b[0m\u001b[0;34m,\u001b[0m \u001b[0;34m**\u001b[0m\u001b[0mkwargs\u001b[0m\u001b[0;34m)\u001b[0m\u001b[0;34m\u001b[0m\u001b[0m\n\u001b[1;32m     12\u001b[0m \u001b[0;31m# add_colorbar(kwargs['node_color'])\u001b[0m\u001b[0;34m\u001b[0m\u001b[0;34m\u001b[0m\u001b[0m\n",
      "\u001b[0;31mNameError\u001b[0m: name 'obs_nodes' is not defined"
     ]
    },
    {
     "data": {
      "image/png": "[encoded data removed]",
      "text/plain": [
       "<matplotlib.figure.Figure at 0x7fa4a5e60160>"
      ]
     },
     "metadata": {},
     "output_type": "display_data"
    }
   ],
   "source": [
    "# source likelihood given observation\n",
    "# using different number of constraints\n",
    "K = 100\n",
    "M = 5  # number of pairwise order constraints\n",
    "fig, ax = plt.subplots(2, 2, num=1,\n",
    "                       sharex=True, sharey=True,\n",
    "                       figsize=(10, 10))\n",
    "\n",
    "\n",
    "kwargs = get_display_kwargs(g, infection_times, obs_nodes)\n",
    "nx.draw_networkx(g, pos=pos, with_labels=False, ax=ax[0, 0], **kwargs)\n",
    "# add_colorbar(kwargs['node_color'])\n",
    "ax[0, 0].set_title('infection time')\n",
    "\n",
    "def run_with_n_constraints(M, i, j):\n",
    "    kwargs = get_display_kwargs(g, infection_times, obs_nodes=set())\n",
    "    mu = estimate_source_likelihood(g, K, M, obs_nodes, infection_times)\n",
    "    kwargs['node_color'] = [mu.get(n, 0) for n in g.nodes()]\n",
    "    nx.draw_networkx(g, pos=pos, with_labels=False, ax=ax[i, j], **kwargs)\n",
    "    ax[i, j].set_title('estimated source likeihood (with {} constraint)'.format(M))\n",
    "# add_colorbar(kwargs['node_color'])\n",
    "run_with_n_constraints(0, 0, 1)\n",
    "run_with_n_constraints(5, 1, 0)\n",
    "run_with_n_constraints(10, 1, 1)\n"
   ]
  },
  {
   "cell_type": "code",
   "execution_count": null,
   "metadata": {
    "collapsed": true,
    "deletable": true,
    "editable": true
   },
   "outputs": [],
   "source": [
    "def simulate_given_passing_edge(g, q, u, s, K, M, max_attempts, infection_times, obs_nodes=set()):\n",
    "    \"\"\"\n",
    "    q: query node\n",
    "    u: direction node\n",
    "    s: source node\n",
    "    K: valid cascade number\n",
    "    M: number of order pairs\"\"\"\n",
    "    attempts = 0\n",
    "    valid_cnt = 0  # valid if q and u is infected\n",
    "    success_cnt = 0\n",
    "    if M:\n",
    "        ordered_pairs = random.sample(list(combinations(obs_nodes, 2)), M)\n",
    "        ground_truth = np.array([infection_times[u] > infection_times[v] for u, v in ordered_pairs])\n",
    "\n",
    "    \n",
    "    while valid_cnt < K and attempts < max_attempts:\n",
    "        attempts += 1\n",
    "        time, tree = simulate_IC(g, s=s)\n",
    "        if not np.isinf(time[q]) and not np.isinf(time[u]):\n",
    "            valid_cnt +=1 \n",
    "            if tree.has_edge(q, u) and time[q] - time[u] == g[q][u]['d']:\n",
    "                inf_nodes = set(filter(lambda n: not np.isinf(time[n]), time))\n",
    "                if obs_nodes.issubset(inf_nodes):\n",
    "                    if M:\n",
    "                        reality = np.array([time[u] > time[v] for u, v in ordered_pairs])\n",
    "                        if (ground_truth == reality).all():\n",
    "                            success_cnt += 1\n",
    "                    else:\n",
    "                        success_cnt += 1\n",
    "    return s, success_cnt\n"
   ]
  },
  {
   "cell_type": "code",
   "execution_count": null,
   "metadata": {
    "collapsed": true,
    "deletable": true,
    "editable": true
   },
   "outputs": [],
   "source": [
    "def estimate_source_likelihood_given_edge(g, q, u, K, M,\n",
    "                                          max_attempts, infection_times, obs_nodes):\n",
    "    cands = set(g.nodes()) - {q} - set(g.neighbors(q)) - obs_nodes\n",
    "    result = Parallel(n_jobs=-1)(delayed(simulate_given_passing_edge)(g, q, u, s=s, \n",
    "                                                                        K=K, M=M,\n",
    "                                                                        max_attempts=max_attempts,\n",
    "                                                                        infection_times=infection_times,\n",
    "                                                                        obs_nodes=obs_nodes)\n",
    "                                    for s in cands)\n",
    "    df = pd.DataFrame(result, columns=['node', 'cnt'])\n",
    "    df['mu'] = df['cnt'] / K\n",
    "\n",
    "    # stored here\n",
    "    mu = {r['node']: r['mu'] for i, r in df.iterrows()}\n",
    "    return mu"
   ]
  },
  {
   "cell_type": "code",
   "execution_count": null,
   "metadata": {
    "collapsed": false,
    "deletable": true,
    "editable": true
   },
   "outputs": [],
   "source": [
    "# fixing query and edge\n",
    "# check the likelihood change with different number of node order constraints.\n",
    "K = 50\n",
    "M=5\n",
    "max_attempts=200\n",
    "q = random.choice(list(set(tree.nodes()) - obs_nodes))\n",
    "print(q)\n",
    "u = [u for u in g.neighbors(q)\n",
    "     if infection_times[q] - infection_times[u] == g[q][u]['d']]\n",
    "u = u[0]\n",
    "print(u)\n",
    "\n",
    "fig, ax = plt.subplots(3, 2, num=1, sharex=True, sharey=True,\n",
    "                       figsize=(10, 15))\n",
    "\n",
    "\n",
    "kwargs = get_display_kwargs(g, infection_times, obs_nodes)\n",
    "nx.draw_networkx(g, pos=pos, with_labels=False, ax=ax[0, 0], **kwargs)\n",
    "# add_colorbar(kwargs['node_color'])\n",
    "ax[0, 0].set_title('infection time (+ observation)')\n",
    "\n",
    "kwargs = get_display_kwargs(g, infection_times, {q, u})\n",
    "mu = estimate_source_likelihood(g, K, M, obs_nodes, infection_times)\n",
    "kwargs['node_color'] = [mu.get(n) for n in g.nodes()]\n",
    "nx.draw_networkx(g, pos=pos, with_labels=False, ax=ax[0, 1], **kwargs)\n",
    "# add_colorbar(kwargs['node_color'])\n",
    "ax[0, 1].set_title('infection time (+ query and response)')\n",
    "\n",
    "def run_with_n_constraints(M, i, j):\n",
    "    kwargs = get_display_kwargs(g, infection_times, obs_nodes=set())\n",
    "    mu = estimate_source_likelihood_given_edge(g, q, u, K, M, max_attempts, infection_times, obs_nodes)\n",
    "    kwargs['node_color'] = [mu.get(n, 0) for n in g.nodes()]\n",
    "    nx.draw_networkx(g, pos=pos, with_labels=False, ax=ax[i, j], **kwargs)\n",
    "    ax[i, j].set_title('estimated source likeihood (with {} constraint)'.format(M))\n",
    "\n",
    "run_with_n_constraints(0, 1, 0)\n",
    "run_with_n_constraints(5, 1, 1)\n",
    "run_with_n_constraints(10, 2, 0)\n",
    "run_with_n_constraints(15, 2, 1)"
   ]
  },
  {
   "cell_type": "code",
   "execution_count": null,
   "metadata": {
    "collapsed": false,
    "deletable": true,
    "editable": true
   },
   "outputs": [],
   "source": [
    "print(infection_times[q])\n",
    "print(infection_times[u])\n",
    "q, u"
   ]
  },
  {
   "cell_type": "code",
   "execution_count": null,
   "metadata": {
    "collapsed": true,
    "deletable": true,
    "editable": true
   },
   "outputs": [],
   "source": [
    "def get_nodes_on_and_off_direction(g, start, end):\n",
    "    pos_nodes = set()\n",
    "    neg_nodes = set()\n",
    "    for t, path in nx.shortest_path(g, source=start).items():\n",
    "        if len(path) == 1:\n",
    "            pos_nodes.add(t)\n",
    "        elif path[1] == end:\n",
    "            # print(t, path)\n",
    "            pos_nodes.add(t)\n",
    "        else:\n",
    "            neg_nodes.add(t)\n",
    "    return pos_nodes, neg_nodes"
   ]
  },
  {
   "cell_type": "code",
   "execution_count": null,
   "metadata": {
    "collapsed": false,
    "deletable": true,
    "editable": true
   },
   "outputs": [],
   "source": [
    "q = (9, 7)\n",
    "u = (8, 7)\n",
    "pos_nods, neg_nodes = get_nodes_on_and_off_direction(g, q, u)"
   ]
  },
  {
   "cell_type": "code",
   "execution_count": null,
   "metadata": {
    "collapsed": false,
    "deletable": true,
    "editable": true
   },
   "outputs": [],
   "source": [
    "node_color = [1 if n == q else (3 if n == u else 0)\n",
    "              for n in g.nodes() ]\n",
    "nx.draw_networkx(g, pos=pos, \n",
    "                 node_color=node_color,\n",
    "                 node_size=[400 if n in pos_nodes else 200 for n in g.nodes()],\n",
    "                 with_labels=False)"
   ]
  },
  {
   "cell_type": "code",
   "execution_count": null,
   "metadata": {
    "collapsed": false,
    "deletable": true,
    "editable": true
   },
   "outputs": [],
   "source": [
    "# multiplicative weight update method\n",
    "# initial mu\n",
    "def mwu(g, orig_obs_nodes,\n",
    "        infection_times, \n",
    "        p_on_mu, \n",
    "        mu, \n",
    "        max_iter, \n",
    "        max_plot_iter=11,\n",
    "        debug=False, plot=False):\n",
    "    use_sampling = False\n",
    "    epsilon = 1e-5  # smoothing parameter\n",
    "    obs_nodes = copy(orig_obs_nodes)\n",
    "    K = 25\n",
    "    M = len(obs_nodes)\n",
    "    \n",
    "    source = min(infection_times, key=lambda n: infection_times[n])\n",
    "    \n",
    "\n",
    "    K = 50\n",
    "    max_attempts = 500\n",
    "\n",
    "    sp_len = nx.shortest_path_length(g, weight='d')\n",
    "\n",
    "    iter_i = 0\n",
    "\n",
    "    if plot:\n",
    "        ncols = 2\n",
    "        nrows = math.ceil((max_plot_iter + 1) / ncols)\n",
    "        width = 12\n",
    "        height = int(width * nrows / ncols)\n",
    "        fig, ax = plt.subplots(nrows, ncols,\n",
    "                               sharex=True, sharey=True,\n",
    "                               figsize=(width, height))\n",
    "        kwargs = get_display_kwargs(g, infection_times, obs_nodes=obs_nodes)\n",
    "        nx.draw_networkx(g, pos=pos, with_labels=False, ax=ax[0, 0], **kwargs)\n",
    "        ax[0, 0].set_title('ground truth')\n",
    "\n",
    "    cands = set(g.nodes())\n",
    "    if debug:\n",
    "        print('correct source is {}'.format(source))\n",
    "    all_nodes = set(g.nodes())\n",
    "    queried_nodes = set()\n",
    "    while iter_i < max_iter:\n",
    "        def phi(q, g, mu, sp_len):\n",
    "            return np.sum([mu[v] * sp_len[q][v] for v in g.nodes_iter()])\n",
    "        q = min(all_nodes, key=lambda q: phi(q, g, mu, sp_len))\n",
    "        if debug:\n",
    "            print('query node: {}'.format(q))\n",
    "\n",
    "        if plot and iter_i+1 <= max_plot_iter:\n",
    "            kwargs = get_display_kwargs(g, mu, obs_nodes={q})\n",
    "            likelihood_colors = [mu.get(n, 0) for n in g.nodes()]\n",
    "\n",
    "            i, j = int((iter_i + 1) / ncols), (iter_i + 1) % ncols\n",
    "            kwargs['node_color'] = likelihood_colors\n",
    "            nx.draw_networkx(g, pos=pos, with_labels=False, ax=ax[i, j], **kwargs)\n",
    "            ax[i, j].set_title('iter_i={}'.format(iter_i))\n",
    "\n",
    "        if q not in obs_nodes:\n",
    "            obs_nodes.add(q)\n",
    "            queried_nodes.add(q)\n",
    "\n",
    "        if np.isinf(infection_times[q]):  # q is uninfected        \n",
    "            if debug:\n",
    "                print('query is uninfected')\n",
    "            mu[q] = 0\n",
    "        else:        \n",
    "            if debug:\n",
    "                print('query is infected')\n",
    "            found_source = True\n",
    "            for u in g.neighbors(q):                \n",
    "                if u not in obs_nodes:  # need to query it\n",
    "                    obs_nodes.add(u)\n",
    "                    queried_nodes.add(u)\n",
    "\n",
    "                if infection_times[q] > infection_times[u]:\n",
    "                    # q later than u                    \n",
    "                    found_source = False\n",
    "                    # found the direction\n",
    "                    if infection_times[q] - infection_times[u] == g[q][u]['d']:\n",
    "                        mu[q] = 0\n",
    "                        if q in cands:\n",
    "                            cands.remove(q)\n",
    "                        break\n",
    "                else:\n",
    "                    # q earlier than u\n",
    "                    mu[u] = 0\n",
    "                    if u in cands:\n",
    "                        cands.remove(u)\n",
    "            \n",
    "            if found_source:\n",
    "                source = q\n",
    "                expected = min(infection_times, key=lambda n: infection_times[n])\n",
    "                print('**Found** source: {}'.format(source))\n",
    "                assert source == expected\n",
    "                print('query count {}'.format(len(queried_nodes)))\n",
    "                break\n",
    "            else:\n",
    "                assert infection_times[q] - infection_times[u] == g[q][u]['d']\n",
    "                if use_sampling:\n",
    "                    # update likelihood                      \n",
    "                    if debug:\n",
    "                        print('M={}'.format(len(obs_nodes)))                    \n",
    "                    result = Parallel(n_jobs=-1)(delayed(simulate_given_passing_edge)(g, q=q, u=u, s=s,\n",
    "                                                                                      obs_nodes=obs_nodes,\n",
    "                                                                                      K=K, M=len(obs_nodes),\n",
    "                                                                                      max_attempts=max_attempts,\n",
    "                                                                                      infection_times=infection_times)\n",
    "                                                 for s in cands)\n",
    "                    df = pd.DataFrame(result, columns=['node', 'cnt'])\n",
    "                    df['p'] = df['cnt'] / K\n",
    "                    # update mu\n",
    "                    for i, r in df.iterrows():\n",
    "                        mu[r['node']] *= r['p']\n",
    "                        mu[r['node']] += epsilon  # smoothing\n",
    "                else:\n",
    "                    pos_nodes, neg_nodes = get_nodes_on_and_off_direction(g, q, u)\n",
    "                    for n in pos_nodes:\n",
    "                        mu[n] *= p_on_mu ** sp_len[u][n]\n",
    "                    for n in neg_nodes:\n",
    "                        mu[n] *= (1 - p_on_mu) ** sp_len[u][n]\n",
    "        total = sum(mu.values())\n",
    "        mu = {n: (v / total) for n, v in mu.items()}  # normalize it\n",
    "        # print(mu)\n",
    "        if debug:\n",
    "            print('mu[{}] = {}'.format(source, mu[source]))\n",
    "        likelihood_colors = [mu.get(n, 0) for n in g.nodes()]\n",
    "        iter_i += 1\n",
    "    return len(queried_nodes)\n",
    "# def multiplicated_weight_update(g, mu, infection_time):"
   ]
  },
  {
   "cell_type": "code",
   "execution_count": null,
   "metadata": {
    "collapsed": true,
    "deletable": true,
    "editable": true
   },
   "outputs": [],
   "source": [
    "def baseline_dog_tracker(g, obs_nodes, infection_times):\n",
    "    query_count = 0\n",
    "    q = min(obs_nodes, key=lambda n: infection_times[n])\n",
    "    while True:\n",
    "        if q not in obs_nodes:\n",
    "            query_count += 1\n",
    "            obs_nodes.add(q)\n",
    "            \n",
    "        found_source = True\n",
    "        for u in g.neighbors(q):\n",
    "            if u not in obs_nodes:  # need to query it\n",
    "                obs_nodes.add(u)\n",
    "                query_count += 1            \n",
    "\n",
    "            if infection_times[q] > infection_times[u]:\n",
    "                # q later than u                    \n",
    "                found_source = False\n",
    "                # found the direction\n",
    "                if infection_times[q] - infection_times[u] == g[q][u]['d']:\n",
    "                    q = u\n",
    "                    break\n",
    "        if found_source:\n",
    "            source = q\n",
    "            expected = min(infection_times, key=lambda n: infection_times[n])\n",
    "            print('**Found** source: {}'.format(source))\n",
    "            assert source == expected            \n",
    "            break\n",
    "    return query_count\n",
    "        \n"
   ]
  },
  {
   "cell_type": "code",
   "execution_count": null,
   "metadata": {
    "collapsed": false,
    "deletable": true,
    "editable": true,
    "scrolled": true
   },
   "outputs": [],
   "source": [
    "infp = 0.7\n",
    "g = prepare_standard_infection_graph(g, infp)\n",
    "\n",
    "p_on_mu = abs(infp-0.5) + 0.5\n",
    "fraction = 0.05\n",
    "K = 100\n",
    "M = 5\n",
    "N = 50\n",
    "cnts = []\n",
    "inputs = []\n",
    "for i in range(N):\n",
    "    print('experiment {}'.format(i+1))\n",
    "    obs_nodes, infection_times, tree = make_input(g, infp, fraction, sampling_method='late_nodes')\n",
    "    mu = estimate_source_likelihood(g, K, M, obs_nodes, infection_times)\n",
    "    \n",
    "    inputs.append(\n",
    "        (obs_nodes, infection_times, tree, mu)\n",
    "    )\n",
    "\n",
    "    c = mwu(g, obs_nodes,\n",
    "            infection_times, \n",
    "            p_on_mu,\n",
    "            mu,\n",
    "            max_iter=float('inf'), debug=False)\n",
    "    cnts.append(c)\n",
    "    print()"
   ]
  },
  {
   "cell_type": "code",
   "execution_count": null,
   "metadata": {
    "collapsed": false,
    "deletable": true,
    "editable": true
   },
   "outputs": [],
   "source": [
    "# manual inspection\n",
    "bad_example1 = 11  # zero division\n",
    "bad_example2 = 2  #  many querys\n",
    "normal_example = 1\n",
    "obs, times, tree, mu = inputs[normal_example]\n",
    "# mu = estimate_source_likelihood(g, K, M, obs_nodes, infection_times)\n",
    "mwu(g, obs, times, \n",
    "    p_on_mu=abs(infp-0.5) + 0.5,\n",
    "    mu=mu,\n",
    "    max_iter=float('inf'), debug=True, plot=True)"
   ]
  },
  {
   "cell_type": "code",
   "execution_count": null,
   "metadata": {
    "collapsed": true,
    "deletable": true,
    "editable": true
   },
   "outputs": [],
   "source": [
    "s1 = pd.Series(cnts)\n",
    "s1.describe()"
   ]
  },
  {
   "cell_type": "code",
   "execution_count": null,
   "metadata": {
    "collapsed": true,
    "deletable": true,
    "editable": true
   },
   "outputs": [],
   "source": [
    "cnts = []\n",
    "for i in tqdm(range(N)):\n",
    "    obs_nodes, infection_times, tree = make_input(g, infp, fraction, sampling_method='late_nodes')\n",
    "    c = baseline_dog_tracker(g, obs_nodes, infection_times)\n",
    "    cnts.append(c)"
   ]
  },
  {
   "cell_type": "code",
   "execution_count": null,
   "metadata": {
    "collapsed": true,
    "deletable": true,
    "editable": true
   },
   "outputs": [],
   "source": [
    "s2 = pd.Series(cnts)\n",
    "s2.describe()"
   ]
  },
  {
   "cell_type": "code",
   "execution_count": null,
   "metadata": {
    "collapsed": false,
    "deletable": true,
    "editable": true
   },
   "outputs": [],
   "source": [
    "print('late nodes sampling')\n",
    "cmp = pd.DataFrame.from_dict({'multiplicative': s1.describe(), 'baseline': s2.describe()})\n",
    "cmp"
   ]
  },
  {
   "cell_type": "code",
   "execution_count": null,
   "metadata": {
    "collapsed": false,
    "deletable": true,
    "editable": true
   },
   "outputs": [],
   "source": [
    "print('unfiorm sampling')\n",
    "cmp"
   ]
  },
  {
   "cell_type": "code",
   "execution_count": null,
   "metadata": {
    "collapsed": true,
    "deletable": true,
    "editable": true
   },
   "outputs": [],
   "source": [
    "infection_times = obs_infection_times\n",
    "nodes = obs_nodes"
   ]
  },
  {
   "cell_type": "code",
   "execution_count": null,
   "metadata": {
    "collapsed": false,
    "deletable": true,
    "editable": true
   },
   "outputs": [],
   "source": [
    "def reverse_infection():\n",
    "    u = max(nodes, key=lambda n: infection_times[n])\n",
    "    tmax = infection_times[u]\n",
    "    O = copy(nodes)\n",
    "    infection_times = copy(infection_times)\n",
    "    queue = [u]\n",
    "    found = False\n",
    "    time = max(infection_times.values())\n",
    "    m = defaultdict(set)\n",
    "    while not found:\n",
    "        obs_i = filter(lambda n: infection_times[n] == time, O)\n",
    "        for u in obs_i:\n",
    "            for v in g.neighbors(u):\n",
    "                if u not in m[v] or (infection_times[u] < time - g[u][v]['d']):\n",
    "                    m[v]"
   ]
  },
  {
   "cell_type": "code",
   "execution_count": null,
   "metadata": {
    "collapsed": true,
    "deletable": true,
    "editable": true
   },
   "outputs": [],
   "source": [
    "nx.ran"
   ]
  }
 ],
 "metadata": {
  "kernelspec": {
   "display_name": "Python 3",
   "language": "python",
   "name": "python3"
  },
  "language_info": {
   "codemirror_mode": {
    "name": "ipython",
    "version": 3
   },
   "file_extension": ".py",
   "mimetype": "text/x-python",
   "name": "python",
   "nbconvert_exporter": "python",
   "pygments_lexer": "ipython3",
   "version": "3.5.2"
  }
 },
 "nbformat": 4,
 "nbformat_minor": 0
}

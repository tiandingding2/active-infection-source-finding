{
 "cells": [
  {
   "cell_type": "code",
   "execution_count": 1,
   "metadata": {
    "collapsed": true
   },
   "outputs": [],
   "source": [
    "%matplotlib notebook\n"
   ]
  },
  {
   "cell_type": "code",
   "execution_count": 2,
   "metadata": {
    "collapsed": false
   },
   "outputs": [
    {
     "name": "stderr",
     "output_type": "stream",
     "text": [
      "100%|██████████| 100/100 [00:01<00:00, 50.82it/s]\n"
     ]
    }
   ],
   "source": [
    "import pickle as pkl\n",
    "from graph_tool import Graph, load_graph\n",
    "from glob import glob\n",
    "from utils import earliest_obs_node\n",
    "from gt_utils import edges_to_directed_tree, get_roots\n",
    "from feasibility import is_arborescence\n",
    "from tqdm import tqdm\n",
    "\n",
    "g = load_graph('data/grid-64/graph.gt')\n",
    "\n",
    "for p in tqdm(glob('outputs/paper_experiment/grid-64/si/no-order/qs/0.9/*.pkl')):\n",
    "    infection_times, source, obs_nodes, true_edges, pred_edges = pkl.load(open(p, 'rb'))\n",
    "    root = earliest_obs_node(obs_nodes, infection_times)\n",
    "    \n",
    "    t = edges_to_directed_tree(g, root, pred_edges)\n",
    "    \n",
    "    assert root in get_roots(t)\n",
    "    assert is_arborescence(t) \n",
    "    "
   ]
  },
  {
   "cell_type": "code",
   "execution_count": null,
   "metadata": {
    "collapsed": false
   },
   "outputs": [],
   "source": [
    "p = 'outputs/paper_experiment/barabasi-64/si/no-order/qs/0.1/84.pkl'\n",
    "infection_times, source, obs_nodes, true_edges, pred_edges = pkl.load(open(p, 'rb'))\n",
    "root = earliest_obs_node(obs_nodes, infection_times)\n",
    "print(root)\n",
    "t = edges_to_directed_tree(g, root, pred_edges)\n",
    "\n",
    "assert is_arborescence(t)    "
   ]
  },
  {
   "cell_type": "code",
   "execution_count": null,
   "metadata": {
    "collapsed": false
   },
   "outputs": [],
   "source": [
    "from matplotlib import pyplot as plt\n",
    "\n",
    "from plot_utils import plot_snapshot\n",
    "import networkx as nx\n",
    "from networkx.drawing.nx_agraph import graphviz_layout\n",
    "\n",
    "gnx = nx.read_graphml('data/grid/2-6/graph.graphml')\n",
    "gnx = nx.relabel_nodes(gnx, {i: int(i) for i in gnx.nodes_iter()})\n",
    "pos = graphviz_layout(gnx, root=0)\n",
    "\n",
    "\n",
    "fig, ax = plt.subplots(1, 1, figsize=(5, 5))\n",
    "plot_snapshot(gnx, pos, infection_times, queried_nodes=obs_nodes, source_node=source, with_labels=True,\n",
    "              ax=ax,\n",
    "              edges=pred_edges)"
   ]
  }
 ],
 "metadata": {
  "kernelspec": {
   "display_name": "Python 3",
   "language": "python",
   "name": "python3"
  },
  "language_info": {
   "codemirror_mode": {
    "name": "ipython",
    "version": 3
   },
   "file_extension": ".py",
   "mimetype": "text/x-python",
   "name": "python",
   "nbconvert_exporter": "python",
   "pygments_lexer": "ipython3",
   "version": "3.5.2"
  }
 },
 "nbformat": 4,
 "nbformat_minor": 2
}

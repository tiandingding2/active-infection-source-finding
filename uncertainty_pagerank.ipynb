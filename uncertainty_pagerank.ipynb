{
 "cells": [
  {
   "cell_type": "code",
   "execution_count": 1,
   "metadata": {
    "collapsed": false
   },
   "outputs": [],
   "source": [
    "# %matplotlib inline\n",
    "import matplotlib\n",
    "matplotlib.use('Agg')\n",
    "import networkx as nx\n",
    "from matplotlib import pyplot as plt\n",
    "from itertools import permutations"
   ]
  },
  {
   "cell_type": "code",
   "execution_count": 2,
   "metadata": {
    "collapsed": true
   },
   "outputs": [],
   "source": [
    "g = nx.Graph()\n",
    "for i in range(1, 4):\n",
    "    g.add_edge(0, i)\n",
    "g.add_edge(0, 4)\n",
    "for i in range(5, 11):\n",
    "    g.add_edge(4, i)\n",
    "    "
   ]
  },
  {
   "cell_type": "code",
   "execution_count": null,
   "metadata": {
    "collapsed": true
   },
   "outputs": [],
   "source": [
    "pos = nx.spring_layout(g)"
   ]
  },
  {
   "cell_type": "code",
   "execution_count": 59,
   "metadata": {
    "collapsed": false
   },
   "outputs": [],
   "source": [
    "plt.clf()\n",
    "nx.draw_networkx(g, pos=pos, node_size=1000, font_size=24, node_color='white')\n",
    "plt.savefig('figs/example_network.pdf')"
   ]
  },
  {
   "cell_type": "code",
   "execution_count": 21,
   "metadata": {
    "collapsed": true
   },
   "outputs": [],
   "source": [
    "def build_random_walk_graph(g, infections):\n",
    "    g = g.to_directed()\n",
    "    for u, v in permutations(infections, 2):\n",
    "        if g.has_edge(u, v) and infections[u] < infections[v]:\n",
    "            g.remove_edge(u, v)\n",
    "    return g"
   ]
  },
  {
   "cell_type": "code",
   "execution_count": 55,
   "metadata": {
    "collapsed": false
   },
   "outputs": [],
   "source": [
    "def query_importance_demo(g, pos, infections, alpha):\n",
    "    plt.clf()\n",
    "    colormap = {1: 'red',  # infected\n",
    "                0: 'gray'}\n",
    "    g = build_random_walk_graph(g, infections)\n",
    "\n",
    "    infected_nodes = set(infections.keys())\n",
    "    earliest_node = sorted(infections, key=lambda k: infections[k])[0]\n",
    "    personalization = {n: 0 for n in  g.nodes_iter()}\n",
    "    personalization[earliest_node] = 1\n",
    "    print('personalization ={}'.format(personalization))\n",
    "    pr = nx.pagerank(g, alpha=alpha,\n",
    "                     personalization=personalization,\n",
    "                     dangling=personalization,\n",
    "                     nstart=personalization)\n",
    "    print('node\\' query importance:')\n",
    "    for n, s in sorted(pr.items(), key=lambda t: t[1], reverse=True):\n",
    "        # if n not in infections:\n",
    "        print(n, s)        \n",
    "    nx.draw_networkx_labels(g,\n",
    "                            pos={k: v+0.09 for k, v in pos.items()},\n",
    "                            labels={n: 't{}'.format(t) for n, t in infections.items()},\n",
    "                            font_size=20)\n",
    "    nx.draw_networkx(g.to_undirected(),\n",
    "                     pos=pos,\n",
    "                     font_size=20,\n",
    "                     node_color=[colormap[int(n in infections)] for n in g.nodes_iter()],\n",
    "                     node_size=[(pr[n]*12000+100 if n not in infections else 1000)\n",
    "                                for n in g.nodes_iter()])"
   ]
  },
  {
   "cell_type": "code",
   "execution_count": 56,
   "metadata": {
    "collapsed": false
   },
   "outputs": [
    {
     "name": "stdout",
     "output_type": "stream",
     "text": [
      "personalization ={0: 1, 1: 0, 2: 0, 3: 0, 4: 0, 5: 0, 6: 0, 7: 0, 8: 0, 9: 0, 10: 0}\n",
      "node' query importance:\n",
      "4 0.3327714413133179\n",
      "0 0.2980936817591244\n",
      "3 0.12669035518872543\n",
      "5 0.04040742028980534\n",
      "6 0.04040742028980534\n",
      "7 0.04040742028980534\n",
      "8 0.04040742028980534\n",
      "9 0.04040742028980534\n",
      "10 0.04040742028980534\n",
      "1 0.0\n",
      "2 0.0\n"
     ]
    }
   ],
   "source": [
    "infections = {0: 0, 1: 1, 2: 1}  # 0 infected 1 and 2\n",
    "query_importance_demo(g, pos, infections, alpha=0.85)\n",
    "plt.savefig('figs/example_network_1.pdf')\n",
    "# 4 should have maximal score\n",
    "# then 3"
   ]
  },
  {
   "cell_type": "code",
   "execution_count": 57,
   "metadata": {
    "collapsed": false
   },
   "outputs": [
    {
     "name": "stdout",
     "output_type": "stream",
     "text": [
      "personalization ={0: 0, 1: 1, 2: 0, 3: 0, 4: 0, 5: 0, 6: 0, 7: 0, 8: 0, 9: 0, 10: 0}\n",
      "node' query importance:\n",
      "1 1.0\n",
      "0 0.0\n",
      "2 0.0\n",
      "3 0.0\n",
      "4 0.0\n",
      "5 0.0\n",
      "6 0.0\n",
      "7 0.0\n",
      "8 0.0\n",
      "9 0.0\n",
      "10 0.0\n"
     ]
    }
   ],
   "source": [
    "# 1 infected 0\n",
    "infections = {1: 0, 0: 1}  # not reasonable\n",
    "query_importance_demo(g, pos, infections, 0.85)\n",
    "plt.savefig('figs/example_network_2.pdf')\n",
    "\n",
    "# source is 1\n",
    "# all other nodes have equal score"
   ]
  },
  {
   "cell_type": "code",
   "execution_count": 58,
   "metadata": {
    "collapsed": false
   },
   "outputs": [
    {
     "name": "stdout",
     "output_type": "stream",
     "text": [
      "personalization ={0: 1, 1: 0, 2: 0, 3: 0, 4: 0, 5: 0, 6: 0, 7: 0, 8: 0, 9: 0, 10: 0}\n",
      "node' query importance:\n",
      "0 0.5405382034979566\n",
      "2 0.22973089825102172\n",
      "3 0.22973089825102172\n",
      "1 0.0\n",
      "4 0.0\n",
      "5 0.0\n",
      "6 0.0\n",
      "7 0.0\n",
      "8 0.0\n",
      "9 0.0\n",
      "10 0.0\n"
     ]
    }
   ],
   "source": [
    "# 0 infected 1 and 4\n",
    "infections = {0: 0, 1: 1, 4: 1}\n",
    "query_importance_demo(g, pos, infections, alpha=0.85)  # reasonable\n",
    "plt.savefig('figs/example_network_3.pdf')\n",
    "\n",
    "# 5 ... 8 should have 0\n",
    "# 3 and 4 should be maximized"
   ]
  }
 ],
 "metadata": {
  "kernelspec": {
   "display_name": "Python 3",
   "language": "python",
   "name": "python3"
  },
  "language_info": {
   "codemirror_mode": {
    "name": "ipython",
    "version": 3
   },
   "file_extension": ".py",
   "mimetype": "text/x-python",
   "name": "python",
   "nbconvert_exporter": "python",
   "pygments_lexer": "ipython3",
   "version": "3.5.2"
  }
 },
 "nbformat": 4,
 "nbformat_minor": 0
}

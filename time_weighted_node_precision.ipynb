{
 "cells": [
  {
   "cell_type": "code",
   "execution_count": 1,
   "metadata": {
    "collapsed": true,
    "deletable": true,
    "editable": true
   },
   "outputs": [],
   "source": [
    "import pickle as pkl\n",
    "\n",
    "p = 'outputs/paper_experiment/barabasi-64/ic/mst/qs/0.1/0.pkl'\n",
    "infection_times, source, obs_nodes, true_edges, pred_edges = pkl.load(open(p, 'rb'))\n"
   ]
  },
  {
   "cell_type": "code",
   "execution_count": 2,
   "metadata": {
    "collapsed": true,
    "deletable": true,
    "editable": true
   },
   "outputs": [],
   "source": [
    "true_nodes = {i for e in true_edges for i in e}\n",
    "pred_nodes = {i for e in pred_edges for i in e}\n",
    "common_nodes = list(true_nodes.intersection(pred_nodes))\n"
   ]
  },
  {
   "cell_type": "code",
   "execution_count": 12,
   "metadata": {
    "collapsed": false,
    "deletable": true,
    "editable": true
   },
   "outputs": [
    {
     "name": "stdout",
     "output_type": "stream",
     "text": [
      "3 0\n"
     ]
    }
   ],
   "source": [
    "max_time, min_time = infection_times.max(), 0\n",
    "print(max_time, min_time)"
   ]
  },
  {
   "cell_type": "code",
   "execution_count": 23,
   "metadata": {
    "collapsed": false,
    "deletable": true,
    "editable": true
   },
   "outputs": [],
   "source": [
    "def precision_recall_weighted_by_time(common_nodes, true_nodes, pred_nodes, infection_times):\n",
    "    def map2value(nodes):\n",
    "        # value decreases linearly as actual infection time\n",
    "        return (max_time - infection_times[nodes] + 1)\n",
    "    common_values = map2value(common_nodes)\n",
    "    true_values = map2value(list(true_nodes))\n",
    "    pred_values = map2value(list(pred_nodes))\n",
    "    time_prec = common_values.sum() / pred_values.sum()\n",
    "    time_rec = common_values.sum() / true_values.sum()\n",
    "    return (float(time_prec), float(time_rec))"
   ]
  },
  {
   "cell_type": "code",
   "execution_count": 24,
   "metadata": {
    "collapsed": false,
    "deletable": true,
    "editable": true
   },
   "outputs": [
    {
     "data": {
      "text/plain": [
       "(0.375, 0.2)"
      ]
     },
     "execution_count": 24,
     "metadata": {},
     "output_type": "execute_result"
    }
   ],
   "source": [
    "precision_recall_weighted_by_time(common_nodes, true_nodes, pred_nodes, infection_times)"
   ]
  },
  {
   "cell_type": "code",
   "execution_count": 27,
   "metadata": {
    "collapsed": false
   },
   "outputs": [],
   "source": [
    "def edge_order_accuracy(pred_edges, infection_times):\n",
    "    n_correct_edges = sum(1 for u, v in pred_edges if infection_times[u] <= infection_times[v])\n",
    "    return n_correct_edges / len(pred_edges)"
   ]
  }
 ],
 "metadata": {
  "kernelspec": {
   "display_name": "Python 3",
   "language": "python",
   "name": "python3"
  },
  "language_info": {
   "codemirror_mode": {
    "name": "ipython",
    "version": 3
   },
   "file_extension": ".py",
   "mimetype": "text/x-python",
   "name": "python",
   "nbconvert_exporter": "python",
   "pygments_lexer": "ipython3",
   "version": "3.5.2"
  }
 },
 "nbformat": 4,
 "nbformat_minor": 2
}

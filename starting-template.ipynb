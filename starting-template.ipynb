{
 "cells": [
  {
   "cell_type": "code",
   "execution_count": 2,
   "metadata": {
    "collapsed": true
   },
   "outputs": [],
   "source": [
    "%matplotlib notebook\n",
    "# starter code\n",
    "from tqdm import tqdm\n",
    "import networkx as nx\n",
    "from graph_tool.all import load_graph, shortest_distance\n",
    "from ic import simulate_cascade, observe_cascade, get_gvs, get_o2src_time, get_infection_time\n",
    "from utils import get_rank_index\n",
    "\n",
    "gtype = 'kr-hier'\n",
    "g = load_graph('data/{}/2-6/graph.gt'.format(gtype))\n",
    "gnx = nx.read_graphml('data/{}/2-6/graph.graphml'.format(gtype))\n",
    "gnx = nx.relabel_nodes(gnx, {i: int(i) for i in gnx.nodes_iter()})\n",
    "N1, N2 = 100, 100\n",
    "p, q = 0.5, 0.2\n",
    "\n",
    "gvs = get_gvs(g, p, N2)\n",
    "\n",
    "def gen_nontrivial_cascade(g, p, q, source=None):\n",
    "    while True:\n",
    "        source, c = simulate_cascade(g, p, source=source)\n",
    "        obs_nodes = observe_cascade(c, source, q, method='uniform')\n",
    "        cascade_size = np.sum(c != -1)\n",
    "\n",
    "        if cascade_size >= 5:  # avoid small cascade\n",
    "            break\n",
    "\n",
    "    return c, source, obs_nodes"
   ]
  }
 ],
 "metadata": {
  "kernelspec": {
   "display_name": "Python 3",
   "language": "python",
   "name": "python3"
  },
  "language_info": {
   "codemirror_mode": {
    "name": "ipython",
    "version": 3
   },
   "file_extension": ".py",
   "mimetype": "text/x-python",
   "name": "python",
   "nbconvert_exporter": "python",
   "pygments_lexer": "ipython3",
   "version": "3.5.2"
  }
 },
 "nbformat": 4,
 "nbformat_minor": 2
}

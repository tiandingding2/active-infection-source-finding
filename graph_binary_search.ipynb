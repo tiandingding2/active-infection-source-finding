{
 "cells": [
  {
   "cell_type": "code",
   "execution_count": 1,
   "metadata": {
    "collapsed": true
   },
   "outputs": [],
   "source": [
    "%matplotlib inline\n",
    "\n",
    "import pandas as pd\n",
    "from matplotlib import pyplot as plt\n",
    "from joblib import Parallel, delayed\n",
    "from tqdm import tqdm\n",
    "from copy import copy\n",
    "\n",
    "from synthetic_data import load_data_by_gtype, add_p_and_delta\n",
    "from ic import make_partial_cascade\n",
    "from core import normalize_mu\n",
    "from edge_mwu import median_node"
   ]
  },
  {
   "cell_type": "code",
   "execution_count": 42,
   "metadata": {
    "collapsed": false
   },
   "outputs": [],
   "source": [
    "gtype = 'grid'\n",
    "g = load_data_by_gtype(gtype, '2-4')[0]\n",
    "g = add_p_and_delta(g, 0.8, 1)"
   ]
  },
  {
   "cell_type": "code",
   "execution_count": 3,
   "metadata": {
    "collapsed": false
   },
   "outputs": [],
   "source": [
    "def noisy_binary_search(g, \n",
    "                        source, \n",
    "                        infection_times,\n",
    "                        obs_nodes,\n",
    "                        sp_len, \n",
    "                        consistency_multiplier,\n",
    "                        max_iter,\n",
    "                        uninfected_simulation_rounds=100,\n",
    "                        debug=False,\n",
    "                        save_log=False):\n",
    "    # observed from the plot in infection_probability_vs_fraction_of_shortest_path.ipynb\n",
    "    mu = {n: 1 for n in g.nodes_iter()}\n",
    "    for n in obs_nodes:\n",
    "        mu[n] = 0\n",
    "\n",
    "    queried_nodes = copy(obs_nodes)\n",
    "    querie_nodes_log = []\n",
    "    for i in range(max_iter):\n",
    "        if debug:\n",
    "            print('source\\'s mu: {:.2f}'.format(mu[source]))\n",
    "        \n",
    "        if len(queried_nodes) == g.number_of_nodes():\n",
    "            break\n",
    "        q = median_node(g, mu, sp_len)\n",
    "        queried_nodes.add(q)\n",
    "\n",
    "        if save_log:\n",
    "            querie_nodes_log.append(q)\n",
    "        if debug:\n",
    "            print('query node: {}'.format(q))\n",
    "\n",
    "        if np.isinf(infection_times[q]):\n",
    "            if debug:\n",
    "                print('query is not infected')\n",
    "            # estimate the fraction of simulations that n is not infected\n",
    "            reward = {n: 0 for n in g.nodes_iter()}\n",
    "            for i in range(uninfected_simulation_rounds):\n",
    "                sg = sample_graph_from_infection(g)\n",
    "                sp_len_prime = nx.shortest_path_length(sg, source=q)\n",
    "                for n in g.nodes_iter():\n",
    "                    if n not in sp_len_prime:\n",
    "                        reward[n] += 1\n",
    "            for n in g.nodes_iter():\n",
    "                mu[n] *= (reward[n] / uninfected_simulation_rounds)\n",
    "                \n",
    "            mu = normalize_mu(mu)\n",
    "        else:\n",
    "            # check if q is source\n",
    "            found_source = True            \n",
    "            for n in g.neighbors_iter(q):\n",
    "                if infection_times[q] > infection_times[n]:\n",
    "                    found_source = False\n",
    "\n",
    "            if found_source:\n",
    "                assert q == source, '{} != {} ({} and {})'.format(\n",
    "                    q, source,\n",
    "                    infection_times[q],\n",
    "                    infection_times[source])\n",
    "                break            \n",
    "\n",
    "            possible_ancestors = []                \n",
    "            if False:                \n",
    "                for n in g.neighbors_iter(q):        \n",
    "                    queried_nodes.add(n)\n",
    "                    if save_log:\n",
    "                        querie_nodes_log.append(n)\n",
    "                    if infection_times[q] - infection_times[n] == g[n][q]['d']:\n",
    "                        possible_ancestors.append(n)\n",
    "            else:\n",
    "                # using just one ancestor node\n",
    "                for n in g.neighbors_iter(q):        \n",
    "                    queried_nodes.add(n)\n",
    "                    if save_log:\n",
    "                        querie_nodes_log.append(n)\n",
    "                    if infection_times[q] - infection_times[n] == g[n][q]['d']:\n",
    "                        possible_ancestors.append(n)\n",
    "                        break\n",
    "                \n",
    "            if debug:\n",
    "                print('ancestor nodes: {}'.format(possible_ancestors))\n",
    "\n",
    "            if len(possible_ancestors) > 0:\n",
    "                for a in possible_ancestors:\n",
    "                    for n in g.nodes_iter():\n",
    "                        if sp_len[n][q] == (sp_len[n][a] + g[a][q]['d']):\n",
    "                            mu[n] *= consistency_multiplier\n",
    "                        else:\n",
    "                            mu[n] *= (1 - consistency_multiplier)\n",
    "                    mu = normalize_mu(mu)\n",
    "\n",
    "        query_count = len(queried_nodes - obs_nodes)\n",
    "    if debug:\n",
    "        print('used {} queries to find the source'.format(query_count))\n",
    "    if save_log:\n",
    "        return query_count, queried_nodes\n",
    "    else:\n",
    "        return query_count          "
   ]
  },
  {
   "cell_type": "code",
   "execution_count": 4,
   "metadata": {
    "collapsed": true
   },
   "outputs": [],
   "source": [
    "def one_round(g, sp_len,\n",
    "              consistency_multiplier,\n",
    "              debug=False):\n",
    "    source, obs_nodes, infection_times, _ = make_partial_cascade(g, 0.01)\n",
    "\n",
    "    c = noisy_binary_search(g, source, infection_times,\n",
    "                            obs_nodes,\n",
    "                            sp_len, \n",
    "                            consistency_multiplier=consistency_multiplier,\n",
    "                            max_iter=g.number_of_nodes(),\n",
    "                            debug=debug)\n",
    "    return c\n",
    "    \n",
    "def experiment_n_rounds(g, N,\n",
    "                        consistency_multiplier):\n",
    "    sp_len = nx.shortest_path_length(g)\n",
    "    cnts = []\n",
    "    return Parallel(n_jobs=-1)(delayed(one_round)(g, sp_len, consistency_multiplier)\n",
    "                               for i in tqdm(range(N)))\n"
   ]
  },
  {
   "cell_type": "code",
   "execution_count": 43,
   "metadata": {
    "collapsed": false,
    "scrolled": true
   },
   "outputs": [
    {
     "name": "stderr",
     "output_type": "stream",
     "text": [
      "\r",
      "  0%|          | 0/100 [00:00<?, ?it/s]"
     ]
    },
    {
     "name": "stdout",
     "output_type": "stream",
     "text": [
      "0.6\n"
     ]
    },
    {
     "name": "stderr",
     "output_type": "stream",
     "text": [
      "100%|██████████| 100/100 [00:04<00:00, 20.87it/s]\n",
      "  0%|          | 0/100 [00:00<?, ?it/s]"
     ]
    },
    {
     "name": "stdout",
     "output_type": "stream",
     "text": [
      "0.7\n"
     ]
    },
    {
     "name": "stderr",
     "output_type": "stream",
     "text": [
      "100%|██████████| 100/100 [00:03<00:00, 28.67it/s]\n",
      "  0%|          | 0/100 [00:00<?, ?it/s]"
     ]
    },
    {
     "name": "stdout",
     "output_type": "stream",
     "text": [
      "0.8\n"
     ]
    },
    {
     "name": "stderr",
     "output_type": "stream",
     "text": [
      "100%|██████████| 100/100 [00:02<00:00, 33.68it/s]\n",
      "  0%|          | 0/100 [00:00<?, ?it/s]"
     ]
    },
    {
     "name": "stdout",
     "output_type": "stream",
     "text": [
      "0.9\n"
     ]
    },
    {
     "name": "stderr",
     "output_type": "stream",
     "text": [
      "100%|██████████| 100/100 [00:09<00:00, 10.13it/s]\n"
     ]
    }
   ],
   "source": [
    "# relationship between consistency_multiplier and query_count\n",
    "multipliers = [0.6, 0.7, 0.8, 0.9]\n",
    "means = []\n",
    "medians = []\n",
    "for mtp in multipliers:\n",
    "    print(mtp)\n",
    "    cnts = experiment_n_rounds(g, 100, mtp)\n",
    "    s = pd.Series(cnts).describe()\n",
    "    means.append(s['mean'])\n",
    "    medians.append(s['50%'])    "
   ]
  },
  {
   "cell_type": "code",
   "execution_count": 44,
   "metadata": {
    "collapsed": false
   },
   "outputs": [
    {
     "data": {
      "image/png": "[encoded data removed]",
      "text/plain": [
       "<matplotlib.figure.Figure at 0x7f3178eff2b0>"
      ]
     },
     "metadata": {},
     "output_type": "display_data"
    }
   ],
   "source": [
    "fig, ax = plt.subplots(1, 2, figsize=(10, 5))\n",
    "ax[0].plot(multipliers, means, 'o-')\n",
    "ax[0].set_title('mean query count vs consistency_multiplier')\n",
    "ax[0].set_xlabel('consistency_multiplier')\n",
    "ax[0].set_ylabel('query count mean')\n",
    "\n",
    "ax[1].plot(multipliers, medians, 'o-')\n",
    "ax[1].set_title('median query count vs consistency_multiplier')\n",
    "ax[1].set_xlabel('consistency_multiplier')\n",
    "ax[1].set_ylabel('query count median')\n",
    "fig.savefig('figs/noisy_binary_search_consistency_multiplier/{}.png'.format(gtype))"
   ]
  }
 ],
 "metadata": {
  "kernelspec": {
   "display_name": "Python 3",
   "language": "python",
   "name": "python3"
  },
  "language_info": {
   "codemirror_mode": {
    "name": "ipython",
    "version": 3
   },
   "file_extension": ".py",
   "mimetype": "text/x-python",
   "name": "python",
   "nbconvert_exporter": "python",
   "pygments_lexer": "ipython3",
   "version": "3.5.2"
  }
 },
 "nbformat": 4,
 "nbformat_minor": 2
}

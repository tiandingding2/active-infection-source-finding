{
 "cells": [
  {
   "cell_type": "code",
   "execution_count": 87,
   "metadata": {
    "collapsed": false,
    "deletable": true,
    "editable": true
   },
   "outputs": [],
   "source": [
    "from graph_tool.all import load_graph, shortest_distance\n",
    "from ic import observe_cascade, simulate_cascade, sample_graph_by_p, MAXINT\n",
    "from tqdm import tqdm\n",
    "from joblib import Parallel, delayed"
   ]
  },
  {
   "cell_type": "code",
   "execution_count": 88,
   "metadata": {
    "collapsed": false,
    "deletable": true,
    "editable": true
   },
   "outputs": [],
   "source": [
    "g = load_graph('data/arxiv-hep-th/graph.graphml')"
   ]
  },
  {
   "cell_type": "code",
   "execution_count": 89,
   "metadata": {
    "collapsed": false,
    "deletable": true,
    "editable": true
   },
   "outputs": [
    {
     "name": "stdout",
     "output_type": "stream",
     "text": [
      "8638\n"
     ]
    }
   ],
   "source": [
    "print(g.num_vertices())"
   ]
  },
  {
   "cell_type": "code",
   "execution_count": 99,
   "metadata": {
    "collapsed": true,
    "deletable": true,
    "editable": true
   },
   "outputs": [],
   "source": [
    "p = 0.7\n",
    "source, cascade = simulate_cascade(g, p)"
   ]
  },
  {
   "cell_type": "code",
   "execution_count": 100,
   "metadata": {
    "collapsed": false,
    "deletable": true,
    "editable": true
   },
   "outputs": [
    {
     "name": "stdout",
     "output_type": "stream",
     "text": [
      "7644\n",
      "8638\n"
     ]
    }
   ],
   "source": [
    "print(np.sum(cascade != -1))\n",
    "print(g.num_vertices())"
   ]
  },
  {
   "cell_type": "code",
   "execution_count": 105,
   "metadata": {
    "collapsed": false,
    "deletable": true,
    "editable": true
   },
   "outputs": [],
   "source": [
    "obs = observe_cascade(cascade, q=0.01, method='uniform')"
   ]
  },
  {
   "cell_type": "code",
   "execution_count": 106,
   "metadata": {
    "collapsed": false,
    "deletable": true,
    "editable": true
   },
   "outputs": [
    {
     "name": "stdout",
     "output_type": "stream",
     "text": [
      "77\n"
     ]
    }
   ],
   "source": [
    "print(len(obs))"
   ]
  },
  {
   "cell_type": "code",
   "execution_count": 110,
   "metadata": {
    "collapsed": false,
    "deletable": true,
    "editable": true
   },
   "outputs": [
    {
     "name": "stderr",
     "output_type": "stream",
     "text": [
      "/home/cloud-user/code/source_finding/venv/lib/python3.5/site-packages/ipykernel/__main__.py:10: DeprecationWarning: elementwise == comparison failed; this will raise an error in the future.\n"
     ]
    },
    {
     "data": {
      "text/plain": [
       "False"
      ]
     },
     "execution_count": 110,
     "metadata": {},
     "output_type": "execute_result"
    }
   ],
   "source": [
    "counts = np.zeros(g.num_vertices())\n",
    "gv = sample_graph_by_p(g, p)\n",
    "source_times = np.zeros((len(obs), g.num_vertices()))\n",
    "for i, o in enumerate(obs):\n",
    "    c = shortest_distance(gv, source=gv.vertex(o)).a\n",
    "    inactive_nodes = np.nonzero(c == MAXINT)[0]\n",
    "    source_times[i, :] = cascade[o] - c\n",
    "    source_times[i, :][inactive_nodes] = cascade[o] + 1\n",
    "identity = np.tile(source_times[0], len(obs)).reshape(g.num_vertices(), len(obs))\n",
    "np.all(identity == source_times, axis=0)"
   ]
  },
  {
   "cell_type": "code",
   "execution_count": 133,
   "metadata": {
    "collapsed": false,
    "deletable": true,
    "editable": true
   },
   "outputs": [
    {
     "data": {
      "text/plain": [
       "0.18181818181818182"
      ]
     },
     "execution_count": 133,
     "metadata": {},
     "output_type": "execute_result"
    }
   ],
   "source": [
    "source_times.mean(axis=0)[source]"
   ]
  },
  {
   "cell_type": "code",
   "execution_count": 132,
   "metadata": {
    "collapsed": false,
    "deletable": true,
    "editable": true
   },
   "outputs": [
    {
     "name": "stdout",
     "output_type": "stream",
     "text": [
      "[ 0.          0.          0.          0.          0.          0.          0.\n",
      "  0.          0.          0.          0.          0.          0.\n",
      "  0.01298701  0.01298701  0.01298701  0.01298701  0.01298701  0.01298701\n",
      "  0.01298701  0.01298701  0.01298701  0.01298701  0.01298701  0.01298701\n",
      "  0.01298701  0.01298701  0.01298701  0.01298701  0.01298701  0.01298701\n",
      "  0.01298701  0.01298701  0.01298701  0.01298701  0.01298701  0.01298701\n",
      "  0.01298701  0.01298701  0.02597403  0.02597403  0.02597403  0.02597403\n",
      "  0.02597403  0.02597403  0.02597403  0.02597403  0.02597403  0.02597403\n",
      "  0.02597403  0.02597403  0.02597403  0.02597403  0.02597403  0.02597403\n",
      "  0.02597403  0.02597403  0.02597403  0.02597403  0.02597403  0.02597403\n",
      "  0.03896104  0.03896104  0.03896104  0.03896104  0.03896104  0.03896104\n",
      "  0.03896104  0.03896104  0.03896104  0.03896104  0.03896104  0.03896104\n",
      "  0.03896104  0.03896104  0.03896104  0.03896104  0.03896104  0.03896104\n",
      "  0.03896104  0.03896104  0.03896104  0.03896104  0.03896104  0.03896104\n",
      "  0.03896104  0.03896104  0.03896104  0.03896104  0.03896104  0.03896104\n",
      "  0.03896104  0.05194805  0.05194805  0.05194805  0.05194805  0.05194805\n",
      "  0.05194805  0.05194805  0.05194805]\n"
     ]
    }
   ],
   "source": [
    "print(np.sort(np.abs(source_times.mean(axis=0)))[:100])\n",
    "# np.median(source_times, axis=0)"
   ]
  },
  {
   "cell_type": "code",
   "execution_count": 74,
   "metadata": {
    "collapsed": true,
    "deletable": true,
    "editable": true
   },
   "outputs": [],
   "source": [
    "def estimate_source_likelihood(g, obs, cascade, p):\n",
    "    counts = np.zeros(g.num_vertices())\n",
    "    gv = sample_graph_by_p(g, p)\n",
    "    source_times = np.zeros((len(obs), g.num_vertices()))\n",
    "    for i, o in enumerate(obs):\n",
    "        c = shortest_distance(gv, source=gv.vertex(o)).a\n",
    "        c[c == MAXINT] = -1        \n",
    "        active_nodes = np.nonzero(c != -1)[0]\n",
    "        source_times[i, :] = cascade[o] - c\n",
    "    identity = np.tile(source_times[0], len(obs)).reshape(g.num_vertices(), len(obs))\n",
    "    np.all(identity == source_times, axis=0)\n",
    "    \n",
    "    counts[possible_sources] += 1\n",
    "    return counts\n"
   ]
  },
  {
   "cell_type": "code",
   "execution_count": 75,
   "metadata": {
    "collapsed": false,
    "deletable": true,
    "editable": true
   },
   "outputs": [
    {
     "name": "stderr",
     "output_type": "stream",
     "text": [
      "100%|██████████| 8/8 [00:00<00:00, 20.93it/s]\n"
     ]
    }
   ],
   "source": [
    "K = 8\n",
    "\n",
    "counts_list = Parallel(n_jobs=-1)(delayed(estimate_source_likelihood)(g, obs, cascade, p)\n",
    "                                  for _ in tqdm(range(K)))"
   ]
  },
  {
   "cell_type": "code",
   "execution_count": 76,
   "metadata": {
    "collapsed": false,
    "deletable": true,
    "editable": true
   },
   "outputs": [
    {
     "name": "stdout",
     "output_type": "stream",
     "text": [
      "(8638,)\n"
     ]
    }
   ],
   "source": [
    "counts = np.array(counts_list).sum(axis=0)\n",
    "print(counts.shape)"
   ]
  },
  {
   "cell_type": "code",
   "execution_count": 77,
   "metadata": {
    "collapsed": false,
    "deletable": true,
    "editable": true
   },
   "outputs": [
    {
     "name": "stdout",
     "output_type": "stream",
     "text": [
      "8.0 43672.0\n",
      "6496\n"
     ]
    }
   ],
   "source": [
    "print(counts[source], counts.max())\n",
    "print(np.sum(counts == counts.max()))"
   ]
  }
 ],
 "metadata": {
  "kernelspec": {
   "display_name": "Python 3",
   "language": "python",
   "name": "python3"
  },
  "language_info": {
   "codemirror_mode": {
    "name": "ipython",
    "version": 3
   },
   "file_extension": ".py",
   "mimetype": "text/x-python",
   "name": "python",
   "nbconvert_exporter": "python",
   "pygments_lexer": "ipython3",
   "version": "3.5.2"
  }
 },
 "nbformat": 4,
 "nbformat_minor": 2
}

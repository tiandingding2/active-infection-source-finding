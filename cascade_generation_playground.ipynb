{
 "cells": [
  {
   "cell_type": "code",
   "execution_count": 53,
   "metadata": {
    "collapsed": true
   },
   "outputs": [],
   "source": [
    "%matplotlib inline\n",
    "import random\n",
    "import numpy as np\n",
    "import networkx as nx\n",
    "from cascade import generate_cascade_old\n",
    "from graph_generator import grid_2d, add_p_and_delta"
   ]
  },
  {
   "cell_type": "code",
   "execution_count": 30,
   "metadata": {
    "collapsed": false
   },
   "outputs": [],
   "source": [
    "g = grid_2d(10)\n",
    "g = add_p_and_delta(g, p=0.7, d=1)"
   ]
  },
  {
   "cell_type": "code",
   "execution_count": 31,
   "metadata": {
    "collapsed": true
   },
   "outputs": [],
   "source": [
    "source = random.choice(g.nodes())\n",
    "\n",
    "rands = np.random.rand(g.number_of_edges())\n",
    "active_edges = [(u, v) for (u, v), r in zip(g.edges_iter(), rands) if g[u][v]['p'] >= r]\n",
    "induced_g = nx.Graph()\n",
    "induced_g.add_edges_from(active_edges)\n",
    "for u, v in induced_g.edges_iter():\n",
    "    induced_g[u][v]['d'] = g[u][v]['d']"
   ]
  },
  {
   "cell_type": "code",
   "execution_count": 32,
   "metadata": {
    "collapsed": false
   },
   "outputs": [
    {
     "data": {
      "text/plain": [
       "0.6833333333333333"
      ]
     },
     "execution_count": 32,
     "metadata": {},
     "output_type": "execute_result"
    }
   ],
   "source": [
    "induced_g.number_of_edges() / g.number_of_edges()"
   ]
  },
  {
   "cell_type": "code",
   "execution_count": 33,
   "metadata": {
    "collapsed": true
   },
   "outputs": [],
   "source": [
    "es1 = set(map(lambda e: tuple(sorted(e)), g.edges()))\n",
    "es2 = set(map(lambda e: tuple(sorted(e)), induced_g.edges()))"
   ]
  },
  {
   "cell_type": "code",
   "execution_count": 34,
   "metadata": {
    "collapsed": false
   },
   "outputs": [],
   "source": [
    "assert es2.issubset(es1)"
   ]
  },
  {
   "cell_type": "code",
   "execution_count": 35,
   "metadata": {
    "collapsed": true
   },
   "outputs": [],
   "source": [
    "infection_times = nx.shortest_path_length(induced_g, source=source, weight='d')"
   ]
  },
  {
   "cell_type": "code",
   "execution_count": 36,
   "metadata": {
    "collapsed": false
   },
   "outputs": [],
   "source": [
    "assert infection_times[source] == 0"
   ]
  },
  {
   "cell_type": "code",
   "execution_count": 40,
   "metadata": {
    "collapsed": false
   },
   "outputs": [],
   "source": [
    "for n in g.nodes_iter():\n",
    "    if n not in infection_times:\n",
    "        infection_times[n] = float('inf')"
   ]
  },
  {
   "cell_type": "code",
   "execution_count": 41,
   "metadata": {
    "collapsed": false
   },
   "outputs": [],
   "source": [
    "assert len(infection_times) == g.number_of_nodes()"
   ]
  },
  {
   "cell_type": "code",
   "execution_count": 46,
   "metadata": {
    "collapsed": true
   },
   "outputs": [],
   "source": [
    "def generate_cascade(g):\n",
    "    source = random.choice(g.nodes())\n",
    "\n",
    "    rands = np.random.rand(g.number_of_edges())\n",
    "    active_edges = [(u, v) for (u, v), r in zip(g.edges_iter(), rands) if g[u][v]['p'] >= r]\n",
    "    induced_g = nx.Graph()\n",
    "    induced_g.add_edges_from(active_edges)\n",
    "    for u, v in induced_g.edges_iter():\n",
    "        induced_g[u][v]['d'] = g[u][v]['d']\n",
    "        \n",
    "    if not induced_g.has_node(source):\n",
    "        infection_times = {n: float('inf') for n in g.nodes_iter()}\n",
    "        infection_times[source] = 0\n",
    "    else:                \n",
    "        infection_times = nx.shortest_path_length(induced_g, source=source, weight='d')\n",
    "        for n in g.nodes_iter():\n",
    "            if n not in infection_times:\n",
    "                infection_times[n] = float('inf')    \n",
    "    assert infection_times[source] == 0\n",
    "    assert len(infection_times) == g.number_of_nodes()\n",
    "    return infection_times"
   ]
  },
  {
   "cell_type": "code",
   "execution_count": 54,
   "metadata": {
    "collapsed": false
   },
   "outputs": [
    {
     "ename": "NameError",
     "evalue": "name 'infp' is not defined",
     "output_type": "error",
     "traceback": [
      "\u001b[0;31m---------------------------------------------------------------------------\u001b[0m",
      "\u001b[0;31mNameError\u001b[0m                                 Traceback (most recent call last)",
      "\u001b[0;32m<ipython-input-54-5664d25775f4>\u001b[0m in \u001b[0;36m<module>\u001b[0;34m()\u001b[0m\n\u001b[1;32m      4\u001b[0m \u001b[0mpos\u001b[0m \u001b[0;34m=\u001b[0m \u001b[0;34m{\u001b[0m\u001b[0mn\u001b[0m\u001b[0;34m:\u001b[0m \u001b[0mnp\u001b[0m\u001b[0;34m.\u001b[0m\u001b[0marray\u001b[0m\u001b[0;34m(\u001b[0m\u001b[0mn\u001b[0m\u001b[0;34m)\u001b[0m \u001b[0;32mfor\u001b[0m \u001b[0mn\u001b[0m \u001b[0;32min\u001b[0m \u001b[0mg\u001b[0m\u001b[0;34m.\u001b[0m\u001b[0mnodes\u001b[0m\u001b[0;34m(\u001b[0m\u001b[0;34m)\u001b[0m\u001b[0;34m}\u001b[0m\u001b[0;34m\u001b[0m\u001b[0m\n\u001b[1;32m      5\u001b[0m \u001b[0;34m\u001b[0m\u001b[0m\n\u001b[0;32m----> 6\u001b[0;31m \u001b[0msource\u001b[0m\u001b[0;34m,\u001b[0m \u001b[0mobs_nodes\u001b[0m\u001b[0;34m,\u001b[0m \u001b[0minfection_times\u001b[0m\u001b[0;34m,\u001b[0m \u001b[0mtree\u001b[0m \u001b[0;34m=\u001b[0m \u001b[0mmake_input\u001b[0m\u001b[0;34m(\u001b[0m\u001b[0mg\u001b[0m\u001b[0;34m,\u001b[0m \u001b[0minfp\u001b[0m\u001b[0;34m,\u001b[0m \u001b[0;36m0.05\u001b[0m\u001b[0;34m,\u001b[0m \u001b[0msampling_method\u001b[0m\u001b[0;34m=\u001b[0m\u001b[0;34m'late_nodes'\u001b[0m\u001b[0;34m)\u001b[0m\u001b[0;34m\u001b[0m\u001b[0m\n\u001b[0m\u001b[1;32m      7\u001b[0m \u001b[0;34m\u001b[0m\u001b[0m\n\u001b[1;32m      8\u001b[0m \u001b[0mnode2weight\u001b[0m \u001b[0;34m=\u001b[0m \u001b[0minfeciton_time2weight\u001b[0m\u001b[0;34m(\u001b[0m\u001b[0minfection_times\u001b[0m\u001b[0;34m)\u001b[0m\u001b[0;34m\u001b[0m\u001b[0m\n",
      "\u001b[0;31mNameError\u001b[0m: name 'infp' is not defined"
     ]
    }
   ],
   "source": [
    "from utils import infeciton_time2weight\n",
    "from simulations import make_input\n",
    "from plot_utils import plot_snapshot\n",
    "pos = {n: np.array(n) for n in g.nodes()}\n",
    "\n",
    "source, obs_nodes, infection_times, tree = make_input(g, infp, 0.05, sampling_method='late_nodes')\n",
    "\n",
    "node2weight = infeciton_time2weight(infection_times)\n",
    "\n",
    "plot_snapshot(g, pos, node2weight, \n",
    "              query_node=(3, 3),\n",
    "              source_node=source,\n",
    "              queried_nodes=obs_nodes, \n",
    "              max_node_size=500)"
   ]
  },
  {
   "cell_type": "code",
   "execution_count": 49,
   "metadata": {
    "collapsed": false
   },
   "outputs": [
    {
     "name": "stdout",
     "output_type": "stream",
     "text": [
      "1000 loops, best of 3: 1.05 ms per loop\n"
     ]
    }
   ],
   "source": [
    "%%timeit\n",
    "generate_cascade(g)"
   ]
  },
  {
   "cell_type": "code",
   "execution_count": 51,
   "metadata": {
    "collapsed": false
   },
   "outputs": [
    {
     "name": "stdout",
     "output_type": "stream",
     "text": [
      "100 loops, best of 3: 3.97 ms per loop\n"
     ]
    }
   ],
   "source": [
    "%%timeit\n",
    "generate_cascade_old(g)"
   ]
  }
 ],
 "metadata": {
  "kernelspec": {
   "display_name": "Python 3",
   "language": "python",
   "name": "python3"
  },
  "language_info": {
   "codemirror_mode": {
    "name": "ipython",
    "version": 3
   },
   "file_extension": ".py",
   "mimetype": "text/x-python",
   "name": "python",
   "nbconvert_exporter": "python",
   "pygments_lexer": "ipython3",
   "version": "3.5.2"
  }
 },
 "nbformat": 4,
 "nbformat_minor": 2
}

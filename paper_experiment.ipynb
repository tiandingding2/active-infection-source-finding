{
 "cells": [
  {
   "cell_type": "code",
   "execution_count": 2,
   "metadata": {
    "collapsed": false
   },
   "outputs": [],
   "source": [
    "%matplotlib notebook\n",
    "# starter code\n",
    "import random\n",
    "import numpy as np\n",
    "from matplotlib import pyplot as plt\n",
    "from tqdm import tqdm\n",
    "import networkx as nx\n",
    "from graph_tool.all import load_graph, shortest_distance, GraphView\n",
    "from networkx.drawing.nx_agraph import graphviz_layout\n",
    "\n",
    "from cascade import gen_nontrivial_cascade\n",
    "from utils import get_rank_index\n",
    "\n",
    "seed = 123456\n",
    "random.seed(seed)\n",
    "np.random.seed(seed)\n",
    "\n",
    "gtype = 'grid'\n",
    "g = load_graph('data/{}/2-6/graph.gt'.format(gtype))\n",
    "gnx = nx.read_graphml('data/{}/2-6/graph.graphml'.format(gtype))\n",
    "gnx = nx.relabel_nodes(gnx, {i: int(i) for i in gnx.nodes_iter()})\n",
    "N1, N2 = 100, 100\n",
    "p, q = 0.5, 0.1\n",
    "\n",
    "pos = graphviz_layout(gnx, root=0)\n",
    "\n",
    "infection_times, source, obs_nodes = gen_nontrivial_cascade(g, p, q, model='ic', return_tree=False, source_includable=True)"
   ]
  },
  {
   "cell_type": "code",
   "execution_count": 3,
   "metadata": {
    "collapsed": true
   },
   "outputs": [],
   "source": [
    "model = 'ic'\n",
    "method = 'mst'"
   ]
  },
  {
   "cell_type": "code",
   "execution_count": 13,
   "metadata": {
    "collapsed": false
   },
   "outputs": [],
   "source": [
    "def get_tree(g, infection_times, source, obs_nodes, method):\n",
    "    root = min(obs_nodes, key=infection_times.__getitem__)\n",
    "    if method == 'mst':\n",
    "        from steiner_tree_mst import steiner_tree_mst\n",
    "        tree = steiner_tree_mst(g, root, infection_times, source, obs_nodes, debug=False)\n",
    "    elif method == 'mst-k':\n",
    "        from steiner_tree_mst import steiner_tree_mst\n",
    "        k = (int(len(obs_nodes) * 0.5) or 1)\n",
    "        # print(k)\n",
    "        tree = steiner_tree_mst(g, root, infection_times, source, obs_nodes, debug=False, k=k)\n",
    "    elif method == 'tbfs':\n",
    "        from steiner_tree_order import temporal_bfs\n",
    "        tree = temporal_bfs(g, root, infection_times[root], infection_times, source, obs_nodes, debug=False)\n",
    "    return tree"
   ]
  },
  {
   "cell_type": "code",
   "execution_count": 20,
   "metadata": {
    "collapsed": false
   },
   "outputs": [],
   "source": [
    "import pandas as pd\n",
    "def run_k_rounds(g, p, q, model, method, k=100):\n",
    "    rows = []\n",
    "    for _ in range(k):\n",
    "        infection_times, source, obs_nodes = gen_nontrivial_cascade(\n",
    "            g, p, q, model=model,\n",
    "            return_tree=False, source_includable=True)        \n",
    "        tree = get_tree(g, infection_times, source, obs_nodes, method)\n",
    "        if tree:\n",
    "            rows.append(evaluate_performance(g, tree, obs_nodes))\n",
    "    df = pd.DataFrame(rows, columns=['mmc', 'prec', 'rec', 'obj'])\n",
    "    return df.describe()"
   ]
  },
  {
   "cell_type": "code",
   "execution_count": 21,
   "metadata": {
    "collapsed": false
   },
   "outputs": [
    {
     "name": "stderr",
     "output_type": "stream",
     "text": [
      "/usr/local/lib/python3.5/dist-packages/sklearn/metrics/classification.py:1074: UndefinedMetricWarning: Precision is ill-defined and being set to 0.0 due to no predicted samples.\n",
      "  'precision', 'predicted', average, warn_for)\n"
     ]
    },
    {
     "name": "stdout",
     "output_type": "stream",
     "text": [
      "              mmc        prec         rec        obj\n",
      "count  100.000000  100.000000  100.000000  100.00000\n",
      "mean     0.034615    0.558626    0.103930    8.29000\n",
      "std      0.162908    0.350214    0.082136    5.25183\n",
      "min     -0.395461    0.000000    0.000000    0.00000\n",
      "25%     -0.029854    0.326923    0.028571    3.00000\n",
      "50%      0.030155    0.612500    0.089572    9.00000\n",
      "75%      0.139599    0.833333    0.172689   13.00000\n",
      "max      0.394600    1.000000    0.294118   17.00000\n",
      "             mmc       prec        rec        obj\n",
      "count  84.000000  84.000000  84.000000  84.000000\n",
      "mean    0.022795   0.484672   0.100419   7.833333\n",
      "std     0.175730   0.392663   0.103924   6.530435\n",
      "min    -0.489219   0.000000   0.000000   1.000000\n",
      "25%    -0.099278   0.000000   0.000000   2.000000\n",
      "50%     0.000000   0.535885   0.085714   6.000000\n",
      "75%     0.175419   0.833333   0.172689  12.000000\n",
      "max     0.337019   1.000000   0.400000  26.000000\n"
     ]
    }
   ],
   "source": [
    "scores_stat = run_k_rounds(g, p, q, model, 'mst')\n",
    "print(scores_stat)\n"
   ]
  },
  {
   "cell_type": "code",
   "execution_count": 22,
   "metadata": {
    "collapsed": false
   },
   "outputs": [
    {
     "name": "stderr",
     "output_type": "stream",
     "text": [
      "/usr/local/lib/python3.5/dist-packages/sklearn/metrics/classification.py:1074: UndefinedMetricWarning: Precision is ill-defined and being set to 0.0 due to no predicted samples.\n",
      "  'precision', 'predicted', average, warn_for)\n"
     ]
    },
    {
     "name": "stdout",
     "output_type": "stream",
     "text": [
      "             mmc       prec        rec        obj\n",
      "count  90.000000  90.000000  90.000000  90.000000\n",
      "mean    0.014374   0.522599   0.119198   9.466667\n",
      "std     0.184398   0.364440   0.113930   7.531507\n",
      "min    -0.492366   0.000000   0.000000   1.000000\n",
      "25%    -0.128926   0.175000   0.027778   3.000000\n",
      "50%     0.000000   0.545455   0.086975   8.000000\n",
      "75%     0.159279   0.851190   0.181818  14.000000\n",
      "max     0.404520   1.000000   0.411765  33.000000\n"
     ]
    }
   ],
   "source": [
    "scores_stat = run_k_rounds(g, p, q, model, 'tbfs')\n",
    "print(scores_stat)"
   ]
  },
  {
   "cell_type": "code",
   "execution_count": 16,
   "metadata": {
    "collapsed": false
   },
   "outputs": [],
   "source": [
    "from sklearn.metrics import matthews_corrcoef, precision_score, recall_score\n",
    "\n",
    "def evaluate_performance(g, tree, obs_nodes):\n",
    "    inferred_labels = np.zeros(g.num_vertices())\n",
    "    true_labels = (infection_times != -1)\n",
    "    for e in list(tree.edges()):\n",
    "        u, v = map(int, e)\n",
    "        inferred_labels[u] = 1\n",
    "        inferred_labels[v] = 1\n",
    "    \n",
    "    idx = np.sort(list(set(np.arange(g.num_vertices())) - set(obs_nodes)))\n",
    "    \n",
    "    true_labels = true_labels[idx]\n",
    "    inferred_labels = inferred_labels[idx]\n",
    "    \n",
    "    mmc = matthews_corrcoef(true_labels, inferred_labels)\n",
    "    prec = precision_score(true_labels, inferred_labels)\n",
    "    rec = recall_score(true_labels, inferred_labels)\n",
    "    obj = tree.num_edges()\n",
    "    return (mmc, prec, rec, obj)"
   ]
  },
  {
   "cell_type": "code",
   "execution_count": null,
   "metadata": {
    "collapsed": false
   },
   "outputs": [],
   "source": [
    "from plot_utils import plot_snapshot\n",
    "from utils import extract_edges\n",
    "\n",
    "\n",
    "fig, ax = plt.subplots(2, 2, figsize=(10, 10))\n",
    "plot_snapshot(gnx, pos, infection_times, queried_nodes=obs_nodes, source_node=root, with_labels=True,\n",
    "              ax=ax[0, 0],\n",
    "              edges=extract_edges(tree))\n",
    "ax[0, 0].set_title('closure graph')"
   ]
  }
 ],
 "metadata": {
  "kernelspec": {
   "display_name": "Python 3",
   "language": "python",
   "name": "python3"
  },
  "language_info": {
   "codemirror_mode": {
    "name": "ipython",
    "version": 3
   },
   "file_extension": ".py",
   "mimetype": "text/x-python",
   "name": "python",
   "nbconvert_exporter": "python",
   "pygments_lexer": "ipython3",
   "version": "3.5.2"
  }
 },
 "nbformat": 4,
 "nbformat_minor": 2
}

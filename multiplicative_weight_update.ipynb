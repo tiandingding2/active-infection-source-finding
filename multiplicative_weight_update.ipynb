{
 "cells": [
  {
   "cell_type": "code",
   "execution_count": 49,
   "metadata": {
    "collapsed": false,
    "deletable": true,
    "editable": true
   },
   "outputs": [],
   "source": [
    "# import matplotlib as mpl\n",
    "# mpl.use('Agg')\n",
    "%matplotlib inline\n",
    "\n",
    "import networkx as nx\n",
    "import numpy as np\n",
    "import random\n",
    "import pandas as pd\n",
    "from matplotlib import pyplot as plt\n",
    "from itertools import combinations\n",
    "from tqdm import tqdm\n",
    "from joblib import Parallel, delayed\n",
    "\n",
    "from graph_generator import grid_2d, add_p_and_delta\n",
    "from ic import make_partial_cascade\n",
    "from plot_utils import plot_snapshot, plot_query_process\n",
    "from utils import infeciton_time2weight\n",
    "from mwu import main_routine as mwu, MAX_MU, MAX_ADV, RANDOM\n",
    "from synthetic_data import (load_data_by_gtype, GRID, KRONECKER_HIER, KRONECKER_PERI, KRONECKER_RAND,\n",
    "                            PL_TREE, ER, BARABASI)"
   ]
  },
  {
   "cell_type": "code",
   "execution_count": 50,
   "metadata": {
    "collapsed": false,
    "deletable": true,
    "editable": true
   },
   "outputs": [
    {
     "ename": "FileNotFoundError",
     "evalue": "[Errno 2] No such file or directory: 'data/barabasi/graph.gpkl'",
     "output_type": "error",
     "traceback": [
      "\u001b[0;31m---------------------------------------------------------------------------\u001b[0m",
      "\u001b[0;31mFileNotFoundError\u001b[0m                         Traceback (most recent call last)",
      "\u001b[0;32m<ipython-input-50-c0e710fb46a0>\u001b[0m in \u001b[0;36m<module>\u001b[0;34m()\u001b[0m\n\u001b[1;32m      1\u001b[0m \u001b[0mgtype\u001b[0m \u001b[0;34m=\u001b[0m \u001b[0mBARABASI\u001b[0m\u001b[0;34m\u001b[0m\u001b[0m\n\u001b[0;32m----> 2\u001b[0;31m \u001b[0mg\u001b[0m\u001b[0;34m,\u001b[0m \u001b[0ms2n_probas\u001b[0m\u001b[0;34m,\u001b[0m \u001b[0mnode2id\u001b[0m\u001b[0;34m,\u001b[0m \u001b[0mid2node\u001b[0m \u001b[0;34m=\u001b[0m \u001b[0mload_data_by_gtype\u001b[0m\u001b[0;34m(\u001b[0m\u001b[0mgtype\u001b[0m\u001b[0;34m)\u001b[0m\u001b[0;34m\u001b[0m\u001b[0m\n\u001b[0m\u001b[1;32m      3\u001b[0m \u001b[0mu\u001b[0m\u001b[0;34m,\u001b[0m \u001b[0mv\u001b[0m \u001b[0;34m=\u001b[0m \u001b[0mnext\u001b[0m\u001b[0;34m(\u001b[0m\u001b[0mg\u001b[0m\u001b[0;34m.\u001b[0m\u001b[0medges_iter\u001b[0m\u001b[0;34m(\u001b[0m\u001b[0;34m)\u001b[0m\u001b[0;34m)\u001b[0m\u001b[0;34m\u001b[0m\u001b[0m\n\u001b[1;32m      4\u001b[0m \u001b[0minfp\u001b[0m \u001b[0;34m=\u001b[0m \u001b[0mg\u001b[0m\u001b[0;34m[\u001b[0m\u001b[0mu\u001b[0m\u001b[0;34m]\u001b[0m\u001b[0;34m[\u001b[0m\u001b[0mv\u001b[0m\u001b[0;34m]\u001b[0m\u001b[0;34m[\u001b[0m\u001b[0;34m'p'\u001b[0m\u001b[0;34m]\u001b[0m\u001b[0;34m\u001b[0m\u001b[0m\n\u001b[1;32m      5\u001b[0m \u001b[0mprint\u001b[0m\u001b[0;34m(\u001b[0m\u001b[0;34m'infp = {}'\u001b[0m\u001b[0;34m.\u001b[0m\u001b[0mformat\u001b[0m\u001b[0;34m(\u001b[0m\u001b[0minfp\u001b[0m\u001b[0;34m)\u001b[0m\u001b[0;34m)\u001b[0m\u001b[0;34m\u001b[0m\u001b[0m\n",
      "\u001b[0;32m/home/cloud-user/code/source_finding/synthetic_data.py\u001b[0m in \u001b[0;36mload_data_by_gtype\u001b[0;34m(gtype)\u001b[0m\n\u001b[1;32m     34\u001b[0m \u001b[0;34m\u001b[0m\u001b[0m\n\u001b[1;32m     35\u001b[0m \u001b[0;32mdef\u001b[0m \u001b[0mextract_larges_CC\u001b[0m\u001b[0;34m(\u001b[0m\u001b[0mg\u001b[0m\u001b[0;34m)\u001b[0m\u001b[0;34m:\u001b[0m\u001b[0;34m\u001b[0m\u001b[0m\n\u001b[0;32m---> 36\u001b[0;31m     \u001b[0mnodes\u001b[0m \u001b[0;34m=\u001b[0m \u001b[0mmax\u001b[0m\u001b[0;34m(\u001b[0m\u001b[0mnx\u001b[0m\u001b[0;34m.\u001b[0m\u001b[0mconnected_components\u001b[0m\u001b[0;34m(\u001b[0m\u001b[0mg\u001b[0m\u001b[0;34m)\u001b[0m\u001b[0;34m,\u001b[0m \u001b[0mkey\u001b[0m\u001b[0;34m=\u001b[0m\u001b[0mlen\u001b[0m\u001b[0;34m)\u001b[0m\u001b[0;34m\u001b[0m\u001b[0m\n\u001b[0m\u001b[1;32m     37\u001b[0m     \u001b[0;32mreturn\u001b[0m \u001b[0mg\u001b[0m\u001b[0;34m.\u001b[0m\u001b[0msubgraph\u001b[0m\u001b[0;34m(\u001b[0m\u001b[0mnodes\u001b[0m\u001b[0;34m)\u001b[0m\u001b[0;34m\u001b[0m\u001b[0m\n\u001b[1;32m     38\u001b[0m \u001b[0;34m\u001b[0m\u001b[0m\n",
      "\u001b[0;32m<decorator-gen-295>\u001b[0m in \u001b[0;36mread_gpickle\u001b[0;34m(path)\u001b[0m\n",
      "\u001b[0;32m/home/cloud-user/code/source_finding/venv/lib/python3.5/site-packages/networkx/utils/decorators.py\u001b[0m in \u001b[0;36m_open_file\u001b[0;34m(func, *args, **kwargs)\u001b[0m\n\u001b[1;32m    196\u001b[0m         \u001b[0;32mif\u001b[0m \u001b[0mis_string_like\u001b[0m\u001b[0;34m(\u001b[0m\u001b[0mpath\u001b[0m\u001b[0;34m)\u001b[0m\u001b[0;34m:\u001b[0m\u001b[0;34m\u001b[0m\u001b[0m\n\u001b[1;32m    197\u001b[0m             \u001b[0mext\u001b[0m \u001b[0;34m=\u001b[0m \u001b[0msplitext\u001b[0m\u001b[0;34m(\u001b[0m\u001b[0mpath\u001b[0m\u001b[0;34m)\u001b[0m\u001b[0;34m[\u001b[0m\u001b[0;36m1\u001b[0m\u001b[0;34m]\u001b[0m\u001b[0;34m\u001b[0m\u001b[0m\n\u001b[0;32m--> 198\u001b[0;31m             \u001b[0mfobj\u001b[0m \u001b[0;34m=\u001b[0m \u001b[0m_dispatch_dict\u001b[0m\u001b[0;34m[\u001b[0m\u001b[0mext\u001b[0m\u001b[0;34m]\u001b[0m\u001b[0;34m(\u001b[0m\u001b[0mpath\u001b[0m\u001b[0;34m,\u001b[0m \u001b[0mmode\u001b[0m\u001b[0;34m=\u001b[0m\u001b[0mmode\u001b[0m\u001b[0;34m)\u001b[0m\u001b[0;34m\u001b[0m\u001b[0m\n\u001b[0m\u001b[1;32m    199\u001b[0m             \u001b[0mclose_fobj\u001b[0m \u001b[0;34m=\u001b[0m \u001b[0;32mTrue\u001b[0m\u001b[0;34m\u001b[0m\u001b[0m\n\u001b[1;32m    200\u001b[0m         \u001b[0;32melif\u001b[0m \u001b[0mhasattr\u001b[0m\u001b[0;34m(\u001b[0m\u001b[0mpath\u001b[0m\u001b[0;34m,\u001b[0m \u001b[0;34m'read'\u001b[0m\u001b[0;34m)\u001b[0m\u001b[0;34m:\u001b[0m\u001b[0;34m\u001b[0m\u001b[0m\n",
      "\u001b[0;31mFileNotFoundError\u001b[0m: [Errno 2] No such file or directory: 'data/barabasi/graph.gpkl'"
     ]
    }
   ],
   "source": [
    "gtype = BARABASI\n",
    "g, s2n_probas, node2id, id2node = load_data_by_gtype(gtype)\n",
    "u, v = next(g.edges_iter())\n",
    "infp = g[u][v]['p']\n",
    "print('infp = {}'.format(infp))\n",
    "if gtype == GRID:\n",
    "    pos = {n: np.array(n) for n in g.nodes()}\n",
    "else:\n",
    "    pos = nx.spring_layout(g)"
   ]
  },
  {
   "cell_type": "code",
   "execution_count": null,
   "metadata": {
    "collapsed": false,
    "deletable": true,
    "editable": true
   },
   "outputs": [],
   "source": [
    "source, obs_nodes, infection_times, tree = make_partial_cascade(g, 0.05, sampling_method='late_nodes')\n",
    "\n",
    "node2weight = infeciton_time2weight(infection_times)\n",
    "\n",
    "plot_snapshot(g, pos, node2weight, \n",
    "              query_node=(3, 3),\n",
    "              source_node=source,\n",
    "              queried_nodes=obs_nodes, \n",
    "              max_node_size=500)"
   ]
  },
  {
   "cell_type": "code",
   "execution_count": null,
   "metadata": {
    "collapsed": false,
    "deletable": true,
    "editable": true,
    "scrolled": true
   },
   "outputs": [],
   "source": [
    "%%timeit -r 1 -n1\n",
    "# demo of how mu(source increases)\n",
    "\n",
    "source, obs_nodes, infection_times, tree = make_partial_cascade(\n",
    "    g, fraction=0.05, sampling_method='late_nodes')\n",
    "query_count, mu_list, query_list = mwu(g, node2id, id2node,\n",
    "                                source, obs_nodes, infection_times, \n",
    "                                s2n_probas,\n",
    "                                epsilon=0.7,\n",
    "                                query_selection_method=MAX_MU,\n",
    "                                check_neighbor_threshold=0.1,\n",
    "                                save_log=True,\n",
    "                                debug=False)\n",
    "print(query_count)\n",
    "\n",
    "mu_of_source = [mu[source] for mu in mu_list]\n",
    "plt.clf()\n",
    "fig, ax = plt.subplots(1, 1, figsize=(5, 5))\n",
    "ax.plot(mu_of_source)\n",
    "ax.plot([0.1]*100, 'r')\n",
    "ax.set_xlabel('iteration')\n",
    "ax.set_ylabel('mu(source)')\n",
    "\n",
    "idx = np.nonzero(np.array(mu_of_source) > 0.1)[0]\n",
    "if len(idx) > 0:\n",
    "    half_value = idx[0]\n",
    "    ax.plot([half_value]*20, np.linspace(0, 1.0, 20), 'r')\n",
    "# fig.savefig('figs/{}_mu_source_vs_iteration.pdf'.format(gtype))"
   ]
  },
  {
   "cell_type": "code",
   "execution_count": null,
   "metadata": {
    "collapsed": false,
    "deletable": true,
    "editable": true
   },
   "outputs": [],
   "source": [
    "source, obs_nodes, infection_times, tree = make_partial_cascade(g, 0.05, sampling_method='late_nodes')\n",
    "query_count, mu_list, query_list = mwu(g, node2id, id2node,\n",
    "                                source, obs_nodes, infection_times, \n",
    "                                s2n_probas,\n",
    "                                epsilon=0.7,\n",
    "                                query_selection_method=MAX_MU,\n",
    "                                check_neighbor_threshold=0.1,\n",
    "                                max_iter=10,\n",
    "                                save_log=True,\n",
    "                                debug=False)\n",
    "print(query_count)\n",
    "fig, ax = plot_query_process(g, source, obs_nodes, infection_times,\n",
    "                           mu_list, query_list,\n",
    "                           check_neighbor_threshold=0.1,\n",
    "                           pos=pos)"
   ]
  },
  {
   "cell_type": "code",
   "execution_count": null,
   "metadata": {
    "collapsed": false,
    "deletable": true,
    "editable": true,
    "scrolled": false
   },
   "outputs": [],
   "source": [
    "if False:\n",
    "    print('|V|={}, |E|={}'.format(g.number_of_nodes(), g.number_of_edges()))\n",
    "    if True:\n",
    "        while True:\n",
    "            source, obs_nodes, infection_times, tree = make_partial_cascade(\n",
    "                g, fraction=0.05, sampling_method='late_nodes')    \n",
    "            query_count, mu_of_source = mwu(g, source, obs_nodes, infection_times, \n",
    "                                            mean_times_by_source,\n",
    "                                            epsilon=0.7,\n",
    "                                            query_selection_method=MAX_MU,\n",
    "                                            inspect_mu=False,\n",
    "                                            debug=False, \n",
    "                                            plot=False)            \n",
    "            if query_count > 50:\n",
    "                print(query_count)\n",
    "                break\n",
    "    else:\n",
    "        d = pkl.load(open('bad_examples/{}/1.pkl'.format(gtype), 'rb'))\n",
    "        source, obs_nodes, infection_times = d['source'], d['obs_nodes'], d['infection_times']\n",
    "\n",
    "    query_count, mu_of_source, fig = mwu(g, source, obs_nodes, infection_times, \n",
    "                                        times_by_source,\n",
    "                                        source2nodeid_counter,\n",
    "                                        epsilon=0.7,\n",
    "                                        query_selection_method=MAX_MU,\n",
    "                                        inspect_mu=False,\n",
    "                                        debug=False, \n",
    "                                        plot=True,\n",
    "                                        max_plots=12)\n",
    "    print(query_count)\n",
    "    fig.savefig('figs/query_process_{}'.format(gtype))\n",
    "\n",
    "    plt.clf()\n",
    "    fig, ax = plt.subplots(1, 1, figsize=(5, 5))\n",
    "    ax.plot(mu_of_source)\n",
    "    ax.plot([0.1]*100, 'r')\n",
    "    ax.set_xlabel('iteration')\n",
    "    ax.set_ylabel('mu(source)')\n",
    "\n",
    "    idx = np.nonzero(np.array(mu_of_source) > 0.1)[0]\n",
    "    if len(idx) > 0:\n",
    "        half_value = idx[0]\n",
    "        ax.plot([half_value]*20, np.linspace(0, 1.0, 20), 'r')\n",
    "    fig.savefig('figs/mu_vs_time_{}'.format(gtype))    \n"
   ]
  },
  {
   "cell_type": "code",
   "execution_count": null,
   "metadata": {
    "collapsed": false,
    "deletable": true,
    "editable": true
   },
   "outputs": [],
   "source": [
    "# dump bad example\n",
    "if False:\n",
    "    import os    \n",
    "    data = {\n",
    "        'source': source, 'obs_nodes': obs_nodes, 'infection_times': infection_times, \n",
    "        'tree': tree,\n",
    "        'epsilon': 0.7,\n",
    "        'query_selection_method': MAX_MU\n",
    "    }\n",
    "    if not os.path.exists('bad_examples/{}'.format(gtype)):\n",
    "        os.makedirs('bad_examples/{}'.format(gtype))\n",
    "    pkl.dump(data, open('bad_examples/{}/unsual_tree.pkl'.format(gtype), 'wb'))\n"
   ]
  },
  {
   "cell_type": "code",
   "execution_count": null,
   "metadata": {
    "collapsed": false,
    "deletable": true,
    "editable": true
   },
   "outputs": [],
   "source": [
    "def experiment_multiple_rounds(rounds, g,\n",
    "                               node2id, id2node,\n",
    "                               s2n_probas,\n",
    "                               infp, fraction, epsilon, sampling_method, \n",
    "                               query_selection_method,\n",
    "                               check_neighbor_threshold,\n",
    "                               max_iter=float('inf'),\n",
    "                               seed=None):\n",
    "    np.random.seed(seed)\n",
    "    random.seed(seed)\n",
    "    results = []\n",
    "    for i in tqdm(range(rounds)):\n",
    "        source, obs_nodes, infection_times, tree = make_partial_cascade(g, fraction, sampling_method=sampling_method)\n",
    "        r = mwu(g, node2id, id2node, \n",
    "                source, obs_nodes, infection_times, \n",
    "                s2n_probas,\n",
    "                epsilon,\n",
    "                query_selection_method=query_selection_method,\n",
    "                debug=False,\n",
    "                max_iter=max_iter,\n",
    "                save_log=False)\n",
    "        results.append(r)\n",
    "    return results"
   ]
  },
  {
   "cell_type": "code",
   "execution_count": null,
   "metadata": {
    "collapsed": true,
    "deletable": true,
    "editable": true
   },
   "outputs": [],
   "source": [
    "rounds = 100\n",
    "infp = 0.7\n",
    "fraction = 0.05\n",
    "epsilon = infp\n",
    "check_neighbor_threshold = 0.01\n",
    "sampling_method = 'late_nodes'\n",
    "params = {\n",
    "    'infp': infp,\n",
    "    'fraction': fraction,\n",
    "    'sampling_method': sampling_method\n",
    "}"
   ]
  },
  {
   "cell_type": "code",
   "execution_count": null,
   "metadata": {
    "collapsed": false,
    "deletable": true,
    "editable": true
   },
   "outputs": [],
   "source": [
    "results_summary_by_query_method = {}\n",
    "results_by_query_method = {}\n",
    "# methods = [CENTROID, MAX_MU,  RANDOM]\n",
    "methods = [MAX_MU,  RANDOM]\n",
    "for method in methods:\n",
    "    cnts = experiment_multiple_rounds(rounds, g, \n",
    "                                      node2id, id2node,\n",
    "                                      s2n_probas,\n",
    "                                      infp, fraction, epsilon, sampling_method,\n",
    "                                      query_selection_method=method,\n",
    "                                      check_neighbor_threshold=check_neighbor_threshold,\n",
    "                                      max_iter=g.number_of_nodes(),\n",
    "                                      seed=123456)\n",
    "    s = pd.Series(list(filter(lambda c: c != False, cnts)))\n",
    "    results_summary_by_query_method[method] = s.describe().to_dict()\n",
    "    results_by_query_method[method] = s.as_matrix()\n"
   ]
  },
  {
   "cell_type": "code",
   "execution_count": null,
   "metadata": {
    "collapsed": false,
    "deletable": true,
    "editable": true
   },
   "outputs": [],
   "source": [
    "from baselines import baseline_dog_tracker\n",
    "\n",
    "baseline_cnts = []\n",
    "for i in range(rounds):\n",
    "    source, obs_nodes, infection_times, tree = make_partial_cascade(g, fraction, sampling_method=sampling_method)\n",
    "    c = baseline_dog_tracker(g, obs_nodes, infection_times)\n",
    "    baseline_cnts.append(c)\n",
    "results_summary_by_query_method['dog'] = pd.Series(baseline_cnts).describe().to_dict()\n",
    "results_by_query_method['dog'] = np.array(baseline_cnts)\n",
    "result = pd.DataFrame.from_dict(results_summary_by_query_method)    "
   ]
  },
  {
   "cell_type": "code",
   "execution_count": null,
   "metadata": {
    "collapsed": false,
    "deletable": true,
    "editable": true
   },
   "outputs": [],
   "source": [
    "print('number of nodes: {}'.format(g.number_of_nodes()))"
   ]
  },
  {
   "cell_type": "code",
   "execution_count": null,
   "metadata": {
    "collapsed": false,
    "deletable": true,
    "editable": true
   },
   "outputs": [],
   "source": [
    "result"
   ]
  },
  {
   "cell_type": "code",
   "execution_count": 45,
   "metadata": {
    "collapsed": false,
    "deletable": true,
    "editable": true
   },
   "outputs": [],
   "source": [
    "import os\n",
    "d = 'outputs/{}'.format(gtype)\n",
    "if not os.path.exists(d):\n",
    "    os.makedirs(d)\n",
    "result.to_pickle('{}/performance_comparison.pkl'.format(d))"
   ]
  },
  {
   "cell_type": "code",
   "execution_count": 46,
   "metadata": {
    "collapsed": false,
    "deletable": true,
    "editable": true
   },
   "outputs": [
    {
     "data": {
      "image/png": "[encoded data removed]",
      "text/plain": [
       "<matplotlib.figure.Figure at 0x7fa338a93eb8>"
      ]
     },
     "metadata": {},
     "output_type": "display_data"
    }
   ],
   "source": [
    "fig, ax = plt.subplots(1, 1)\n",
    "data = list(results_by_query_method.values())\n",
    "ax.boxplot(data)\n",
    "ax.legend(list(results_by_query_method.keys()))\n",
    "ax.set_title('{}'.format(gtype))\n",
    "ax.set_ylim(0, g.number_of_nodes())\n",
    "fig.savefig('figs/boxplot-{}'.format(gtype))"
   ]
  },
  {
   "cell_type": "code",
   "execution_count": 47,
   "metadata": {
    "collapsed": false,
    "deletable": true,
    "editable": true
   },
   "outputs": [
    {
     "name": "stdout",
     "output_type": "stream",
     "text": [
      "\\begin{tabular}{lrrrr}\n",
      "\\toprule\n",
      "{} &    dog &  max\\_adversarial &  max\\_mu &  random \\\\\n",
      "\\midrule\n",
      "25\\%   &  18.00 &            14.00 &   10.00 &   16.75 \\\\\n",
      "50\\%   &  24.00 &            22.00 &   15.00 &   28.50 \\\\\n",
      "75\\%   &  32.00 &            43.00 &   23.75 &   43.00 \\\\\n",
      "count & 100.00 &           100.00 &   98.00 &  100.00 \\\\\n",
      "max   &  54.00 &            86.00 &   93.00 &   92.00 \\\\\n",
      "mean  &  25.07 &            30.44 &   21.02 &   31.71 \\\\\n",
      "min   &  11.00 &             7.00 &    5.00 &    8.00 \\\\\n",
      "std   &   9.13 &            19.62 &   17.95 &   19.05 \\\\\n",
      "\\bottomrule\n",
      "\\end{tabular}\n",
      "\n"
     ]
    }
   ],
   "source": [
    "print(result.to_latex(float_format='%.2f'))"
   ]
  },
  {
   "cell_type": "code",
   "execution_count": null,
   "metadata": {
    "collapsed": false,
    "deletable": true,
    "editable": true
   },
   "outputs": [],
   "source": [
    "import sys\n",
    "sys.exit(-1)"
   ]
  },
  {
   "cell_type": "code",
   "execution_count": null,
   "metadata": {
    "collapsed": false,
    "deletable": true,
    "editable": true
   },
   "outputs": [],
   "source": [
    "if False:\n",
    "    rounds = 500\n",
    "    infp = 0.7\n",
    "    fraction = 0.02\n",
    "    epsilon = 0.8\n",
    "    sampling_method = 'late_nodes'\n",
    "    check_neighbor_threshold = 0.1\n",
    "    \n",
    "    # calling it outside \n",
    "    result = experiment_multiple_rounds(rounds, g, \n",
    "                                        mean_times_by_source,\n",
    "                                        infp, fraction, epsilon, sampling_method,\n",
    "                                        query_selection_method=MAX_MU,\n",
    "                                        check_neighbor_threshold=check_neighbor_threshold)\n",
    "    cnts, _ = zip(*result)\n",
    "    print(np.mean(cnts))  # 10.252\n",
    "    print(np.median(cnts)) # 8.0\n",
    "\n",
    "    # calling it using parallel\n",
    "    epsilons = [epsilon]\n",
    "    results = Parallel(n_jobs=-1)(\n",
    "        delayed(experiment_multiple_rounds)(rounds, g, \n",
    "                                            mean_times_by_source,\n",
    "                                            infp, fraction, epsilon, sampling_method,\n",
    "                                            query_selection_method='max_mu',\n",
    "                                            check_neighbor_threshold=check_neighbor_threshold)\n",
    "        for eps in epsilons)\n",
    "\n",
    "    cnts, _ = zip(*results[0])\n",
    "    print(np.mean(cnts))  # 14.208\n",
    "    print(np.median(cnts))  # 11.0    "
   ]
  },
  {
   "cell_type": "code",
   "execution_count": null,
   "metadata": {
    "collapsed": false,
    "deletable": true,
    "editable": true,
    "scrolled": true
   },
   "outputs": [],
   "source": [
    "epsilons = np.linspace(0.2, 0.9, 8)\n",
    "# epsilons = [0.8]\n",
    "results = []\n",
    "\n",
    "for eps in tqdm(epsilons):\n",
    "    result = experiment_multiple_rounds(rounds, g, \n",
    "                                        mean_times_by_source,\n",
    "                                        infp, fraction, epsilon, sampling_method,\n",
    "                                        query_selection_method='max_mu',\n",
    "                                        check_neighbor_threshold=check_neighbor_threshold)\n",
    "    results.append(result)    "
   ]
  },
  {
   "cell_type": "code",
   "execution_count": null,
   "metadata": {
    "collapsed": false,
    "deletable": true,
    "editable": true
   },
   "outputs": [],
   "source": [
    "list_cnts = [list(zip(*result))[0] for result in results]\n",
    "means = list(map(np.mean, list_cnts))\n",
    "medians = list(map(np.median, list_cnts))\n",
    "df = pd.DataFrame.from_dict({'eps': epsilons,\n",
    "                             'mean': means, \n",
    "                             'median': medians})\n",
    "df    "
   ]
  },
  {
   "cell_type": "code",
   "execution_count": null,
   "metadata": {
    "collapsed": false,
    "deletable": true,
    "editable": true
   },
   "outputs": [],
   "source": [
    "from baselines import baseline_dog_tracker\n",
    "\n",
    "baseline_cnts = []\n",
    "for i in range(rounds):\n",
    "    source, obs_nodes, infection_times, tree = make_partial_cascade(g, fraction, sampling_method=sampling_method)\n",
    "    c = baseline_dog_tracker(g, obs_nodes, infection_times)\n",
    "    baseline_cnts.append(c)"
   ]
  },
  {
   "cell_type": "code",
   "execution_count": null,
   "metadata": {
    "collapsed": false,
    "deletable": true,
    "editable": true
   },
   "outputs": [],
   "source": [
    "pd.Series(baseline_cnts).describe().to_dict()"
   ]
  },
  {
   "cell_type": "code",
   "execution_count": null,
   "metadata": {
    "collapsed": false,
    "deletable": true,
    "editable": true
   },
   "outputs": [],
   "source": [
    "print('mean', np.mean(baseline_cnts))\n",
    "print('median', np.median(baseline_cnts))"
   ]
  },
  {
   "cell_type": "code",
   "execution_count": null,
   "metadata": {
    "collapsed": false,
    "deletable": true,
    "editable": true
   },
   "outputs": [],
   "source": [
    "fig, axes = plt.subplots(1, 2, figsize=(10, 5))\n",
    "ax0, ax1 = axes\n",
    "df.plot(x='eps', y=['mean'], ax=ax0)\n",
    "ax0.plot([np.mean(baseline_cnts)] * len(epsilons))\n",
    "ax0.legend(['multiplicative (max mu strategy)', 'baseline'])\n",
    "ax0.set_ylim(0, 100)\n",
    "ax0.set_title('mean')\n",
    "ax0.set_ylabel('query count')\n",
    "\n",
    "df.plot(x='eps', y=['median'], ax=axes[1])\n",
    "ax1.plot([np.median(baseline_cnts)] * len(epsilons))\n",
    "ax1.legend(['multiplicative (max mu strategy)', 'baseline'])\n",
    "ax1.set_ylim(0, 100)\n",
    "ax1.set_title('median')\n",
    "ax1.set_ylabel('query count')"
   ]
  },
  {
   "cell_type": "code",
   "execution_count": null,
   "metadata": {
    "collapsed": true,
    "deletable": true,
    "editable": true
   },
   "outputs": [],
   "source": [
    "fig.savefig('figs/grid-{}-{}.png'.format(sampling_method, fraction))"
   ]
  },
  {
   "cell_type": "code",
   "execution_count": null,
   "metadata": {
    "collapsed": true,
    "deletable": true,
    "editable": true
   },
   "outputs": [],
   "source": [
    "df.to_pickle('outputs/mwu-{}-{}.pkl'.format(sampling_method, fraction))\n",
    "import pickle\n",
    "pd.Series(baseline_cnts).to_pickle('outputs/dog-{}-{}.pkl'.format(sampling_method, fraction))"
   ]
  },
  {
   "cell_type": "code",
   "execution_count": null,
   "metadata": {
    "collapsed": true,
    "deletable": true,
    "editable": true
   },
   "outputs": [],
   "source": [
    "# summarize result\n",
    "eps = 0.8\n",
    "sampling_methods = ['uniform', 'late_nodes']\n",
    "fraction = 0.02\n",
    "for s in sampling_methods:\n",
    "    s1 = pd.read_pickle('outputs/mwu-{}-{}.pkl'.format(s, fraction))\n",
    "    s2_cnts = pd.read_pickle('outputs/dog-{}-{}.pkl'.format(s, fraction))\n",
    "    print('method', s)\n",
    "    print('mean', s1[s1['eps'] == 0.8].iloc[0]['mean'], np.mean(s2_cnts))\n",
    "    print('median', s1[s1['eps'] == 0.8].iloc[0]['median'], np.median(s2_cnts))    \n",
    "    print()"
   ]
  }
 ],
 "metadata": {
  "kernelspec": {
   "display_name": "Python 3",
   "language": "python",
   "name": "python3"
  },
  "language_info": {
   "codemirror_mode": {
    "name": "ipython",
    "version": 3
   },
   "file_extension": ".py",
   "mimetype": "text/x-python",
   "name": "python",
   "nbconvert_exporter": "python",
   "pygments_lexer": "ipython3",
   "version": "3.5.2"
  }
 },
 "nbformat": 4,
 "nbformat_minor": 0
}

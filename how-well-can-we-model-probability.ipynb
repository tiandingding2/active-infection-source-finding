{
 "cells": [
  {
   "cell_type": "code",
   "execution_count": 1,
   "metadata": {
    "collapsed": false,
    "deletable": true,
    "editable": true
   },
   "outputs": [],
   "source": [
    "%matplotlib notebook\n",
    "import numpy as np\n",
    "import networkx as nx\n",
    "import pandas as pd\n",
    "from matplotlib import pyplot as plt, cm\n",
    "from matplotlib.ticker import LinearLocator, FormatStrFormatter\n",
    "from mpl_toolkits.mplot3d import axes3d\n",
    "from synthetic_data import load_data_by_gtype\n",
    "from ic import sample_graph_from_infection, make_partial_cascade, infection_time_estimation\n",
    "from graph_generator import add_p_and_delta\n",
    "from tqdm import tqdm\n",
    "from joblib import Parallel, delayed"
   ]
  },
  {
   "cell_type": "code",
   "execution_count": 2,
   "metadata": {
    "collapsed": false,
    "deletable": true,
    "editable": true
   },
   "outputs": [
    {
     "name": "stdout",
     "output_type": "stream",
     "text": [
      "|V|=64\n"
     ]
    }
   ],
   "source": [
    "gtype = 'barabasi'\n",
    "param = '2-6'\n",
    "N1 = 100  # experiment round\n",
    "N2 = 100  # simulation rounds\n",
    "p = 0.7\n",
    "q = 0.01\n",
    "g = load_data_by_gtype(gtype, param)[0]\n",
    "print('|V|={}'.format(g.number_of_nodes()))"
   ]
  },
  {
   "cell_type": "code",
   "execution_count": 3,
   "metadata": {
    "collapsed": true,
    "deletable": true,
    "editable": true
   },
   "outputs": [],
   "source": [
    "def source_likelihood_given_single_obs(g, o, t, N):\n",
    "    matching_count = np.zeros(g.number_of_nodes(), dtype=np.float64)\n",
    "    for i in range(N):\n",
    "        sg = sample_graph_from_infection(g)\n",
    "        sp_len = nx.shortest_path_length(sg, source=o)\n",
    "        times = np.array([sp_len.get(n, float('inf')) for n in np.arange(g.number_of_nodes())])\n",
    "        matching_count += (times == t)\n",
    "    return matching_count / N\n"
   ]
  },
  {
   "cell_type": "code",
   "execution_count": 4,
   "metadata": {
    "collapsed": true,
    "deletable": true,
    "editable": true
   },
   "outputs": [],
   "source": [
    "def source_likelihood_given_obs_pair(g, o1, t1, o2, t2, N):\n",
    "    pass"
   ]
  },
  {
   "cell_type": "code",
   "execution_count": 5,
   "metadata": {
    "collapsed": false,
    "deletable": true,
    "editable": true
   },
   "outputs": [],
   "source": [
    "def source_likelihood_ratios_and_dists(g, p, q, N1, N2, s2n_proba, debug=True):\n",
    "    g = add_p_and_delta(g, p, 1)\n",
    "    source_likelihood_array = []\n",
    "    sources = []\n",
    "    dist_array = []\n",
    "    def extract_proba(s, o, t):\n",
    "        m = s2n_proba[s]\n",
    "        if infection_times[o] < m.shape[1]:\n",
    "            return m[o, infection_times[o]]\n",
    "        else:\n",
    "            return 0.001\n",
    "    if debug:\n",
    "        iters = tqdm(range(N1))\n",
    "    else:\n",
    "        iters = range(N1)\n",
    "    for i in iters:\n",
    "        source, obs_nodes, infection_times, _ = make_partial_cascade(g, q, 'uniform')\n",
    "        sources.append(source)\n",
    "        source_likelihood = np.ones(g.number_of_nodes(), dtype=np.float64)\n",
    "        for o in obs_nodes:\n",
    "            source_likelihood *= np.array([extract_proba(s, o, infection_times[o])\n",
    "                                           for s in np.arange(g.number_of_nodes())])\n",
    "            source_likelihood /= source_likelihood.sum()\n",
    "            # source_likelihood_given_single_obs(g, o, infection_times[o], N2)\n",
    "        max_n = np.argmax(source_likelihood)\n",
    "        dist_to_max_n = nx.shortest_path_length(g, source=source, target=max_n)\n",
    "        dist_array.append(dist_to_max_n)\n",
    "        source_likelihood_array.append(source_likelihood)\n",
    "    source_likelihood_array = np.array(source_likelihood_array, dtype=np.float64)\n",
    "    source_llh = np.array([source_likelihood_array[i, src]\n",
    "                           for i, src in enumerate(sources)])\n",
    "    ratios = source_llh / source_likelihood_array.max(axis=1)\n",
    "    return {\n",
    "        'ratio': pd.Series(ratios[np.invert(np.isnan(ratios))]).describe(),\n",
    "        'dist': pd.Series(dist_array).describe()\n",
    "    }"
   ]
  },
  {
   "cell_type": "code",
   "execution_count": 23,
   "metadata": {
    "collapsed": false,
    "deletable": true,
    "editable": true
   },
   "outputs": [],
   "source": [
    "ps = np.linspace(0.1, 1.0, 10)\n",
    "qs = np.linspace(0.1, 1.0, 10)"
   ]
  },
  {
   "cell_type": "code",
   "execution_count": 8,
   "metadata": {
    "collapsed": false
   },
   "outputs": [
    {
     "name": "stderr",
     "output_type": "stream",
     "text": [
      "100%|██████████| 100/100 [00:00<00:00, 740.11it/s]\n",
      "100%|██████████| 100/100 [00:00<00:00, 676.27it/s]\n",
      "100%|██████████| 64/64 [00:00<00:00, 414.30it/s]\n",
      "100%|██████████| 100/100 [00:00<00:00, 827.22it/s]\n",
      "100%|██████████| 100/100 [00:00<00:00, 1066.26it/s]\n",
      "100%|██████████| 64/64 [00:00<00:00, 391.39it/s]\n",
      "100%|██████████| 100/100 [00:00<00:00, 749.92it/s]\n",
      "100%|██████████| 100/100 [00:00<00:00, 1063.54it/s]\n",
      "100%|██████████| 64/64 [00:00<00:00, 418.27it/s]\n",
      "100%|██████████| 100/100 [00:00<00:00, 738.72it/s]\n",
      "100%|██████████| 100/100 [00:00<00:00, 935.34it/s]\n",
      "100%|██████████| 64/64 [00:00<00:00, 453.69it/s]\n",
      "100%|██████████| 100/100 [00:00<00:00, 801.43it/s]\n",
      "100%|██████████| 100/100 [00:00<00:00, 1018.46it/s]\n",
      "100%|██████████| 64/64 [00:00<00:00, 450.60it/s]\n",
      "100%|██████████| 100/100 [00:00<00:00, 720.42it/s]\n",
      "100%|██████████| 100/100 [00:00<00:00, 718.97it/s]\n",
      "100%|██████████| 64/64 [00:00<00:00, 478.11it/s]\n",
      "100%|██████████| 100/100 [00:00<00:00, 659.57it/s]\n",
      "100%|██████████| 100/100 [00:00<00:00, 897.43it/s]\n",
      "100%|██████████| 64/64 [00:00<00:00, 406.38it/s]\n",
      "100%|██████████| 100/100 [00:00<00:00, 497.66it/s]\n",
      "100%|██████████| 100/100 [00:00<00:00, 840.72it/s]\n",
      "100%|██████████| 64/64 [00:00<00:00, 487.00it/s]\n",
      "100%|██████████| 100/100 [00:00<00:00, 530.54it/s]\n",
      "100%|██████████| 100/100 [00:00<00:00, 757.96it/s]\n",
      "100%|██████████| 64/64 [00:00<00:00, 471.11it/s]\n",
      "100%|██████████| 100/100 [00:00<00:00, 675.96it/s]\n",
      "100%|██████████| 100/100 [00:00<00:00, 921.34it/s]\n",
      "100%|██████████| 64/64 [00:00<00:00, 473.05it/s]\n"
     ]
    }
   ],
   "source": [
    "p2sn_proba = {p: infection_time_estimation(add_p_and_delta(g, p, 1), N2, debug=False) for p in ps}"
   ]
  },
  {
   "cell_type": "code",
   "execution_count": 24,
   "metadata": {
    "collapsed": false,
    "deletable": true,
    "editable": true
   },
   "outputs": [
    {
     "name": "stderr",
     "output_type": "stream",
     "text": [
      " 10%|█         | 1/10 [00:00<00:01,  5.06it/s]/home/cloud-user/code/source_finding/venv/lib/python3.5/site-packages/ipykernel/__main__.py:23: RuntimeWarning: invalid value encountered in true_divide\n",
      "/home/cloud-user/code/source_finding/venv/lib/python3.5/site-packages/ipykernel/__main__.py:23: RuntimeWarning: invalid value encountered in true_divide\n",
      "/home/cloud-user/code/source_finding/venv/lib/python3.5/site-packages/ipykernel/__main__.py:23: RuntimeWarning: invalid value encountered in true_divide\n",
      "/home/cloud-user/code/source_finding/venv/lib/python3.5/site-packages/ipykernel/__main__.py:23: RuntimeWarning: invalid value encountered in true_divide\n",
      "/home/cloud-user/code/source_finding/venv/lib/python3.5/site-packages/ipykernel/__main__.py:23: RuntimeWarning: invalid value encountered in true_divide\n",
      "/home/cloud-user/code/source_finding/venv/lib/python3.5/site-packages/ipykernel/__main__.py:23: RuntimeWarning: invalid value encountered in true_divide\n",
      "/home/cloud-user/code/source_finding/venv/lib/python3.5/site-packages/ipykernel/__main__.py:23: RuntimeWarning: invalid value encountered in true_divide\n",
      "/home/cloud-user/code/source_finding/venv/lib/python3.5/site-packages/ipykernel/__main__.py:23: RuntimeWarning: invalid value encountered in true_divide\n",
      "100%|██████████| 10/10 [01:02<00:00,  8.04s/it]\n"
     ]
    }
   ],
   "source": [
    "rows = Parallel(n_jobs=-1)(delayed(source_likelihood_ratios_and_dists)(g, p, q, N1, N2, p2sn_proba[p], debug=False)\n",
    "                           for p in tqdm(ps) for q in qs)\n"
   ]
  },
  {
   "cell_type": "code",
   "execution_count": null,
   "metadata": {
    "collapsed": false,
    "deletable": true,
    "editable": true
   },
   "outputs": [],
   "source": [
    "# mpld3.enable_notebook()\n",
    "fig = plt.figure()\n",
    "X, Y = np.meshgrid(ps, qs)\n",
    "ratio_median = np.array([r['ratio']['50%'] for r in rows]).reshape((len(ps), len(qs)))\n",
    "ratio_mean = np.array([r['ratio']['mean'] for r in rows]).reshape((len(ps), len(qs)))\n",
    "dist_median = np.array([r['dist']['50%'] for r in rows]).reshape((len(ps), len(qs)))\n",
    "dist_mean = np.array([r['dist']['mean'] for r in rows]).reshape((len(ps), len(qs)))\n",
    "to_draw_data = {\n",
    "    'ratio-median': ratio_median,\n",
    "    'ratio-mean': ratio_mean,\n",
    "    'dist-median': dist_median,\n",
    "    'dist-mean': dist_mean,\n",
    "}\n",
    "\n",
    "for name, Z in to_draw_data.items():\n",
    "    plt.clf()\n",
    "    ax = fig.gca(projection='3d')\n",
    "    surf = ax.plot_surface(X, Y, Z, \n",
    "                           rstride=1, cstride=1,\n",
    "                           vmin=0, vmax=1,\n",
    "                           cmap=cm.coolwarm)\n",
    "    ax.set_zlim(0, Z.max())\n",
    "    ax.zaxis.set_major_locator(LinearLocator(10))\n",
    "    ax.zaxis.set_major_formatter(FormatStrFormatter('%.02f'))\n",
    "    fig.colorbar(surf, shrink=0.5, aspect=5)    \n",
    "\n",
    "    ax.set_xlabel('p')\n",
    "    ax.set_ylabel('q')\n",
    "    ax.set_zlabel(name)\n",
    "    plt.show()\n",
    "    fig.savefig('figs/{}/{}-vs-p-and-q.png'.format(gtype, name))\n",
    "# .display()"
   ]
  },
  {
   "cell_type": "code",
   "execution_count": null,
   "metadata": {
    "collapsed": true,
    "deletable": true,
    "editable": true
   },
   "outputs": [],
   "source": [
    "np.savez('figs/{}/source-likelihood-vs-p-and-q-data'.format(gtype), [X, Y, ratio_median, ratio_mean, dist_median, dist_mean])"
   ]
  }
 ],
 "metadata": {
  "kernelspec": {
   "display_name": "Python 3",
   "language": "python",
   "name": "python3"
  },
  "language_info": {
   "codemirror_mode": {
    "name": "ipython",
    "version": 3
   },
   "file_extension": ".py",
   "mimetype": "text/x-python",
   "name": "python",
   "nbconvert_exporter": "python",
   "pygments_lexer": "ipython3",
   "version": "3.5.2"
  }
 },
 "nbformat": 4,
 "nbformat_minor": 2
}

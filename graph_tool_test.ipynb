{
 "cells": [
  {
   "cell_type": "code",
   "execution_count": 1,
   "metadata": {
    "collapsed": false,
    "deletable": true,
    "editable": true
   },
   "outputs": [],
   "source": [
    "import networkx as nx\n",
    "import numpy as np\n",
    "import random\n",
    "import math\n",
    "from synthetic_data import add_p_and_delta, load_data_by_gtype\n",
    "from network_stat import get_stat\n",
    "from graph_tool.all import load_graph, GraphView, shortest_distance, bfs_search\n",
    "from tqdm import tqdm"
   ]
  },
  {
   "cell_type": "code",
   "execution_count": 2,
   "metadata": {
    "collapsed": false
   },
   "outputs": [],
   "source": [
    "maxint = np.iinfo(np.int32).max"
   ]
  },
  {
   "cell_type": "code",
   "execution_count": 16,
   "metadata": {
    "collapsed": false,
    "deletable": true,
    "editable": true
   },
   "outputs": [],
   "source": [
    "g = load_graph('data/dblp-collab/graph.gt')"
   ]
  },
  {
   "cell_type": "code",
   "execution_count": 4,
   "metadata": {
    "collapsed": false
   },
   "outputs": [],
   "source": [
    "p = 0.7"
   ]
  },
  {
   "cell_type": "code",
   "execution_count": 5,
   "metadata": {
    "collapsed": false,
    "deletable": true,
    "editable": true
   },
   "outputs": [],
   "source": [
    "K = 100\n",
    "rands2d = np.random.random((K, g.num_edges()))"
   ]
  },
  {
   "cell_type": "code",
   "execution_count": 6,
   "metadata": {
    "collapsed": true
   },
   "outputs": [],
   "source": [
    "edge_masks2d = (rands2d <= p)"
   ]
  },
  {
   "cell_type": "code",
   "execution_count": 7,
   "metadata": {
    "collapsed": false
   },
   "outputs": [],
   "source": [
    "sampled_edges_list = []\n",
    "for i in range(K):\n",
    "    p = g.new_edge_property('bool')\n",
    "    p.set_2d_array(edge_masks2d[i, :])\n",
    "    sampled_edges_list.append(p)"
   ]
  },
  {
   "cell_type": "code",
   "execution_count": 8,
   "metadata": {
    "collapsed": false
   },
   "outputs": [
    {
     "name": "stdout",
     "output_type": "stream",
     "text": [
      "1 loop, best of 1: 44.1 ms per loop\n"
     ]
    }
   ],
   "source": [
    "%%timeit -r 1 -n 1\n",
    "for p in sampled_edges_list:\n",
    "    gv = GraphView(g, efilt=p)\n",
    "    # print(gv.num_edges() / g.num_edges())"
   ]
  },
  {
   "cell_type": "code",
   "execution_count": 9,
   "metadata": {
    "collapsed": false
   },
   "outputs": [
    {
     "name": "stdout",
     "output_type": "stream",
     "text": [
      "1 loop, best of 1: 2.7 ms per loop\n"
     ]
    }
   ],
   "source": [
    "%%timeit -r 1 -n 1\n",
    "for p in sampled_edges_list:\n",
    "    g.set_edge_filter(p)\n",
    "    # print(gv.num_edges() / g.num_edges())"
   ]
  },
  {
   "cell_type": "code",
   "execution_count": 11,
   "metadata": {
    "collapsed": true
   },
   "outputs": [],
   "source": [
    "def activate_edges_by_p(g, p):\n",
    "    \"\"\"mask the edge according to probability p and return the masked graph\"\"\"\n",
    "    flags = (np.random.random(g.num_edges()) <= p)\n",
    "    p = g.new_edge_property('bool')\n",
    "    p.set_2d_array(flags)\n",
    "    g.set_edge_filter(p)\n",
    "    return g"
   ]
  },
  {
   "cell_type": "code",
   "execution_count": 18,
   "metadata": {
    "collapsed": false
   },
   "outputs": [],
   "source": [
    "g.set_edge_filter(None)\n",
    "num_edges = g.num_edges()\n",
    "percent = activate_edges_by_p(g, 0.7).num_edges() / num_edges\n",
    "np.testing.assert_almost_equal(percent, 0.7, decimal=1)\n",
    "g.set_edge_filter(None)"
   ]
  },
  {
   "cell_type": "code",
   "execution_count": 31,
   "metadata": {
    "collapsed": true
   },
   "outputs": [],
   "source": [
    "def simulate_cascade(g, p, source=None):\n",
    "    \"\"\"return np.ndarray on vertices as the infection time in cascade\n",
    "    uninfected node has dist -1\n",
    "    \"\"\"\n",
    "    if source is None:\n",
    "        source = random.choice(np.arange(g.num_vertices(), dtype=int))\n",
    "    activate_edges_by_p(g, p)\n",
    "    \n",
    "    dist = shortest_distance(g, source=g.vertex(source)).a\n",
    "    dist[dist == maxint] = -1\n",
    "    g.set_edge_filter(None)\n",
    "    return dist"
   ]
  },
  {
   "cell_type": "code",
   "execution_count": 35,
   "metadata": {
    "collapsed": true
   },
   "outputs": [],
   "source": [
    "c = simulate_cascade(g, 0.7)"
   ]
  },
  {
   "cell_type": "code",
   "execution_count": 37,
   "metadata": {
    "collapsed": false
   },
   "outputs": [
    {
     "data": {
      "text/plain": [
       "(PropertyArray(-1, dtype=int32), PropertyArray(19, dtype=int32))"
      ]
     },
     "execution_count": 37,
     "metadata": {},
     "output_type": "execute_result"
    }
   ],
   "source": [
    "c.min(), c.max()"
   ]
  },
  {
   "cell_type": "code",
   "execution_count": 39,
   "metadata": {
    "collapsed": false
   },
   "outputs": [
    {
     "data": {
      "text/plain": [
       "0.9087485807997981"
      ]
     },
     "execution_count": 39,
     "metadata": {},
     "output_type": "execute_result"
    }
   ],
   "source": [
    "c[c != -1].shape[0] / g.num_vertices()"
   ]
  },
  {
   "cell_type": "code",
   "execution_count": 52,
   "metadata": {
    "collapsed": true
   },
   "outputs": [],
   "source": [
    "def observe_cascade(c, q, method='uniform'):\n",
    "    all_infection = np.nonzero(c != -1)[0]\n",
    "    num_obs = int(math.ceil(all_infection.shape[0] * q))\n",
    "    if method == 'uniform':\n",
    "        return np.random.permutation(all_infection)[:num_obs]\n",
    "    elif method == 'late':\n",
    "        return np.argsort(c)[-num_obs:]"
   ]
  },
  {
   "cell_type": "code",
   "execution_count": 53,
   "metadata": {
    "collapsed": false,
    "scrolled": true
   },
   "outputs": [
    {
     "name": "stdout",
     "output_type": "stream",
     "text": [
      "6 16\n"
     ]
    }
   ],
   "source": [
    "obs = observe_cascade(c, 0.01)\n",
    "print(c[obs].min(), c[obs].max())"
   ]
  },
  {
   "cell_type": "code",
   "execution_count": 54,
   "metadata": {
    "collapsed": false
   },
   "outputs": [
    {
     "name": "stdout",
     "output_type": "stream",
     "text": [
      "13 19\n"
     ]
    }
   ],
   "source": [
    "obs = observe_cascade(c, 0.01, 'late')\n",
    "print(c[obs].min(), c[obs].max())"
   ]
  },
  {
   "cell_type": "code",
   "execution_count": null,
   "metadata": {
    "collapsed": true
   },
   "outputs": [],
   "source": [
    "def source_likelihood_drs(g, obs_nodes, sim_flags,\n",
    "                          infection_times,\n",
    "                          source=None,\n",
    "                          debug=False,\n",
    "                          eps=1e-3,\n",
    "                          nan_proba=0.1):\n",
    "    num_nodes = g.num_vertices()\n",
    "    N2 = len(sim_flags)\n",
    "    \n",
    "    source_likelihood = np.ones(n_nodes, dtype=np.float64) / n_nodes\n",
    "    obs_nodes = list(obs_nodes)\n",
    "    for o1, o2 in itertools.combinations(obs_nodes, 2):\n",
    "        t1, t2 = infection_times[o1], infection_times[o2]\n",
    "\n",
    "        sim_mask, counts = precondition_mask_and_count(o1, o2, inf_time_3d)\n",
    "\n",
    "        probas = (np.sum(((inf_time_3d[:, o1, :] - inf_time_3d[:, o2, :]) == (t1 - t2)) * sim_mask,\n",
    "                         axis=1)\n",
    "                  / counts)\n",
    "        probas[np.isnan(probas)] = nan_proba\n",
    "        \n",
    "        if debug:\n",
    "            print('t1={}, t2={}'.format(t1, t2))\n",
    "            print('source reward: {:.2f}'.format(probas[source]))\n",
    "            print('obs reward: {}'.format([probas[obs] for obs in set(obs_nodes)-{source}]))\n",
    "\n",
    "        source_likelihood *= (probas + eps)\n",
    "        source_likelihood /= source_likelihood.sum()\n",
    "    return source_likelihood"
   ]
  }
 ],
 "metadata": {
  "kernelspec": {
   "display_name": "Python 3",
   "language": "python",
   "name": "python3"
  },
  "language_info": {
   "codemirror_mode": {
    "name": "ipython",
    "version": 3
   },
   "file_extension": ".py",
   "mimetype": "text/x-python",
   "name": "python",
   "nbconvert_exporter": "python",
   "pygments_lexer": "ipython3",
   "version": "3.5.2"
  }
 },
 "nbformat": 4,
 "nbformat_minor": 2
}

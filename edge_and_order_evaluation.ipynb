{
 "cells": [
  {
   "cell_type": "code",
   "execution_count": 24,
   "metadata": {
    "collapsed": true
   },
   "outputs": [],
   "source": [
    "import pickle as pkl\n",
    "import pandas as pd\n",
    "from graph_tool.all import GraphView, load_graph\n",
    "from glob import glob\n",
    "from utils import edges2graph, extract_edges\n",
    "from tqdm import tqdm\n"
   ]
  },
  {
   "cell_type": "code",
   "execution_count": 32,
   "metadata": {
    "collapsed": false
   },
   "outputs": [
    {
     "name": "stdout",
     "output_type": "stream",
     "text": [
      "grid/2-6\n",
      "outputs/paper_experiment/1.0/\n"
     ]
    }
   ],
   "source": [
    "if True:\n",
    "    graph_name = 'grid/2-6'\n",
    "    result_dir = 'outputs/paper_experiment/1.0/'\n",
    "else:\n",
    "    graph_name = 'p2p-gnutella08'\n",
    "    result_dir = 'outputs/paper_experiment/p2p-gnutella08/si/mst/qs/0.005/'\n",
    "\n",
    "print(graph_name)\n",
    "print(result_dir)"
   ]
  },
  {
   "cell_type": "code",
   "execution_count": 33,
   "metadata": {
    "collapsed": false
   },
   "outputs": [
    {
     "name": "stderr",
     "output_type": "stream",
     "text": [
      "100%|██████████| 10/10 [00:00<00:00, 39.34it/s]\n"
     ]
    }
   ],
   "source": [
    "g = load_graph('data/{}/graph.gt'.format(graph_name))\n",
    "rows = []\n",
    "for p in tqdm(glob(result_dir + \"/*.pkl\")):\n",
    "    infection_times, source, obs_nodes, true_edges, pred_edges = pkl.load(open(p, 'rb'))\n",
    "    pred_tree = edges2graph(g, pred_edges)\n",
    "    true_tree = edges2graph(g, true_edges)\n",
    "    \n",
    "    pred_edges = set(extract_edges(pred_tree))\n",
    "    true_edges = set(extract_edges(true_tree))\n",
    "    \n",
    "    common_edges = pred_edges.intersection(true_edges)\n",
    "    precision = len(common_edges) / len(pred_edges)\n",
    "    recall = len(common_edges) / len(true_edges)\n",
    "    rows.append((precision, recall, len(pred_edges), len(true_edges)))"
   ]
  },
  {
   "cell_type": "code",
   "execution_count": 34,
   "metadata": {
    "collapsed": false
   },
   "outputs": [
    {
     "data": {
      "text/html": [
       "<div>\n",
       "<table border=\"1\" class=\"dataframe\">\n",
       "  <thead>\n",
       "    <tr style=\"text-align: right;\">\n",
       "      <th></th>\n",
       "      <th>precision</th>\n",
       "      <th>recall</th>\n",
       "      <th>|T'|</th>\n",
       "      <th>T</th>\n",
       "    </tr>\n",
       "  </thead>\n",
       "  <tbody>\n",
       "    <tr>\n",
       "      <th>count</th>\n",
       "      <td>10.000000</td>\n",
       "      <td>10.000000</td>\n",
       "      <td>10.000000</td>\n",
       "      <td>10.000000</td>\n",
       "    </tr>\n",
       "    <tr>\n",
       "      <th>mean</th>\n",
       "      <td>0.673878</td>\n",
       "      <td>0.673878</td>\n",
       "      <td>36.000000</td>\n",
       "      <td>36.000000</td>\n",
       "    </tr>\n",
       "    <tr>\n",
       "      <th>std</th>\n",
       "      <td>0.062443</td>\n",
       "      <td>0.062443</td>\n",
       "      <td>2.624669</td>\n",
       "      <td>2.624669</td>\n",
       "    </tr>\n",
       "    <tr>\n",
       "      <th>min</th>\n",
       "      <td>0.567568</td>\n",
       "      <td>0.567568</td>\n",
       "      <td>32.000000</td>\n",
       "      <td>32.000000</td>\n",
       "    </tr>\n",
       "    <tr>\n",
       "      <th>25%</th>\n",
       "      <td>0.648086</td>\n",
       "      <td>0.648086</td>\n",
       "      <td>34.250000</td>\n",
       "      <td>34.250000</td>\n",
       "    </tr>\n",
       "    <tr>\n",
       "      <th>50%</th>\n",
       "      <td>0.686323</td>\n",
       "      <td>0.686323</td>\n",
       "      <td>36.500000</td>\n",
       "      <td>36.500000</td>\n",
       "    </tr>\n",
       "    <tr>\n",
       "      <th>75%</th>\n",
       "      <td>0.712544</td>\n",
       "      <td>0.712544</td>\n",
       "      <td>37.000000</td>\n",
       "      <td>37.000000</td>\n",
       "    </tr>\n",
       "    <tr>\n",
       "      <th>max</th>\n",
       "      <td>0.764706</td>\n",
       "      <td>0.764706</td>\n",
       "      <td>41.000000</td>\n",
       "      <td>41.000000</td>\n",
       "    </tr>\n",
       "  </tbody>\n",
       "</table>\n",
       "</div>"
      ],
      "text/plain": [
       "       precision     recall       |T'|          T\n",
       "count  10.000000  10.000000  10.000000  10.000000\n",
       "mean    0.673878   0.673878  36.000000  36.000000\n",
       "std     0.062443   0.062443   2.624669   2.624669\n",
       "min     0.567568   0.567568  32.000000  32.000000\n",
       "25%     0.648086   0.648086  34.250000  34.250000\n",
       "50%     0.686323   0.686323  36.500000  36.500000\n",
       "75%     0.712544   0.712544  37.000000  37.000000\n",
       "max     0.764706   0.764706  41.000000  41.000000"
      ]
     },
     "execution_count": 34,
     "metadata": {},
     "output_type": "execute_result"
    }
   ],
   "source": [
    "df = pd.DataFrame(rows, columns=['precision', 'recall', '|T\\'|', 'T'])\n",
    "df.describe()"
   ]
  }
 ],
 "metadata": {
  "kernelspec": {
   "display_name": "Python 3",
   "language": "python",
   "name": "python3"
  },
  "language_info": {
   "codemirror_mode": {
    "name": "ipython",
    "version": 3
   },
   "file_extension": ".py",
   "mimetype": "text/x-python",
   "name": "python",
   "nbconvert_exporter": "python",
   "pygments_lexer": "ipython3",
   "version": "3.5.2"
  }
 },
 "nbformat": 4,
 "nbformat_minor": 2
}

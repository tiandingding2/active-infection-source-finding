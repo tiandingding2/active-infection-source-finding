{
 "cells": [
  {
   "cell_type": "code",
   "execution_count": 2,
   "metadata": {
    "collapsed": true
   },
   "outputs": [],
   "source": [
    "%matplotlib notebook\n",
    "# starter code\n",
    "from tqdm import tqdm\n",
    "import networkx as nx\n",
    "from graph_tool.all import load_graph, shortest_distance\n",
    "from ic import simulate_cascade, observe_cascade, get_gvs, get_o2src_time, get_infection_time\n",
    "from utils import get_rank_index\n",
    "\n",
    "gtype = 'balanced-tree'\n",
    "g = load_graph('data/{}/2-6/graph.gt'.format(gtype))\n",
    "gnx = nx.read_graphml('data/{}/2-6/graph.graphml'.format(gtype))\n",
    "gnx = nx.relabel_nodes(gnx, {i: int(i) for i in gnx.nodes_iter()})\n",
    "N1, N2 = 100, 100\n",
    "p, q = 0.5, 0.2\n",
    "\n",
    "gvs = get_gvs(g, p, N2)\n"
   ]
  },
  {
   "cell_type": "code",
   "execution_count": 4,
   "metadata": {
    "collapsed": true
   },
   "outputs": [],
   "source": [
    "import random\n",
    "\n",
    "q = random.choice(np.arange(g.num_vertices()))"
   ]
  },
  {
   "cell_type": "code",
   "execution_count": 29,
   "metadata": {
    "collapsed": true
   },
   "outputs": [],
   "source": [
    "def get_reward_for_uninfected_query(q, gvs):\n",
    "    infection_times = np.array([get_infection_time(gv, q) for gv in gvs])\n",
    "    infection_times[infection_times > 0] = 0\n",
    "    infection_times[infection_times < 0] = 1\n",
    "\n",
    "    return infection_times.sum(axis=0) / infection_times.shape[0]"
   ]
  },
  {
   "cell_type": "code",
   "execution_count": 30,
   "metadata": {
    "collapsed": false
   },
   "outputs": [],
   "source": [
    "reward = get_reward_for_uninfected_query(q, gvs)"
   ]
  }
 ],
 "metadata": {
  "kernelspec": {
   "display_name": "Python 3",
   "language": "python",
   "name": "python3"
  },
  "language_info": {
   "codemirror_mode": {
    "name": "ipython",
    "version": 3
   },
   "file_extension": ".py",
   "mimetype": "text/x-python",
   "name": "python",
   "nbconvert_exporter": "python",
   "pygments_lexer": "ipython3",
   "version": "3.5.2"
  }
 },
 "nbformat": 4,
 "nbformat_minor": 2
}

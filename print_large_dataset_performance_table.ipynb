{
 "cells": [
  {
   "cell_type": "code",
   "execution_count": 21,
   "metadata": {
    "collapsed": true
   },
   "outputs": [],
   "source": [
    "import pandas as pd\n",
    "from graph_tool import load_graph"
   ]
  },
  {
   "cell_type": "code",
   "execution_count": 27,
   "metadata": {
    "collapsed": true
   },
   "outputs": [],
   "source": [
    "datasets = ['slashdot', 'twitter', 'dblp-collab', 'gplus', 'pokec']"
   ]
  },
  {
   "cell_type": "code",
   "execution_count": 28,
   "metadata": {
    "collapsed": true
   },
   "outputs": [],
   "source": [
    "gs = [load_graph('data/{}/graph.gt'.format(d)) for d in datasets]"
   ]
  },
  {
   "cell_type": "code",
   "execution_count": 29,
   "metadata": {
    "collapsed": true
   },
   "outputs": [],
   "source": [
    "n_nodes = [g.num_vertices() for g in  gs]\n",
    "n_edges = [g.num_edges() for g in  gs]"
   ]
  },
  {
   "cell_type": "code",
   "execution_count": 77,
   "metadata": {
    "collapsed": true
   },
   "outputs": [],
   "source": [
    "time_dfs = [pd.read_pickle('outputs/paper_experiment/{}/si/tbfs/qs/0.1.time.pkl'.format(d)) for d in datasets]\n",
    "times = [df['time']['mean'] for df in time_dfs]"
   ]
  },
  {
   "cell_type": "code",
   "execution_count": 78,
   "metadata": {
    "collapsed": false
   },
   "outputs": [],
   "source": [
    "def get_row_means(dfs, col):\n",
    "    return [df[col]['mean'] for df in dfs]\n"
   ]
  },
  {
   "cell_type": "code",
   "execution_count": 79,
   "metadata": {
    "collapsed": false
   },
   "outputs": [],
   "source": [
    "score_dfs = [pd.read_pickle('outputs/paper_experiment/{}/si/tbfs/qs/0.1.pkl'.format(d)) for d in datasets]"
   ]
  },
  {
   "cell_type": "code",
   "execution_count": 80,
   "metadata": {
    "collapsed": false
   },
   "outputs": [
    {
     "data": {
      "text/html": [
       "<div>\n",
       "<table border=\"1\" class=\"dataframe\">\n",
       "  <thead>\n",
       "    <tr style=\"text-align: right;\">\n",
       "      <th></th>\n",
       "      <th>n.prec</th>\n",
       "      <th>n.rec</th>\n",
       "      <th>obj</th>\n",
       "      <th>e.prec</th>\n",
       "      <th>e.rec</th>\n",
       "      <th>rank-corr</th>\n",
       "      <th>order accuracy</th>\n",
       "    </tr>\n",
       "  </thead>\n",
       "  <tbody>\n",
       "    <tr>\n",
       "      <th>count</th>\n",
       "      <td>100.000000</td>\n",
       "      <td>100.000000</td>\n",
       "      <td>100.000000</td>\n",
       "      <td>100.000000</td>\n",
       "      <td>100.000000</td>\n",
       "      <td>100.000000</td>\n",
       "      <td>100.000000</td>\n",
       "    </tr>\n",
       "    <tr>\n",
       "      <th>mean</th>\n",
       "      <td>0.998340</td>\n",
       "      <td>0.143364</td>\n",
       "      <td>6193.870000</td>\n",
       "      <td>0.310625</td>\n",
       "      <td>0.044603</td>\n",
       "      <td>0.492102</td>\n",
       "      <td>0.958417</td>\n",
       "    </tr>\n",
       "    <tr>\n",
       "      <th>std</th>\n",
       "      <td>0.000634</td>\n",
       "      <td>0.001900</td>\n",
       "      <td>421.247729</td>\n",
       "      <td>0.020623</td>\n",
       "      <td>0.003067</td>\n",
       "      <td>0.030083</td>\n",
       "      <td>0.013231</td>\n",
       "    </tr>\n",
       "    <tr>\n",
       "      <th>min</th>\n",
       "      <td>0.996454</td>\n",
       "      <td>0.139011</td>\n",
       "      <td>5459.000000</td>\n",
       "      <td>0.275687</td>\n",
       "      <td>0.039170</td>\n",
       "      <td>0.393432</td>\n",
       "      <td>0.928504</td>\n",
       "    </tr>\n",
       "    <tr>\n",
       "      <th>25%</th>\n",
       "      <td>0.997938</td>\n",
       "      <td>0.142047</td>\n",
       "      <td>5815.250000</td>\n",
       "      <td>0.296772</td>\n",
       "      <td>0.042666</td>\n",
       "      <td>0.472090</td>\n",
       "      <td>0.949534</td>\n",
       "    </tr>\n",
       "    <tr>\n",
       "      <th>50%</th>\n",
       "      <td>0.998336</td>\n",
       "      <td>0.143133</td>\n",
       "      <td>6242.000000</td>\n",
       "      <td>0.307408</td>\n",
       "      <td>0.044158</td>\n",
       "      <td>0.490842</td>\n",
       "      <td>0.959434</td>\n",
       "    </tr>\n",
       "    <tr>\n",
       "      <th>75%</th>\n",
       "      <td>0.998758</td>\n",
       "      <td>0.144506</td>\n",
       "      <td>6516.500000</td>\n",
       "      <td>0.321560</td>\n",
       "      <td>0.046168</td>\n",
       "      <td>0.510764</td>\n",
       "      <td>0.967055</td>\n",
       "    </tr>\n",
       "    <tr>\n",
       "      <th>max</th>\n",
       "      <td>0.999847</td>\n",
       "      <td>0.149379</td>\n",
       "      <td>7032.000000</td>\n",
       "      <td>0.379326</td>\n",
       "      <td>0.055617</td>\n",
       "      <td>0.581264</td>\n",
       "      <td>0.990555</td>\n",
       "    </tr>\n",
       "  </tbody>\n",
       "</table>\n",
       "</div>"
      ],
      "text/plain": [
       "           n.prec       n.rec          obj      e.prec       e.rec  \\\n",
       "count  100.000000  100.000000   100.000000  100.000000  100.000000   \n",
       "mean     0.998340    0.143364  6193.870000    0.310625    0.044603   \n",
       "std      0.000634    0.001900   421.247729    0.020623    0.003067   \n",
       "min      0.996454    0.139011  5459.000000    0.275687    0.039170   \n",
       "25%      0.997938    0.142047  5815.250000    0.296772    0.042666   \n",
       "50%      0.998336    0.143133  6242.000000    0.307408    0.044158   \n",
       "75%      0.998758    0.144506  6516.500000    0.321560    0.046168   \n",
       "max      0.999847    0.149379  7032.000000    0.379326    0.055617   \n",
       "\n",
       "        rank-corr  order accuracy  \n",
       "count  100.000000      100.000000  \n",
       "mean     0.492102        0.958417  \n",
       "std      0.030083        0.013231  \n",
       "min      0.393432        0.928504  \n",
       "25%      0.472090        0.949534  \n",
       "50%      0.490842        0.959434  \n",
       "75%      0.510764        0.967055  \n",
       "max      0.581264        0.990555  "
      ]
     },
     "execution_count": 80,
     "metadata": {},
     "output_type": "execute_result"
    }
   ],
   "source": [
    "score_dfs[0]"
   ]
  },
  {
   "cell_type": "code",
   "execution_count": 81,
   "metadata": {
    "collapsed": true
   },
   "outputs": [],
   "source": [
    "from collections import OrderedDict\n",
    "d = OrderedDict()\n",
    "d['dataset'] = datasets\n",
    "d['n_nodes'] = n_nodes\n",
    "d['n_edges'] = n_edges\n",
    "d['running time'] = list(map(int, times))\n",
    "\n",
    "d['n.prec'] = get_row_means(score_dfs, 'n.prec')\n",
    "d['n.rec'] = get_row_means(score_dfs, 'n.rec')\n",
    "d['e.prec'] = get_row_means(score_dfs, 'e.prec')\n",
    "d['e.rec'] = get_row_means(score_dfs, 'e.rec')\n",
    "d['rank corr'] = get_row_means(score_dfs, 'rank-corr')\n",
    "d['order accuracy'] = get_row_means(score_dfs, 'order accuracy')\n",
    "\n"
   ]
  },
  {
   "cell_type": "code",
   "execution_count": 82,
   "metadata": {
    "collapsed": false
   },
   "outputs": [
    {
     "data": {
      "text/html": [
       "<div>\n",
       "<table border=\"1\" class=\"dataframe\">\n",
       "  <thead>\n",
       "    <tr style=\"text-align: right;\">\n",
       "      <th></th>\n",
       "      <th>dataset</th>\n",
       "      <th>n_nodes</th>\n",
       "      <th>n_edges</th>\n",
       "      <th>running time</th>\n",
       "      <th>n.prec</th>\n",
       "      <th>n.rec</th>\n",
       "      <th>e.prec</th>\n",
       "      <th>e.rec</th>\n",
       "      <th>rank corr</th>\n",
       "      <th>order accuracy</th>\n",
       "    </tr>\n",
       "  </thead>\n",
       "  <tbody>\n",
       "    <tr>\n",
       "      <th>0</th>\n",
       "      <td>slashdot</td>\n",
       "      <td>77360</td>\n",
       "      <td>905468</td>\n",
       "      <td>14</td>\n",
       "      <td>0.998340</td>\n",
       "      <td>0.143364</td>\n",
       "      <td>0.310625</td>\n",
       "      <td>0.044603</td>\n",
       "      <td>0.492102</td>\n",
       "      <td>0.958417</td>\n",
       "    </tr>\n",
       "    <tr>\n",
       "      <th>1</th>\n",
       "      <td>twitter</td>\n",
       "      <td>81306</td>\n",
       "      <td>1768149</td>\n",
       "      <td>18</td>\n",
       "      <td>0.995253</td>\n",
       "      <td>0.127777</td>\n",
       "      <td>0.160092</td>\n",
       "      <td>0.020548</td>\n",
       "      <td>0.491068</td>\n",
       "      <td>0.972546</td>\n",
       "    </tr>\n",
       "    <tr>\n",
       "      <th>2</th>\n",
       "      <td>dblp-collab</td>\n",
       "      <td>317080</td>\n",
       "      <td>1049866</td>\n",
       "      <td>69</td>\n",
       "      <td>0.987538</td>\n",
       "      <td>0.171335</td>\n",
       "      <td>0.332404</td>\n",
       "      <td>0.057669</td>\n",
       "      <td>0.421186</td>\n",
       "      <td>0.875705</td>\n",
       "    </tr>\n",
       "    <tr>\n",
       "      <th>3</th>\n",
       "      <td>gplus</td>\n",
       "      <td>107614</td>\n",
       "      <td>13673453</td>\n",
       "      <td>67</td>\n",
       "      <td>0.999800</td>\n",
       "      <td>0.113037</td>\n",
       "      <td>0.066765</td>\n",
       "      <td>0.007550</td>\n",
       "      <td>0.434652</td>\n",
       "      <td>0.985592</td>\n",
       "    </tr>\n",
       "    <tr>\n",
       "      <th>4</th>\n",
       "      <td>pokec</td>\n",
       "      <td>1632804</td>\n",
       "      <td>30622564</td>\n",
       "      <td>1207</td>\n",
       "      <td>0.988216</td>\n",
       "      <td>0.148471</td>\n",
       "      <td>0.121826</td>\n",
       "      <td>0.018307</td>\n",
       "      <td>0.348269</td>\n",
       "      <td>0.888288</td>\n",
       "    </tr>\n",
       "  </tbody>\n",
       "</table>\n",
       "</div>"
      ],
      "text/plain": [
       "       dataset  n_nodes   n_edges  running time    n.prec     n.rec    e.prec  \\\n",
       "0     slashdot    77360    905468            14  0.998340  0.143364  0.310625   \n",
       "1      twitter    81306   1768149            18  0.995253  0.127777  0.160092   \n",
       "2  dblp-collab   317080   1049866            69  0.987538  0.171335  0.332404   \n",
       "3        gplus   107614  13673453            67  0.999800  0.113037  0.066765   \n",
       "4        pokec  1632804  30622564          1207  0.988216  0.148471  0.121826   \n",
       "\n",
       "      e.rec  rank corr  order accuracy  \n",
       "0  0.044603   0.492102        0.958417  \n",
       "1  0.020548   0.491068        0.972546  \n",
       "2  0.057669   0.421186        0.875705  \n",
       "3  0.007550   0.434652        0.985592  \n",
       "4  0.018307   0.348269        0.888288  "
      ]
     },
     "execution_count": 82,
     "metadata": {},
     "output_type": "execute_result"
    }
   ],
   "source": [
    "df = pd.DataFrame.from_dict(d)\n",
    "# df.set_index('dataset', inplace=True)\n",
    "df"
   ]
  },
  {
   "cell_type": "code",
   "execution_count": 83,
   "metadata": {
    "collapsed": false
   },
   "outputs": [
    {
     "name": "stdout",
     "output_type": "stream",
     "text": [
      "\\begin{tabular}{cccccccccc}\n",
      "\\toprule\n",
      "     dataset &  n\\_nodes &   n\\_edges &  running time &  n.prec &  n.rec &  e.prec &  e.rec &  rank corr &  order accuracy \\\\\n",
      "\\midrule\n",
      "    slashdot &    77360 &    905468 &            14 &    1.00 &   0.14 &    0.31 &   0.04 &       0.49 &            0.96 \\\\\n",
      "     twitter &    81306 &   1768149 &            18 &    1.00 &   0.13 &    0.16 &   0.02 &       0.49 &            0.97 \\\\\n",
      " dblp-collab &   317080 &   1049866 &            69 &    0.99 &   0.17 &    0.33 &   0.06 &       0.42 &            0.88 \\\\\n",
      "       gplus &   107614 &  13673453 &            67 &    1.00 &   0.11 &    0.07 &   0.01 &       0.43 &            0.99 \\\\\n",
      "       pokec &  1632804 &  30622564 &          1207 &    0.99 &   0.15 &    0.12 &   0.02 &       0.35 &            0.89 \\\\\n",
      "\\bottomrule\n",
      "\\end{tabular}\n",
      "\n"
     ]
    }
   ],
   "source": [
    "print(df.to_latex(index=False,\n",
    "                  column_format='c' * df.shape[1],\n",
    "                  float_format=lambda f: '{:.2f}'.format(f),\n",
    "                  bold_rows=True))"
   ]
  }
 ],
 "metadata": {
  "kernelspec": {
   "display_name": "Python 3",
   "language": "python",
   "name": "python3"
  },
  "language_info": {
   "codemirror_mode": {
    "name": "ipython",
    "version": 3
   },
   "file_extension": ".py",
   "mimetype": "text/x-python",
   "name": "python",
   "nbconvert_exporter": "python",
   "pygments_lexer": "ipython3",
   "version": "3.5.2"
  }
 },
 "nbformat": 4,
 "nbformat_minor": 2
}

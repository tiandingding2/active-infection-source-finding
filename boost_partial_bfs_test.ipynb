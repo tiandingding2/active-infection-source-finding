{
 "cells": [
  {
   "cell_type": "code",
   "execution_count": 1,
   "metadata": {
    "collapsed": false,
    "deletable": true,
    "editable": true
   },
   "outputs": [],
   "source": [
    "%matplotlib notebook\n",
    "# starter code\n",
    "import random\n",
    "import numpy as np\n",
    "from matplotlib import pyplot as plt\n",
    "from tqdm import tqdm\n",
    "import networkx as nx\n",
    "from graph_tool.all import load_graph, shortest_distance, GraphView, pbfs_search, BFSVisitor, Graph, min_spanning_tree\n",
    "from networkx.drawing.nx_agraph import graphviz_layout\n",
    "\n",
    "from ic import simulate_cascade, observe_cascade, get_gvs, get_o2src_time, get_infection_time, gen_nontrivial_cascade\n",
    "from utils import get_rank_index\n",
    "\n",
    "seed = 123456\n",
    "random.seed(seed)\n",
    "np.random.seed(seed)\n",
    "\n",
    "gtype = 'balanced-tree'\n",
    "g = load_graph('data/{}/2-6/graph.gt'.format(gtype))\n",
    "gnx = nx.read_graphml('data/{}/2-6/graph.graphml'.format(gtype))\n",
    "gnx = nx.relabel_nodes(gnx, {i: int(i) for i in gnx.nodes_iter()})\n",
    "N1, N2 = 100, 100\n",
    "p, q = 0.8, 0.1\n",
    "\n",
    "gvs = get_gvs(g, p, N2)\n",
    "pos = graphviz_layout(gnx, root=0)"
   ]
  },
  {
   "cell_type": "code",
   "execution_count": 2,
   "metadata": {
    "collapsed": false,
    "deletable": true,
    "editable": true
   },
   "outputs": [],
   "source": [
    "infection_times, source, obs_nodes, true_tree = gen_nontrivial_cascade(g, p, q, return_tree=True)"
   ]
  },
  {
   "cell_type": "code",
   "execution_count": 3,
   "metadata": {
    "collapsed": false,
    "deletable": true,
    "editable": true
   },
   "outputs": [
    {
     "ename": "SyntaxError",
     "evalue": "trailing comma not allowed without surrounding parentheses (steiner_tree_mst.py, line 3)",
     "output_type": "error",
     "traceback": [
      "\u001b[0;36m  File \u001b[0;32m\"/home/cloud-user/code/source_finding/steiner_tree_mst.py\"\u001b[0;36m, line \u001b[0;32m3\u001b[0m\n\u001b[0;31m    from graph_tool.all import GraphView, pbfs_search, BFSVisitor, Graph,\u001b[0m\n\u001b[0m                              ^\u001b[0m\n\u001b[0;31mSyntaxError\u001b[0m\u001b[0;31m:\u001b[0m trailing comma not allowed without surrounding parentheses\n"
     ]
    }
   ],
   "source": [
    "from steiner_tree_mst import init_visitor, extract_tree, pbfs_search, steiner_tree_mst\n",
    "terminals = list(obs_nodes)\n",
    "root=source\n",
    "vis = init_visitor(g, root)\n",
    "\n",
    "pbfs_search(g, source=root,\n",
    "            visitor=vis,\n",
    "            terminals=terminals,\n",
    "            count_threshold=-1)\n",
    "bfs_tree = extract_tree(g, root, vis.pred, terminals)"
   ]
  },
  {
   "cell_type": "code",
   "execution_count": null,
   "metadata": {
    "collapsed": false,
    "deletable": true,
    "editable": true
   },
   "outputs": [],
   "source": [
    "from plot_utils import plot_snapshot\n",
    "from utils import extract_edges\n",
    "\n",
    "fig, ax = plt.subplots(1, 1, figsize=(5, 5))\n",
    "plot_snapshot(gnx, pos, infection_times, queried_nodes=obs_nodes, source_node=source, with_labels=True,\n",
    "              ax=ax,\n",
    "              edges=extract_edges(bfs_tree))"
   ]
  },
  {
   "cell_type": "code",
   "execution_count": null,
   "metadata": {
    "collapsed": false,
    "deletable": true,
    "editable": true
   },
   "outputs": [],
   "source": [
    "original_tree, gc, mst_tree = steiner_tree_mst(g, source, \n",
    "                                               infection_times, source, \n",
    "                                               list(obs_nodes), return_closure=True, debug=True)"
   ]
  },
  {
   "cell_type": "code",
   "execution_count": null,
   "metadata": {
    "collapsed": false
   },
   "outputs": [],
   "source": [
    "gc, eweight, r2pred = build_closure(g, source, obs_nodes, infection_times, k=-1, debug=True)"
   ]
  },
  {
   "cell_type": "code",
   "execution_count": null,
   "metadata": {
    "collapsed": false,
    "deletable": true,
    "editable": true
   },
   "outputs": [],
   "source": [
    "fig, ax = plt.subplots(3, 2, figsize=(10, 15))\n",
    "plot_snapshot(gnx, pos, infection_times, queried_nodes=obs_nodes, source_node=source, with_labels=True,\n",
    "              ax=ax[0, 0],\n",
    "              edges=extract_edges(true_tree))\n",
    "ax[0, 0].set_title('cascade tree')\n",
    "plot_snapshot(gnx, pos, infection_times, queried_nodes=obs_nodes, source_node=source, with_labels=True,\n",
    "              ax=ax[0, 1],\n",
    "              edges=extract_edges(gc))\n",
    "ax[0, 1].set_title('closure graph')\n",
    "plot_snapshot(gnx, pos, infection_times, queried_nodes=obs_nodes, source_node=source, with_labels=True,\n",
    "              ax=ax[1, 0],\n",
    "              edges=extract_edges(mst_tree))\n",
    "ax[1, 0].set_title('spanning tree on closure graph')\n",
    "plot_snapshot(gnx, pos, infection_times, queried_nodes=obs_nodes, source_node=source, with_labels=True,\n",
    "              ax=ax[1, 1],\n",
    "              edges=extract_edges(original_tree))\n",
    "ax[1, 1].set_title('steiner tree on original graph: m={}'.format(original_tree.num_edges()))\n",
    "plot_snapshot(gnx, pos, infection_times, queried_nodes=obs_nodes, source_node=source, with_labels=True,\n",
    "              ax=ax[2, 0],\n",
    "              edges=extract_edges(bfs_tree))\n",
    "ax[2, 0].set_title('tree by BFS heuristic: m={}'.format(bfs_tree.num_edges()))"
   ]
  },
  {
   "cell_type": "code",
   "execution_count": null,
   "metadata": {
    "collapsed": false,
    "deletable": true,
    "editable": true
   },
   "outputs": [],
   "source": [
    "%%timeit -r1 -n1\n",
    "from steiner_tree_order import tree_sizes_by_roots\n",
    "from utils import get_rank_index\n",
    "sizes = tree_sizes_by_roots(g, obs_nodes, infection_times, source, method='mst')\n",
    "get_rank_index(sizes, source)"
   ]
  }
 ],
 "metadata": {
  "kernelspec": {
   "display_name": "Python 3",
   "language": "python",
   "name": "python3"
  },
  "language_info": {
   "codemirror_mode": {
    "name": "ipython",
    "version": 3
   },
   "file_extension": ".py",
   "mimetype": "text/x-python",
   "name": "python",
   "nbconvert_exporter": "python",
   "pygments_lexer": "ipython3",
   "version": "3.5.2"
  }
 },
 "nbformat": 4,
 "nbformat_minor": 2
}
